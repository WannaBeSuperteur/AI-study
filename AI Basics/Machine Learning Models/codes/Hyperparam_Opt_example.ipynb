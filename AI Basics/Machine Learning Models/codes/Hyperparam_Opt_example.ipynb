{
  "nbformat": 4,
  "nbformat_minor": 0,
  "metadata": {
    "colab": {
      "provenance": []
    },
    "kernelspec": {
      "name": "python3",
      "display_name": "Python 3"
    },
    "language_info": {
      "name": "python"
    }
  },
  "cells": [
    {
      "cell_type": "code",
      "execution_count": 373,
      "metadata": {
        "colab": {
          "base_uri": "https://localhost:8080/"
        },
        "id": "vjfoqsP6p6FK",
        "outputId": "d4b8a175-5af6-42de-994a-a29fc9bc8d9b"
      },
      "outputs": [
        {
          "output_type": "stream",
          "name": "stdout",
          "text": [
            "Requirement already satisfied: optuna in /usr/local/lib/python3.11/dist-packages (4.2.1)\n",
            "Requirement already satisfied: alembic>=1.5.0 in /usr/local/lib/python3.11/dist-packages (from optuna) (1.14.1)\n",
            "Requirement already satisfied: colorlog in /usr/local/lib/python3.11/dist-packages (from optuna) (6.9.0)\n",
            "Requirement already satisfied: numpy in /usr/local/lib/python3.11/dist-packages (from optuna) (1.26.4)\n",
            "Requirement already satisfied: packaging>=20.0 in /usr/local/lib/python3.11/dist-packages (from optuna) (24.2)\n",
            "Requirement already satisfied: sqlalchemy>=1.4.2 in /usr/local/lib/python3.11/dist-packages (from optuna) (2.0.38)\n",
            "Requirement already satisfied: tqdm in /usr/local/lib/python3.11/dist-packages (from optuna) (4.67.1)\n",
            "Requirement already satisfied: PyYAML in /usr/local/lib/python3.11/dist-packages (from optuna) (6.0.2)\n",
            "Requirement already satisfied: Mako in /usr/local/lib/python3.11/dist-packages (from alembic>=1.5.0->optuna) (1.3.9)\n",
            "Requirement already satisfied: typing-extensions>=4 in /usr/local/lib/python3.11/dist-packages (from alembic>=1.5.0->optuna) (4.12.2)\n",
            "Requirement already satisfied: greenlet!=0.4.17 in /usr/local/lib/python3.11/dist-packages (from sqlalchemy>=1.4.2->optuna) (3.1.1)\n",
            "Requirement already satisfied: MarkupSafe>=0.9.2 in /usr/local/lib/python3.11/dist-packages (from Mako->alembic>=1.5.0->optuna) (3.0.2)\n"
          ]
        }
      ],
      "source": [
        "import numpy as np\n",
        "import pandas as pd\n",
        "import lightgbm as lgb\n",
        "\n",
        "!pip install optuna\n",
        "import optuna\n",
        "from hyperopt import hp, fmin, tpe, STATUS_OK, Trials"
      ]
    },
    {
      "cell_type": "markdown",
      "source": [
        "**1. 데이터셋 생성**"
      ],
      "metadata": {
        "id": "1F4DH_Q2sAdY"
      }
    },
    {
      "cell_type": "code",
      "source": [
        "# 데이터셋 생성\n",
        "\n",
        "n_data = 20000\n",
        "\n",
        "x1 = np.random.uniform(0, 1, n_data)  # 독립 변수 1\n",
        "x2 = np.random.uniform(0, 2, n_data)  # 독립 변수 2\n",
        "x3 = np.random.uniform(0, 3, n_data)  # 독립 변수 3\n",
        "\n",
        "y = 3 * x1 + 2 * x2 * x3 + np.random.normal(0, 0.15, n_data)  # 종속 변수 (선형 관계 + 노이즈)\n",
        "\n",
        "df = pd.DataFrame({'X1': x1, 'X2': x2, 'X3': x3, 'Y': y})\n",
        "df['y_class'] = df['Y'].apply(lambda x: f'Class {int(x) % 4 + 1}')\n",
        "df.drop(columns=['Y'], inplace=True)"
      ],
      "metadata": {
        "id": "__Vpw6Usp9tV"
      },
      "execution_count": 374,
      "outputs": []
    },
    {
      "cell_type": "code",
      "source": [
        "df"
      ],
      "metadata": {
        "colab": {
          "base_uri": "https://localhost:8080/",
          "height": 423
        },
        "id": "kx3IWz4tqwLG",
        "outputId": "4057bf1e-cbd0-4d10-8b88-94174f31e0db"
      },
      "execution_count": 375,
      "outputs": [
        {
          "output_type": "execute_result",
          "data": {
            "text/plain": [
              "             X1        X2        X3  y_class\n",
              "0      0.318304  0.760519  2.594144  Class 2\n",
              "1      0.530531  1.289671  1.953802  Class 3\n",
              "2      0.130190  1.874153  0.835364  Class 4\n",
              "3      0.433964  0.841556  1.588853  Class 4\n",
              "4      0.810383  1.182842  2.423367  Class 1\n",
              "...         ...       ...       ...      ...\n",
              "19995  0.537864  0.084874  2.037767  Class 2\n",
              "19996  0.768091  1.567483  1.897114  Class 1\n",
              "19997  0.256028  0.456639  0.581464  Class 2\n",
              "19998  0.008331  1.660972  1.377609  Class 1\n",
              "19999  0.030172  0.901814  0.816425  Class 2\n",
              "\n",
              "[20000 rows x 4 columns]"
            ],
            "text/html": [
              "\n",
              "  <div id=\"df-b4bdda2e-a63f-44ab-ba4e-615696fe3104\" class=\"colab-df-container\">\n",
              "    <div>\n",
              "<style scoped>\n",
              "    .dataframe tbody tr th:only-of-type {\n",
              "        vertical-align: middle;\n",
              "    }\n",
              "\n",
              "    .dataframe tbody tr th {\n",
              "        vertical-align: top;\n",
              "    }\n",
              "\n",
              "    .dataframe thead th {\n",
              "        text-align: right;\n",
              "    }\n",
              "</style>\n",
              "<table border=\"1\" class=\"dataframe\">\n",
              "  <thead>\n",
              "    <tr style=\"text-align: right;\">\n",
              "      <th></th>\n",
              "      <th>X1</th>\n",
              "      <th>X2</th>\n",
              "      <th>X3</th>\n",
              "      <th>y_class</th>\n",
              "    </tr>\n",
              "  </thead>\n",
              "  <tbody>\n",
              "    <tr>\n",
              "      <th>0</th>\n",
              "      <td>0.318304</td>\n",
              "      <td>0.760519</td>\n",
              "      <td>2.594144</td>\n",
              "      <td>Class 2</td>\n",
              "    </tr>\n",
              "    <tr>\n",
              "      <th>1</th>\n",
              "      <td>0.530531</td>\n",
              "      <td>1.289671</td>\n",
              "      <td>1.953802</td>\n",
              "      <td>Class 3</td>\n",
              "    </tr>\n",
              "    <tr>\n",
              "      <th>2</th>\n",
              "      <td>0.130190</td>\n",
              "      <td>1.874153</td>\n",
              "      <td>0.835364</td>\n",
              "      <td>Class 4</td>\n",
              "    </tr>\n",
              "    <tr>\n",
              "      <th>3</th>\n",
              "      <td>0.433964</td>\n",
              "      <td>0.841556</td>\n",
              "      <td>1.588853</td>\n",
              "      <td>Class 4</td>\n",
              "    </tr>\n",
              "    <tr>\n",
              "      <th>4</th>\n",
              "      <td>0.810383</td>\n",
              "      <td>1.182842</td>\n",
              "      <td>2.423367</td>\n",
              "      <td>Class 1</td>\n",
              "    </tr>\n",
              "    <tr>\n",
              "      <th>...</th>\n",
              "      <td>...</td>\n",
              "      <td>...</td>\n",
              "      <td>...</td>\n",
              "      <td>...</td>\n",
              "    </tr>\n",
              "    <tr>\n",
              "      <th>19995</th>\n",
              "      <td>0.537864</td>\n",
              "      <td>0.084874</td>\n",
              "      <td>2.037767</td>\n",
              "      <td>Class 2</td>\n",
              "    </tr>\n",
              "    <tr>\n",
              "      <th>19996</th>\n",
              "      <td>0.768091</td>\n",
              "      <td>1.567483</td>\n",
              "      <td>1.897114</td>\n",
              "      <td>Class 1</td>\n",
              "    </tr>\n",
              "    <tr>\n",
              "      <th>19997</th>\n",
              "      <td>0.256028</td>\n",
              "      <td>0.456639</td>\n",
              "      <td>0.581464</td>\n",
              "      <td>Class 2</td>\n",
              "    </tr>\n",
              "    <tr>\n",
              "      <th>19998</th>\n",
              "      <td>0.008331</td>\n",
              "      <td>1.660972</td>\n",
              "      <td>1.377609</td>\n",
              "      <td>Class 1</td>\n",
              "    </tr>\n",
              "    <tr>\n",
              "      <th>19999</th>\n",
              "      <td>0.030172</td>\n",
              "      <td>0.901814</td>\n",
              "      <td>0.816425</td>\n",
              "      <td>Class 2</td>\n",
              "    </tr>\n",
              "  </tbody>\n",
              "</table>\n",
              "<p>20000 rows × 4 columns</p>\n",
              "</div>\n",
              "    <div class=\"colab-df-buttons\">\n",
              "\n",
              "  <div class=\"colab-df-container\">\n",
              "    <button class=\"colab-df-convert\" onclick=\"convertToInteractive('df-b4bdda2e-a63f-44ab-ba4e-615696fe3104')\"\n",
              "            title=\"Convert this dataframe to an interactive table.\"\n",
              "            style=\"display:none;\">\n",
              "\n",
              "  <svg xmlns=\"http://www.w3.org/2000/svg\" height=\"24px\" viewBox=\"0 -960 960 960\">\n",
              "    <path d=\"M120-120v-720h720v720H120Zm60-500h600v-160H180v160Zm220 220h160v-160H400v160Zm0 220h160v-160H400v160ZM180-400h160v-160H180v160Zm440 0h160v-160H620v160ZM180-180h160v-160H180v160Zm440 0h160v-160H620v160Z\"/>\n",
              "  </svg>\n",
              "    </button>\n",
              "\n",
              "  <style>\n",
              "    .colab-df-container {\n",
              "      display:flex;\n",
              "      gap: 12px;\n",
              "    }\n",
              "\n",
              "    .colab-df-convert {\n",
              "      background-color: #E8F0FE;\n",
              "      border: none;\n",
              "      border-radius: 50%;\n",
              "      cursor: pointer;\n",
              "      display: none;\n",
              "      fill: #1967D2;\n",
              "      height: 32px;\n",
              "      padding: 0 0 0 0;\n",
              "      width: 32px;\n",
              "    }\n",
              "\n",
              "    .colab-df-convert:hover {\n",
              "      background-color: #E2EBFA;\n",
              "      box-shadow: 0px 1px 2px rgba(60, 64, 67, 0.3), 0px 1px 3px 1px rgba(60, 64, 67, 0.15);\n",
              "      fill: #174EA6;\n",
              "    }\n",
              "\n",
              "    .colab-df-buttons div {\n",
              "      margin-bottom: 4px;\n",
              "    }\n",
              "\n",
              "    [theme=dark] .colab-df-convert {\n",
              "      background-color: #3B4455;\n",
              "      fill: #D2E3FC;\n",
              "    }\n",
              "\n",
              "    [theme=dark] .colab-df-convert:hover {\n",
              "      background-color: #434B5C;\n",
              "      box-shadow: 0px 1px 3px 1px rgba(0, 0, 0, 0.15);\n",
              "      filter: drop-shadow(0px 1px 2px rgba(0, 0, 0, 0.3));\n",
              "      fill: #FFFFFF;\n",
              "    }\n",
              "  </style>\n",
              "\n",
              "    <script>\n",
              "      const buttonEl =\n",
              "        document.querySelector('#df-b4bdda2e-a63f-44ab-ba4e-615696fe3104 button.colab-df-convert');\n",
              "      buttonEl.style.display =\n",
              "        google.colab.kernel.accessAllowed ? 'block' : 'none';\n",
              "\n",
              "      async function convertToInteractive(key) {\n",
              "        const element = document.querySelector('#df-b4bdda2e-a63f-44ab-ba4e-615696fe3104');\n",
              "        const dataTable =\n",
              "          await google.colab.kernel.invokeFunction('convertToInteractive',\n",
              "                                                    [key], {});\n",
              "        if (!dataTable) return;\n",
              "\n",
              "        const docLinkHtml = 'Like what you see? Visit the ' +\n",
              "          '<a target=\"_blank\" href=https://colab.research.google.com/notebooks/data_table.ipynb>data table notebook</a>'\n",
              "          + ' to learn more about interactive tables.';\n",
              "        element.innerHTML = '';\n",
              "        dataTable['output_type'] = 'display_data';\n",
              "        await google.colab.output.renderOutput(dataTable, element);\n",
              "        const docLink = document.createElement('div');\n",
              "        docLink.innerHTML = docLinkHtml;\n",
              "        element.appendChild(docLink);\n",
              "      }\n",
              "    </script>\n",
              "  </div>\n",
              "\n",
              "\n",
              "<div id=\"df-77520909-0fc9-4709-b74f-5e84805aff64\">\n",
              "  <button class=\"colab-df-quickchart\" onclick=\"quickchart('df-77520909-0fc9-4709-b74f-5e84805aff64')\"\n",
              "            title=\"Suggest charts\"\n",
              "            style=\"display:none;\">\n",
              "\n",
              "<svg xmlns=\"http://www.w3.org/2000/svg\" height=\"24px\"viewBox=\"0 0 24 24\"\n",
              "     width=\"24px\">\n",
              "    <g>\n",
              "        <path d=\"M19 3H5c-1.1 0-2 .9-2 2v14c0 1.1.9 2 2 2h14c1.1 0 2-.9 2-2V5c0-1.1-.9-2-2-2zM9 17H7v-7h2v7zm4 0h-2V7h2v10zm4 0h-2v-4h2v4z\"/>\n",
              "    </g>\n",
              "</svg>\n",
              "  </button>\n",
              "\n",
              "<style>\n",
              "  .colab-df-quickchart {\n",
              "      --bg-color: #E8F0FE;\n",
              "      --fill-color: #1967D2;\n",
              "      --hover-bg-color: #E2EBFA;\n",
              "      --hover-fill-color: #174EA6;\n",
              "      --disabled-fill-color: #AAA;\n",
              "      --disabled-bg-color: #DDD;\n",
              "  }\n",
              "\n",
              "  [theme=dark] .colab-df-quickchart {\n",
              "      --bg-color: #3B4455;\n",
              "      --fill-color: #D2E3FC;\n",
              "      --hover-bg-color: #434B5C;\n",
              "      --hover-fill-color: #FFFFFF;\n",
              "      --disabled-bg-color: #3B4455;\n",
              "      --disabled-fill-color: #666;\n",
              "  }\n",
              "\n",
              "  .colab-df-quickchart {\n",
              "    background-color: var(--bg-color);\n",
              "    border: none;\n",
              "    border-radius: 50%;\n",
              "    cursor: pointer;\n",
              "    display: none;\n",
              "    fill: var(--fill-color);\n",
              "    height: 32px;\n",
              "    padding: 0;\n",
              "    width: 32px;\n",
              "  }\n",
              "\n",
              "  .colab-df-quickchart:hover {\n",
              "    background-color: var(--hover-bg-color);\n",
              "    box-shadow: 0 1px 2px rgba(60, 64, 67, 0.3), 0 1px 3px 1px rgba(60, 64, 67, 0.15);\n",
              "    fill: var(--button-hover-fill-color);\n",
              "  }\n",
              "\n",
              "  .colab-df-quickchart-complete:disabled,\n",
              "  .colab-df-quickchart-complete:disabled:hover {\n",
              "    background-color: var(--disabled-bg-color);\n",
              "    fill: var(--disabled-fill-color);\n",
              "    box-shadow: none;\n",
              "  }\n",
              "\n",
              "  .colab-df-spinner {\n",
              "    border: 2px solid var(--fill-color);\n",
              "    border-color: transparent;\n",
              "    border-bottom-color: var(--fill-color);\n",
              "    animation:\n",
              "      spin 1s steps(1) infinite;\n",
              "  }\n",
              "\n",
              "  @keyframes spin {\n",
              "    0% {\n",
              "      border-color: transparent;\n",
              "      border-bottom-color: var(--fill-color);\n",
              "      border-left-color: var(--fill-color);\n",
              "    }\n",
              "    20% {\n",
              "      border-color: transparent;\n",
              "      border-left-color: var(--fill-color);\n",
              "      border-top-color: var(--fill-color);\n",
              "    }\n",
              "    30% {\n",
              "      border-color: transparent;\n",
              "      border-left-color: var(--fill-color);\n",
              "      border-top-color: var(--fill-color);\n",
              "      border-right-color: var(--fill-color);\n",
              "    }\n",
              "    40% {\n",
              "      border-color: transparent;\n",
              "      border-right-color: var(--fill-color);\n",
              "      border-top-color: var(--fill-color);\n",
              "    }\n",
              "    60% {\n",
              "      border-color: transparent;\n",
              "      border-right-color: var(--fill-color);\n",
              "    }\n",
              "    80% {\n",
              "      border-color: transparent;\n",
              "      border-right-color: var(--fill-color);\n",
              "      border-bottom-color: var(--fill-color);\n",
              "    }\n",
              "    90% {\n",
              "      border-color: transparent;\n",
              "      border-bottom-color: var(--fill-color);\n",
              "    }\n",
              "  }\n",
              "</style>\n",
              "\n",
              "  <script>\n",
              "    async function quickchart(key) {\n",
              "      const quickchartButtonEl =\n",
              "        document.querySelector('#' + key + ' button');\n",
              "      quickchartButtonEl.disabled = true;  // To prevent multiple clicks.\n",
              "      quickchartButtonEl.classList.add('colab-df-spinner');\n",
              "      try {\n",
              "        const charts = await google.colab.kernel.invokeFunction(\n",
              "            'suggestCharts', [key], {});\n",
              "      } catch (error) {\n",
              "        console.error('Error during call to suggestCharts:', error);\n",
              "      }\n",
              "      quickchartButtonEl.classList.remove('colab-df-spinner');\n",
              "      quickchartButtonEl.classList.add('colab-df-quickchart-complete');\n",
              "    }\n",
              "    (() => {\n",
              "      let quickchartButtonEl =\n",
              "        document.querySelector('#df-77520909-0fc9-4709-b74f-5e84805aff64 button');\n",
              "      quickchartButtonEl.style.display =\n",
              "        google.colab.kernel.accessAllowed ? 'block' : 'none';\n",
              "    })();\n",
              "  </script>\n",
              "</div>\n",
              "\n",
              "  <div id=\"id_28fccffd-daad-421b-aed0-2be5fb7ca3d8\">\n",
              "    <style>\n",
              "      .colab-df-generate {\n",
              "        background-color: #E8F0FE;\n",
              "        border: none;\n",
              "        border-radius: 50%;\n",
              "        cursor: pointer;\n",
              "        display: none;\n",
              "        fill: #1967D2;\n",
              "        height: 32px;\n",
              "        padding: 0 0 0 0;\n",
              "        width: 32px;\n",
              "      }\n",
              "\n",
              "      .colab-df-generate:hover {\n",
              "        background-color: #E2EBFA;\n",
              "        box-shadow: 0px 1px 2px rgba(60, 64, 67, 0.3), 0px 1px 3px 1px rgba(60, 64, 67, 0.15);\n",
              "        fill: #174EA6;\n",
              "      }\n",
              "\n",
              "      [theme=dark] .colab-df-generate {\n",
              "        background-color: #3B4455;\n",
              "        fill: #D2E3FC;\n",
              "      }\n",
              "\n",
              "      [theme=dark] .colab-df-generate:hover {\n",
              "        background-color: #434B5C;\n",
              "        box-shadow: 0px 1px 3px 1px rgba(0, 0, 0, 0.15);\n",
              "        filter: drop-shadow(0px 1px 2px rgba(0, 0, 0, 0.3));\n",
              "        fill: #FFFFFF;\n",
              "      }\n",
              "    </style>\n",
              "    <button class=\"colab-df-generate\" onclick=\"generateWithVariable('df')\"\n",
              "            title=\"Generate code using this dataframe.\"\n",
              "            style=\"display:none;\">\n",
              "\n",
              "  <svg xmlns=\"http://www.w3.org/2000/svg\" height=\"24px\"viewBox=\"0 0 24 24\"\n",
              "       width=\"24px\">\n",
              "    <path d=\"M7,19H8.4L18.45,9,17,7.55,7,17.6ZM5,21V16.75L18.45,3.32a2,2,0,0,1,2.83,0l1.4,1.43a1.91,1.91,0,0,1,.58,1.4,1.91,1.91,0,0,1-.58,1.4L9.25,21ZM18.45,9,17,7.55Zm-12,3A5.31,5.31,0,0,0,4.9,8.1,5.31,5.31,0,0,0,1,6.5,5.31,5.31,0,0,0,4.9,4.9,5.31,5.31,0,0,0,6.5,1,5.31,5.31,0,0,0,8.1,4.9,5.31,5.31,0,0,0,12,6.5,5.46,5.46,0,0,0,6.5,12Z\"/>\n",
              "  </svg>\n",
              "    </button>\n",
              "    <script>\n",
              "      (() => {\n",
              "      const buttonEl =\n",
              "        document.querySelector('#id_28fccffd-daad-421b-aed0-2be5fb7ca3d8 button.colab-df-generate');\n",
              "      buttonEl.style.display =\n",
              "        google.colab.kernel.accessAllowed ? 'block' : 'none';\n",
              "\n",
              "      buttonEl.onclick = () => {\n",
              "        google.colab.notebook.generateWithVariable('df');\n",
              "      }\n",
              "      })();\n",
              "    </script>\n",
              "  </div>\n",
              "\n",
              "    </div>\n",
              "  </div>\n"
            ],
            "application/vnd.google.colaboratory.intrinsic+json": {
              "type": "dataframe",
              "variable_name": "df",
              "summary": "{\n  \"name\": \"df\",\n  \"rows\": 20000,\n  \"fields\": [\n    {\n      \"column\": \"X1\",\n      \"properties\": {\n        \"dtype\": \"number\",\n        \"std\": 0.2888178619851301,\n        \"min\": 5.8841532343922864e-05,\n        \"max\": 0.9999807984373452,\n        \"num_unique_values\": 20000,\n        \"samples\": [\n          0.8237766556572574,\n          0.1697146508372741,\n          0.4652059376349731\n        ],\n        \"semantic_type\": \"\",\n        \"description\": \"\"\n      }\n    },\n    {\n      \"column\": \"X2\",\n      \"properties\": {\n        \"dtype\": \"number\",\n        \"std\": 0.5774246905003729,\n        \"min\": 2.5489723549210197e-05,\n        \"max\": 1.999955270515372,\n        \"num_unique_values\": 20000,\n        \"samples\": [\n          0.914675400189781,\n          1.7395136962532014,\n          0.8574722351907587\n        ],\n        \"semantic_type\": \"\",\n        \"description\": \"\"\n      }\n    },\n    {\n      \"column\": \"X3\",\n      \"properties\": {\n        \"dtype\": \"number\",\n        \"std\": 0.8630440779235088,\n        \"min\": 0.0001864461642995252,\n        \"max\": 2.999685078903874,\n        \"num_unique_values\": 20000,\n        \"samples\": [\n          1.2278012477474773,\n          2.4568424279120102,\n          2.7160805717777525\n        ],\n        \"semantic_type\": \"\",\n        \"description\": \"\"\n      }\n    },\n    {\n      \"column\": \"y_class\",\n      \"properties\": {\n        \"dtype\": \"category\",\n        \"num_unique_values\": 4,\n        \"samples\": [\n          \"Class 3\",\n          \"Class 1\",\n          \"Class 2\"\n        ],\n        \"semantic_type\": \"\",\n        \"description\": \"\"\n      }\n    }\n  ]\n}"
            }
          },
          "metadata": {},
          "execution_count": 375
        }
      ]
    },
    {
      "cell_type": "code",
      "source": [
        "# 입력 데이터를 따로 분리\n",
        "\n",
        "X = df[['X1', 'X2', 'X3']]"
      ],
      "metadata": {
        "id": "SlHEPdmir5XE"
      },
      "execution_count": 376,
      "outputs": []
    },
    {
      "cell_type": "code",
      "source": [
        "X"
      ],
      "metadata": {
        "colab": {
          "base_uri": "https://localhost:8080/",
          "height": 423
        },
        "id": "Xsw67GV1r7Z0",
        "outputId": "57238917-0ac8-4b53-d268-5955fdc05d0b"
      },
      "execution_count": 377,
      "outputs": [
        {
          "output_type": "execute_result",
          "data": {
            "text/plain": [
              "             X1        X2        X3\n",
              "0      0.318304  0.760519  2.594144\n",
              "1      0.530531  1.289671  1.953802\n",
              "2      0.130190  1.874153  0.835364\n",
              "3      0.433964  0.841556  1.588853\n",
              "4      0.810383  1.182842  2.423367\n",
              "...         ...       ...       ...\n",
              "19995  0.537864  0.084874  2.037767\n",
              "19996  0.768091  1.567483  1.897114\n",
              "19997  0.256028  0.456639  0.581464\n",
              "19998  0.008331  1.660972  1.377609\n",
              "19999  0.030172  0.901814  0.816425\n",
              "\n",
              "[20000 rows x 3 columns]"
            ],
            "text/html": [
              "\n",
              "  <div id=\"df-b48f397d-4455-425d-bef7-583a897df2cd\" class=\"colab-df-container\">\n",
              "    <div>\n",
              "<style scoped>\n",
              "    .dataframe tbody tr th:only-of-type {\n",
              "        vertical-align: middle;\n",
              "    }\n",
              "\n",
              "    .dataframe tbody tr th {\n",
              "        vertical-align: top;\n",
              "    }\n",
              "\n",
              "    .dataframe thead th {\n",
              "        text-align: right;\n",
              "    }\n",
              "</style>\n",
              "<table border=\"1\" class=\"dataframe\">\n",
              "  <thead>\n",
              "    <tr style=\"text-align: right;\">\n",
              "      <th></th>\n",
              "      <th>X1</th>\n",
              "      <th>X2</th>\n",
              "      <th>X3</th>\n",
              "    </tr>\n",
              "  </thead>\n",
              "  <tbody>\n",
              "    <tr>\n",
              "      <th>0</th>\n",
              "      <td>0.318304</td>\n",
              "      <td>0.760519</td>\n",
              "      <td>2.594144</td>\n",
              "    </tr>\n",
              "    <tr>\n",
              "      <th>1</th>\n",
              "      <td>0.530531</td>\n",
              "      <td>1.289671</td>\n",
              "      <td>1.953802</td>\n",
              "    </tr>\n",
              "    <tr>\n",
              "      <th>2</th>\n",
              "      <td>0.130190</td>\n",
              "      <td>1.874153</td>\n",
              "      <td>0.835364</td>\n",
              "    </tr>\n",
              "    <tr>\n",
              "      <th>3</th>\n",
              "      <td>0.433964</td>\n",
              "      <td>0.841556</td>\n",
              "      <td>1.588853</td>\n",
              "    </tr>\n",
              "    <tr>\n",
              "      <th>4</th>\n",
              "      <td>0.810383</td>\n",
              "      <td>1.182842</td>\n",
              "      <td>2.423367</td>\n",
              "    </tr>\n",
              "    <tr>\n",
              "      <th>...</th>\n",
              "      <td>...</td>\n",
              "      <td>...</td>\n",
              "      <td>...</td>\n",
              "    </tr>\n",
              "    <tr>\n",
              "      <th>19995</th>\n",
              "      <td>0.537864</td>\n",
              "      <td>0.084874</td>\n",
              "      <td>2.037767</td>\n",
              "    </tr>\n",
              "    <tr>\n",
              "      <th>19996</th>\n",
              "      <td>0.768091</td>\n",
              "      <td>1.567483</td>\n",
              "      <td>1.897114</td>\n",
              "    </tr>\n",
              "    <tr>\n",
              "      <th>19997</th>\n",
              "      <td>0.256028</td>\n",
              "      <td>0.456639</td>\n",
              "      <td>0.581464</td>\n",
              "    </tr>\n",
              "    <tr>\n",
              "      <th>19998</th>\n",
              "      <td>0.008331</td>\n",
              "      <td>1.660972</td>\n",
              "      <td>1.377609</td>\n",
              "    </tr>\n",
              "    <tr>\n",
              "      <th>19999</th>\n",
              "      <td>0.030172</td>\n",
              "      <td>0.901814</td>\n",
              "      <td>0.816425</td>\n",
              "    </tr>\n",
              "  </tbody>\n",
              "</table>\n",
              "<p>20000 rows × 3 columns</p>\n",
              "</div>\n",
              "    <div class=\"colab-df-buttons\">\n",
              "\n",
              "  <div class=\"colab-df-container\">\n",
              "    <button class=\"colab-df-convert\" onclick=\"convertToInteractive('df-b48f397d-4455-425d-bef7-583a897df2cd')\"\n",
              "            title=\"Convert this dataframe to an interactive table.\"\n",
              "            style=\"display:none;\">\n",
              "\n",
              "  <svg xmlns=\"http://www.w3.org/2000/svg\" height=\"24px\" viewBox=\"0 -960 960 960\">\n",
              "    <path d=\"M120-120v-720h720v720H120Zm60-500h600v-160H180v160Zm220 220h160v-160H400v160Zm0 220h160v-160H400v160ZM180-400h160v-160H180v160Zm440 0h160v-160H620v160ZM180-180h160v-160H180v160Zm440 0h160v-160H620v160Z\"/>\n",
              "  </svg>\n",
              "    </button>\n",
              "\n",
              "  <style>\n",
              "    .colab-df-container {\n",
              "      display:flex;\n",
              "      gap: 12px;\n",
              "    }\n",
              "\n",
              "    .colab-df-convert {\n",
              "      background-color: #E8F0FE;\n",
              "      border: none;\n",
              "      border-radius: 50%;\n",
              "      cursor: pointer;\n",
              "      display: none;\n",
              "      fill: #1967D2;\n",
              "      height: 32px;\n",
              "      padding: 0 0 0 0;\n",
              "      width: 32px;\n",
              "    }\n",
              "\n",
              "    .colab-df-convert:hover {\n",
              "      background-color: #E2EBFA;\n",
              "      box-shadow: 0px 1px 2px rgba(60, 64, 67, 0.3), 0px 1px 3px 1px rgba(60, 64, 67, 0.15);\n",
              "      fill: #174EA6;\n",
              "    }\n",
              "\n",
              "    .colab-df-buttons div {\n",
              "      margin-bottom: 4px;\n",
              "    }\n",
              "\n",
              "    [theme=dark] .colab-df-convert {\n",
              "      background-color: #3B4455;\n",
              "      fill: #D2E3FC;\n",
              "    }\n",
              "\n",
              "    [theme=dark] .colab-df-convert:hover {\n",
              "      background-color: #434B5C;\n",
              "      box-shadow: 0px 1px 3px 1px rgba(0, 0, 0, 0.15);\n",
              "      filter: drop-shadow(0px 1px 2px rgba(0, 0, 0, 0.3));\n",
              "      fill: #FFFFFF;\n",
              "    }\n",
              "  </style>\n",
              "\n",
              "    <script>\n",
              "      const buttonEl =\n",
              "        document.querySelector('#df-b48f397d-4455-425d-bef7-583a897df2cd button.colab-df-convert');\n",
              "      buttonEl.style.display =\n",
              "        google.colab.kernel.accessAllowed ? 'block' : 'none';\n",
              "\n",
              "      async function convertToInteractive(key) {\n",
              "        const element = document.querySelector('#df-b48f397d-4455-425d-bef7-583a897df2cd');\n",
              "        const dataTable =\n",
              "          await google.colab.kernel.invokeFunction('convertToInteractive',\n",
              "                                                    [key], {});\n",
              "        if (!dataTable) return;\n",
              "\n",
              "        const docLinkHtml = 'Like what you see? Visit the ' +\n",
              "          '<a target=\"_blank\" href=https://colab.research.google.com/notebooks/data_table.ipynb>data table notebook</a>'\n",
              "          + ' to learn more about interactive tables.';\n",
              "        element.innerHTML = '';\n",
              "        dataTable['output_type'] = 'display_data';\n",
              "        await google.colab.output.renderOutput(dataTable, element);\n",
              "        const docLink = document.createElement('div');\n",
              "        docLink.innerHTML = docLinkHtml;\n",
              "        element.appendChild(docLink);\n",
              "      }\n",
              "    </script>\n",
              "  </div>\n",
              "\n",
              "\n",
              "<div id=\"df-031104f0-719e-4071-88d2-48d284c0b9e2\">\n",
              "  <button class=\"colab-df-quickchart\" onclick=\"quickchart('df-031104f0-719e-4071-88d2-48d284c0b9e2')\"\n",
              "            title=\"Suggest charts\"\n",
              "            style=\"display:none;\">\n",
              "\n",
              "<svg xmlns=\"http://www.w3.org/2000/svg\" height=\"24px\"viewBox=\"0 0 24 24\"\n",
              "     width=\"24px\">\n",
              "    <g>\n",
              "        <path d=\"M19 3H5c-1.1 0-2 .9-2 2v14c0 1.1.9 2 2 2h14c1.1 0 2-.9 2-2V5c0-1.1-.9-2-2-2zM9 17H7v-7h2v7zm4 0h-2V7h2v10zm4 0h-2v-4h2v4z\"/>\n",
              "    </g>\n",
              "</svg>\n",
              "  </button>\n",
              "\n",
              "<style>\n",
              "  .colab-df-quickchart {\n",
              "      --bg-color: #E8F0FE;\n",
              "      --fill-color: #1967D2;\n",
              "      --hover-bg-color: #E2EBFA;\n",
              "      --hover-fill-color: #174EA6;\n",
              "      --disabled-fill-color: #AAA;\n",
              "      --disabled-bg-color: #DDD;\n",
              "  }\n",
              "\n",
              "  [theme=dark] .colab-df-quickchart {\n",
              "      --bg-color: #3B4455;\n",
              "      --fill-color: #D2E3FC;\n",
              "      --hover-bg-color: #434B5C;\n",
              "      --hover-fill-color: #FFFFFF;\n",
              "      --disabled-bg-color: #3B4455;\n",
              "      --disabled-fill-color: #666;\n",
              "  }\n",
              "\n",
              "  .colab-df-quickchart {\n",
              "    background-color: var(--bg-color);\n",
              "    border: none;\n",
              "    border-radius: 50%;\n",
              "    cursor: pointer;\n",
              "    display: none;\n",
              "    fill: var(--fill-color);\n",
              "    height: 32px;\n",
              "    padding: 0;\n",
              "    width: 32px;\n",
              "  }\n",
              "\n",
              "  .colab-df-quickchart:hover {\n",
              "    background-color: var(--hover-bg-color);\n",
              "    box-shadow: 0 1px 2px rgba(60, 64, 67, 0.3), 0 1px 3px 1px rgba(60, 64, 67, 0.15);\n",
              "    fill: var(--button-hover-fill-color);\n",
              "  }\n",
              "\n",
              "  .colab-df-quickchart-complete:disabled,\n",
              "  .colab-df-quickchart-complete:disabled:hover {\n",
              "    background-color: var(--disabled-bg-color);\n",
              "    fill: var(--disabled-fill-color);\n",
              "    box-shadow: none;\n",
              "  }\n",
              "\n",
              "  .colab-df-spinner {\n",
              "    border: 2px solid var(--fill-color);\n",
              "    border-color: transparent;\n",
              "    border-bottom-color: var(--fill-color);\n",
              "    animation:\n",
              "      spin 1s steps(1) infinite;\n",
              "  }\n",
              "\n",
              "  @keyframes spin {\n",
              "    0% {\n",
              "      border-color: transparent;\n",
              "      border-bottom-color: var(--fill-color);\n",
              "      border-left-color: var(--fill-color);\n",
              "    }\n",
              "    20% {\n",
              "      border-color: transparent;\n",
              "      border-left-color: var(--fill-color);\n",
              "      border-top-color: var(--fill-color);\n",
              "    }\n",
              "    30% {\n",
              "      border-color: transparent;\n",
              "      border-left-color: var(--fill-color);\n",
              "      border-top-color: var(--fill-color);\n",
              "      border-right-color: var(--fill-color);\n",
              "    }\n",
              "    40% {\n",
              "      border-color: transparent;\n",
              "      border-right-color: var(--fill-color);\n",
              "      border-top-color: var(--fill-color);\n",
              "    }\n",
              "    60% {\n",
              "      border-color: transparent;\n",
              "      border-right-color: var(--fill-color);\n",
              "    }\n",
              "    80% {\n",
              "      border-color: transparent;\n",
              "      border-right-color: var(--fill-color);\n",
              "      border-bottom-color: var(--fill-color);\n",
              "    }\n",
              "    90% {\n",
              "      border-color: transparent;\n",
              "      border-bottom-color: var(--fill-color);\n",
              "    }\n",
              "  }\n",
              "</style>\n",
              "\n",
              "  <script>\n",
              "    async function quickchart(key) {\n",
              "      const quickchartButtonEl =\n",
              "        document.querySelector('#' + key + ' button');\n",
              "      quickchartButtonEl.disabled = true;  // To prevent multiple clicks.\n",
              "      quickchartButtonEl.classList.add('colab-df-spinner');\n",
              "      try {\n",
              "        const charts = await google.colab.kernel.invokeFunction(\n",
              "            'suggestCharts', [key], {});\n",
              "      } catch (error) {\n",
              "        console.error('Error during call to suggestCharts:', error);\n",
              "      }\n",
              "      quickchartButtonEl.classList.remove('colab-df-spinner');\n",
              "      quickchartButtonEl.classList.add('colab-df-quickchart-complete');\n",
              "    }\n",
              "    (() => {\n",
              "      let quickchartButtonEl =\n",
              "        document.querySelector('#df-031104f0-719e-4071-88d2-48d284c0b9e2 button');\n",
              "      quickchartButtonEl.style.display =\n",
              "        google.colab.kernel.accessAllowed ? 'block' : 'none';\n",
              "    })();\n",
              "  </script>\n",
              "</div>\n",
              "\n",
              "  <div id=\"id_5d4a1d66-5b72-4e8b-ad44-679d03746604\">\n",
              "    <style>\n",
              "      .colab-df-generate {\n",
              "        background-color: #E8F0FE;\n",
              "        border: none;\n",
              "        border-radius: 50%;\n",
              "        cursor: pointer;\n",
              "        display: none;\n",
              "        fill: #1967D2;\n",
              "        height: 32px;\n",
              "        padding: 0 0 0 0;\n",
              "        width: 32px;\n",
              "      }\n",
              "\n",
              "      .colab-df-generate:hover {\n",
              "        background-color: #E2EBFA;\n",
              "        box-shadow: 0px 1px 2px rgba(60, 64, 67, 0.3), 0px 1px 3px 1px rgba(60, 64, 67, 0.15);\n",
              "        fill: #174EA6;\n",
              "      }\n",
              "\n",
              "      [theme=dark] .colab-df-generate {\n",
              "        background-color: #3B4455;\n",
              "        fill: #D2E3FC;\n",
              "      }\n",
              "\n",
              "      [theme=dark] .colab-df-generate:hover {\n",
              "        background-color: #434B5C;\n",
              "        box-shadow: 0px 1px 3px 1px rgba(0, 0, 0, 0.15);\n",
              "        filter: drop-shadow(0px 1px 2px rgba(0, 0, 0, 0.3));\n",
              "        fill: #FFFFFF;\n",
              "      }\n",
              "    </style>\n",
              "    <button class=\"colab-df-generate\" onclick=\"generateWithVariable('X')\"\n",
              "            title=\"Generate code using this dataframe.\"\n",
              "            style=\"display:none;\">\n",
              "\n",
              "  <svg xmlns=\"http://www.w3.org/2000/svg\" height=\"24px\"viewBox=\"0 0 24 24\"\n",
              "       width=\"24px\">\n",
              "    <path d=\"M7,19H8.4L18.45,9,17,7.55,7,17.6ZM5,21V16.75L18.45,3.32a2,2,0,0,1,2.83,0l1.4,1.43a1.91,1.91,0,0,1,.58,1.4,1.91,1.91,0,0,1-.58,1.4L9.25,21ZM18.45,9,17,7.55Zm-12,3A5.31,5.31,0,0,0,4.9,8.1,5.31,5.31,0,0,0,1,6.5,5.31,5.31,0,0,0,4.9,4.9,5.31,5.31,0,0,0,6.5,1,5.31,5.31,0,0,0,8.1,4.9,5.31,5.31,0,0,0,12,6.5,5.46,5.46,0,0,0,6.5,12Z\"/>\n",
              "  </svg>\n",
              "    </button>\n",
              "    <script>\n",
              "      (() => {\n",
              "      const buttonEl =\n",
              "        document.querySelector('#id_5d4a1d66-5b72-4e8b-ad44-679d03746604 button.colab-df-generate');\n",
              "      buttonEl.style.display =\n",
              "        google.colab.kernel.accessAllowed ? 'block' : 'none';\n",
              "\n",
              "      buttonEl.onclick = () => {\n",
              "        google.colab.notebook.generateWithVariable('X');\n",
              "      }\n",
              "      })();\n",
              "    </script>\n",
              "  </div>\n",
              "\n",
              "    </div>\n",
              "  </div>\n"
            ],
            "application/vnd.google.colaboratory.intrinsic+json": {
              "type": "dataframe",
              "variable_name": "X",
              "summary": "{\n  \"name\": \"X\",\n  \"rows\": 20000,\n  \"fields\": [\n    {\n      \"column\": \"X1\",\n      \"properties\": {\n        \"dtype\": \"number\",\n        \"std\": 0.2888178619851301,\n        \"min\": 5.8841532343922864e-05,\n        \"max\": 0.9999807984373452,\n        \"num_unique_values\": 20000,\n        \"samples\": [\n          0.8237766556572574,\n          0.1697146508372741,\n          0.4652059376349731\n        ],\n        \"semantic_type\": \"\",\n        \"description\": \"\"\n      }\n    },\n    {\n      \"column\": \"X2\",\n      \"properties\": {\n        \"dtype\": \"number\",\n        \"std\": 0.5774246905003729,\n        \"min\": 2.5489723549210197e-05,\n        \"max\": 1.999955270515372,\n        \"num_unique_values\": 20000,\n        \"samples\": [\n          0.914675400189781,\n          1.7395136962532014,\n          0.8574722351907587\n        ],\n        \"semantic_type\": \"\",\n        \"description\": \"\"\n      }\n    },\n    {\n      \"column\": \"X3\",\n      \"properties\": {\n        \"dtype\": \"number\",\n        \"std\": 0.8630440779235088,\n        \"min\": 0.0001864461642995252,\n        \"max\": 2.999685078903874,\n        \"num_unique_values\": 20000,\n        \"samples\": [\n          1.2278012477474773,\n          2.4568424279120102,\n          2.7160805717777525\n        ],\n        \"semantic_type\": \"\",\n        \"description\": \"\"\n      }\n    }\n  ]\n}"
            }
          },
          "metadata": {},
          "execution_count": 377
        }
      ]
    },
    {
      "cell_type": "code",
      "source": [
        "# y 를 Class 값으로 변환\n",
        "\n",
        "y = df['y_class']"
      ],
      "metadata": {
        "id": "795nNjvD3Fp6"
      },
      "execution_count": 378,
      "outputs": []
    },
    {
      "cell_type": "code",
      "source": [
        "y"
      ],
      "metadata": {
        "colab": {
          "base_uri": "https://localhost:8080/",
          "height": 458
        },
        "id": "8SXl55Ua3Fsl",
        "outputId": "32bf6680-8a5a-4da2-b457-0cee4bde2e0e"
      },
      "execution_count": 379,
      "outputs": [
        {
          "output_type": "execute_result",
          "data": {
            "text/plain": [
              "0        Class 2\n",
              "1        Class 3\n",
              "2        Class 4\n",
              "3        Class 4\n",
              "4        Class 1\n",
              "          ...   \n",
              "19995    Class 2\n",
              "19996    Class 1\n",
              "19997    Class 2\n",
              "19998    Class 1\n",
              "19999    Class 2\n",
              "Name: y_class, Length: 20000, dtype: object"
            ],
            "text/html": [
              "<div>\n",
              "<style scoped>\n",
              "    .dataframe tbody tr th:only-of-type {\n",
              "        vertical-align: middle;\n",
              "    }\n",
              "\n",
              "    .dataframe tbody tr th {\n",
              "        vertical-align: top;\n",
              "    }\n",
              "\n",
              "    .dataframe thead th {\n",
              "        text-align: right;\n",
              "    }\n",
              "</style>\n",
              "<table border=\"1\" class=\"dataframe\">\n",
              "  <thead>\n",
              "    <tr style=\"text-align: right;\">\n",
              "      <th></th>\n",
              "      <th>y_class</th>\n",
              "    </tr>\n",
              "  </thead>\n",
              "  <tbody>\n",
              "    <tr>\n",
              "      <th>0</th>\n",
              "      <td>Class 2</td>\n",
              "    </tr>\n",
              "    <tr>\n",
              "      <th>1</th>\n",
              "      <td>Class 3</td>\n",
              "    </tr>\n",
              "    <tr>\n",
              "      <th>2</th>\n",
              "      <td>Class 4</td>\n",
              "    </tr>\n",
              "    <tr>\n",
              "      <th>3</th>\n",
              "      <td>Class 4</td>\n",
              "    </tr>\n",
              "    <tr>\n",
              "      <th>4</th>\n",
              "      <td>Class 1</td>\n",
              "    </tr>\n",
              "    <tr>\n",
              "      <th>...</th>\n",
              "      <td>...</td>\n",
              "    </tr>\n",
              "    <tr>\n",
              "      <th>19995</th>\n",
              "      <td>Class 2</td>\n",
              "    </tr>\n",
              "    <tr>\n",
              "      <th>19996</th>\n",
              "      <td>Class 1</td>\n",
              "    </tr>\n",
              "    <tr>\n",
              "      <th>19997</th>\n",
              "      <td>Class 2</td>\n",
              "    </tr>\n",
              "    <tr>\n",
              "      <th>19998</th>\n",
              "      <td>Class 1</td>\n",
              "    </tr>\n",
              "    <tr>\n",
              "      <th>19999</th>\n",
              "      <td>Class 2</td>\n",
              "    </tr>\n",
              "  </tbody>\n",
              "</table>\n",
              "<p>20000 rows × 1 columns</p>\n",
              "</div><br><label><b>dtype:</b> object</label>"
            ]
          },
          "metadata": {},
          "execution_count": 379
        }
      ]
    },
    {
      "cell_type": "code",
      "source": [
        "y.value_counts()"
      ],
      "metadata": {
        "colab": {
          "base_uri": "https://localhost:8080/",
          "height": 241
        },
        "id": "JgQZWQRc46aY",
        "outputId": "6ef51ecf-249b-4dd8-986c-2062eb64237e"
      },
      "execution_count": 380,
      "outputs": [
        {
          "output_type": "execute_result",
          "data": {
            "text/plain": [
              "y_class\n",
              "Class 3    5484\n",
              "Class 2    5260\n",
              "Class 4    4716\n",
              "Class 1    4540\n",
              "Name: count, dtype: int64"
            ],
            "text/html": [
              "<div>\n",
              "<style scoped>\n",
              "    .dataframe tbody tr th:only-of-type {\n",
              "        vertical-align: middle;\n",
              "    }\n",
              "\n",
              "    .dataframe tbody tr th {\n",
              "        vertical-align: top;\n",
              "    }\n",
              "\n",
              "    .dataframe thead th {\n",
              "        text-align: right;\n",
              "    }\n",
              "</style>\n",
              "<table border=\"1\" class=\"dataframe\">\n",
              "  <thead>\n",
              "    <tr style=\"text-align: right;\">\n",
              "      <th></th>\n",
              "      <th>count</th>\n",
              "    </tr>\n",
              "    <tr>\n",
              "      <th>y_class</th>\n",
              "      <th></th>\n",
              "    </tr>\n",
              "  </thead>\n",
              "  <tbody>\n",
              "    <tr>\n",
              "      <th>Class 3</th>\n",
              "      <td>5484</td>\n",
              "    </tr>\n",
              "    <tr>\n",
              "      <th>Class 2</th>\n",
              "      <td>5260</td>\n",
              "    </tr>\n",
              "    <tr>\n",
              "      <th>Class 4</th>\n",
              "      <td>4716</td>\n",
              "    </tr>\n",
              "    <tr>\n",
              "      <th>Class 1</th>\n",
              "      <td>4540</td>\n",
              "    </tr>\n",
              "  </tbody>\n",
              "</table>\n",
              "</div><br><label><b>dtype:</b> int64</label>"
            ]
          },
          "metadata": {},
          "execution_count": 380
        }
      ]
    },
    {
      "cell_type": "code",
      "source": [
        "# train, valid_hpo, test 데이터로 split\n",
        "# Hyperparameter Tuning 은 valid_hpo dataset 을 이용해야 함!!\n",
        "\n",
        "from sklearn.model_selection import train_test_split\n",
        "\n",
        "# [ Entire Dataset ] ---> [ Train + Valid_hpo ] / [ Test ]\n",
        "X_train_and_valid_hpo, X_test, y_train_and_valid_hpo, y_test =\\\n",
        "    train_test_split(X, y,\n",
        "                     test_size=0.15,\n",
        "                     random_state=2025)\n",
        "\n",
        "# [ Train + Valid_hpo ] / [ Test ] ---> [ Train ] / [ Valid_hpo ] / [ Test ]\n",
        "X_train, X_valid_hpo, y_train, y_valid_hpo =\\\n",
        "    train_test_split(X_train_and_valid_hpo, y_train_and_valid_hpo,\n",
        "                     test_size=0.15,\n",
        "                     random_state=2025)"
      ],
      "metadata": {
        "id": "csrG79iorBkf"
      },
      "execution_count": 381,
      "outputs": []
    },
    {
      "cell_type": "code",
      "source": [
        "# 각 data의 shape 재확인\n",
        "\n",
        "print(f'shape of X_train     : {X_train.shape}')\n",
        "print(f'shape of X_valid_hpo : {X_valid_hpo.shape}')\n",
        "print(f'shape of X_test      : {X_test.shape}')"
      ],
      "metadata": {
        "colab": {
          "base_uri": "https://localhost:8080/"
        },
        "id": "_KWOWyyAtVhb",
        "outputId": "84833f60-5a6b-4a03-e573-e72c4507544b"
      },
      "execution_count": 382,
      "outputs": [
        {
          "output_type": "stream",
          "name": "stdout",
          "text": [
            "shape of X_train     : (14450, 3)\n",
            "shape of X_valid_hpo : (2550, 3)\n",
            "shape of X_test      : (3000, 3)\n"
          ]
        }
      ]
    },
    {
      "cell_type": "code",
      "source": [
        "# 향후 정확도 측정용\n",
        "\n",
        "from sklearn.metrics import accuracy_score"
      ],
      "metadata": {
        "id": "HJI5ny1ayuBm"
      },
      "execution_count": 383,
      "outputs": []
    },
    {
      "cell_type": "markdown",
      "source": [
        "**2. HyperOpt 최적화 코드**"
      ],
      "metadata": {
        "id": "VovwlHj3wH76"
      }
    },
    {
      "cell_type": "code",
      "source": [
        "# Domain Space 정의\n",
        "\n",
        "domain_space = {\n",
        "    'learning_rate': hp.loguniform('learning_rate', np.log(0.001), np.log(0.25)),\n",
        "    'max_depth': hp.quniform('max_depth', 3, 15, q=1)\n",
        "}"
      ],
      "metadata": {
        "id": "4TPjeRexuc9W"
      },
      "execution_count": 384,
      "outputs": []
    },
    {
      "cell_type": "code",
      "source": [
        "# Objective Function 정의\n",
        "\n",
        "def objective_hyperopt(params):\n",
        "    params['max_depth'] = int(params['max_depth'])\n",
        "\n",
        "    model = lgb.LGBMClassifier(\n",
        "        objective='multiclass',\n",
        "        metric='multi_logloss',\n",
        "        boosting_type='gbdt',\n",
        "        num_iterations=100,\n",
        "        verbosity=-1,\n",
        "        **params\n",
        "    )\n",
        "\n",
        "    # [ Train ] ---> [ Train ] / [ Valid_lgbm ] 로 분리\n",
        "    X_train_, X_valid_lgbm, y_train_, y_valid_lgbm =\\\n",
        "        train_test_split(X_train, y_train,\n",
        "                         test_size=0.15,\n",
        "                         random_state=2025)\n",
        "\n",
        "    # LightGBM 용 eval_set 인 X_valid_lgbm, y_valid_lgbm 을 이용하여 LightGBM 모델을 valid\n",
        "    model.fit(X_train_, y_train_,\n",
        "              eval_set=[(X_valid_lgbm, y_valid_lgbm)])\n",
        "\n",
        "    # HPO 용 valid set인 X_valid_hpo, y_valid_hpo 를 이용하여 하이퍼파라미터 조합 성능 테스트\n",
        "    preds_hpo = model.predict(X_valid_hpo)\n",
        "    accuracy_hpo = accuracy_score(preds_hpo, y_valid_hpo)\n",
        "\n",
        "    print(f'[HPO] accuracy with {params} : {(100 * accuracy_hpo):6.2f} %')\n",
        "\n",
        "    return {\"loss\": (-1) * accuracy_hpo, \"status\": STATUS_OK}"
      ],
      "metadata": {
        "id": "NVmcrcAluDW5"
      },
      "execution_count": 385,
      "outputs": []
    },
    {
      "cell_type": "code",
      "source": [
        "# 하이퍼파라미터 최적화 실시\n",
        "\n",
        "trials = Trials()\n",
        "best_params_hyperopt = fmin(fn=objective_hyperopt,\n",
        "                            space=domain_space,\n",
        "                            algo=tpe.suggest, # tpe = Tree-Structured Parzen Estimator\n",
        "                            max_evals=100,\n",
        "                            trials=trials)"
      ],
      "metadata": {
        "colab": {
          "base_uri": "https://localhost:8080/"
        },
        "id": "s2MCCzCYz9IU",
        "outputId": "3ec2c011-d66f-4b64-d17d-eef63a13a7c4"
      },
      "execution_count": 386,
      "outputs": [
        {
          "output_type": "stream",
          "name": "stdout",
          "text": [
            "\r  0%|          | 0/100 [00:00<?, ?trial/s, best loss=?]"
          ]
        },
        {
          "output_type": "stream",
          "name": "stderr",
          "text": [
            "/usr/local/lib/python3.11/dist-packages/lightgbm/engine.py:204: UserWarning: Found `num_iterations` in params. Will use it instead of argument\n",
            "  _log_warning(f\"Found `{alias}` in params. Will use it instead of argument\")\n",
            "\n"
          ]
        },
        {
          "output_type": "stream",
          "name": "stdout",
          "text": [
            "[HPO] accuracy with {'learning_rate': 0.021676371583853434, 'max_depth': 13} :  64.82 %\n",
            "  1%|          | 1/100 [00:00<01:33,  1.06trial/s, best loss: -0.648235294117647]"
          ]
        },
        {
          "output_type": "stream",
          "name": "stderr",
          "text": [
            "/usr/local/lib/python3.11/dist-packages/lightgbm/engine.py:204: UserWarning: Found `num_iterations` in params. Will use it instead of argument\n",
            "  _log_warning(f\"Found `{alias}` in params. Will use it instead of argument\")\n",
            "\n"
          ]
        },
        {
          "output_type": "stream",
          "name": "stdout",
          "text": [
            "[HPO] accuracy with {'learning_rate': 0.10268460527195798, 'max_depth': 6} :  73.61 %\n",
            "  2%|▏         | 2/100 [00:01<01:17,  1.27trial/s, best loss: -0.736078431372549]"
          ]
        },
        {
          "output_type": "stream",
          "name": "stderr",
          "text": [
            "/usr/local/lib/python3.11/dist-packages/lightgbm/engine.py:204: UserWarning: Found `num_iterations` in params. Will use it instead of argument\n",
            "  _log_warning(f\"Found `{alias}` in params. Will use it instead of argument\")\n",
            "\n"
          ]
        },
        {
          "output_type": "stream",
          "name": "stdout",
          "text": [
            "[HPO] accuracy with {'learning_rate': 0.010819633055218174, 'max_depth': 15} :  60.08 %\n",
            "  3%|▎         | 3/100 [00:02<01:14,  1.31trial/s, best loss: -0.736078431372549]"
          ]
        },
        {
          "output_type": "stream",
          "name": "stderr",
          "text": [
            "/usr/local/lib/python3.11/dist-packages/lightgbm/engine.py:204: UserWarning: Found `num_iterations` in params. Will use it instead of argument\n",
            "  _log_warning(f\"Found `{alias}` in params. Will use it instead of argument\")\n",
            "\n"
          ]
        },
        {
          "output_type": "stream",
          "name": "stdout",
          "text": [
            "[HPO] accuracy with {'learning_rate': 0.00141766647160053, 'max_depth': 3} :  36.78 %\n",
            "  4%|▍         | 4/100 [00:02<01:02,  1.53trial/s, best loss: -0.736078431372549]"
          ]
        },
        {
          "output_type": "stream",
          "name": "stderr",
          "text": [
            "/usr/local/lib/python3.11/dist-packages/lightgbm/engine.py:204: UserWarning: Found `num_iterations` in params. Will use it instead of argument\n",
            "  _log_warning(f\"Found `{alias}` in params. Will use it instead of argument\")\n",
            "\n"
          ]
        },
        {
          "output_type": "stream",
          "name": "stdout",
          "text": [
            "[HPO] accuracy with {'learning_rate': 0.048296598287186354, 'max_depth': 3} :  44.67 %\n",
            "  5%|▌         | 5/100 [00:03<00:59,  1.59trial/s, best loss: -0.736078431372549]"
          ]
        },
        {
          "output_type": "stream",
          "name": "stderr",
          "text": [
            "/usr/local/lib/python3.11/dist-packages/lightgbm/engine.py:204: UserWarning: Found `num_iterations` in params. Will use it instead of argument\n",
            "  _log_warning(f\"Found `{alias}` in params. Will use it instead of argument\")\n",
            "\n"
          ]
        },
        {
          "output_type": "stream",
          "name": "stdout",
          "text": [
            "[HPO] accuracy with {'learning_rate': 0.03334523882580415, 'max_depth': 13} :  70.00 %\n",
            "  6%|▌         | 6/100 [00:04<01:04,  1.47trial/s, best loss: -0.736078431372549]"
          ]
        },
        {
          "output_type": "stream",
          "name": "stderr",
          "text": [
            "/usr/local/lib/python3.11/dist-packages/lightgbm/engine.py:204: UserWarning: Found `num_iterations` in params. Will use it instead of argument\n",
            "  _log_warning(f\"Found `{alias}` in params. Will use it instead of argument\")\n",
            "\n"
          ]
        },
        {
          "output_type": "stream",
          "name": "stdout",
          "text": [
            "[HPO] accuracy with {'learning_rate': 0.006855440549137783, 'max_depth': 5} :  48.12 %\n",
            "  7%|▋         | 7/100 [00:05<01:08,  1.36trial/s, best loss: -0.736078431372549]"
          ]
        },
        {
          "output_type": "stream",
          "name": "stderr",
          "text": [
            "/usr/local/lib/python3.11/dist-packages/lightgbm/engine.py:204: UserWarning: Found `num_iterations` in params. Will use it instead of argument\n",
            "  _log_warning(f\"Found `{alias}` in params. Will use it instead of argument\")\n",
            "\n"
          ]
        },
        {
          "output_type": "stream",
          "name": "stdout",
          "text": [
            "[HPO] accuracy with {'learning_rate': 0.006354897016418983, 'max_depth': 10} :  56.00 %\n",
            "  8%|▊         | 8/100 [00:05<01:11,  1.28trial/s, best loss: -0.736078431372549]"
          ]
        },
        {
          "output_type": "stream",
          "name": "stderr",
          "text": [
            "/usr/local/lib/python3.11/dist-packages/lightgbm/engine.py:204: UserWarning: Found `num_iterations` in params. Will use it instead of argument\n",
            "  _log_warning(f\"Found `{alias}` in params. Will use it instead of argument\")\n",
            "\n"
          ]
        },
        {
          "output_type": "stream",
          "name": "stdout",
          "text": [
            "[HPO] accuracy with {'learning_rate': 0.0037425463442440693, 'max_depth': 13} :  52.55 %\n",
            "  9%|▉         | 9/100 [00:06<01:18,  1.16trial/s, best loss: -0.736078431372549]"
          ]
        },
        {
          "output_type": "stream",
          "name": "stderr",
          "text": [
            "/usr/local/lib/python3.11/dist-packages/lightgbm/engine.py:204: UserWarning: Found `num_iterations` in params. Will use it instead of argument\n",
            "  _log_warning(f\"Found `{alias}` in params. Will use it instead of argument\")\n",
            "\n"
          ]
        },
        {
          "output_type": "stream",
          "name": "stdout",
          "text": [
            "[HPO] accuracy with {'learning_rate': 0.0030234968982980758, 'max_depth': 15} :  51.14 %\n",
            " 10%|█         | 10/100 [00:07<01:17,  1.17trial/s, best loss: -0.736078431372549]"
          ]
        },
        {
          "output_type": "stream",
          "name": "stderr",
          "text": [
            "/usr/local/lib/python3.11/dist-packages/lightgbm/engine.py:204: UserWarning: Found `num_iterations` in params. Will use it instead of argument\n",
            "  _log_warning(f\"Found `{alias}` in params. Will use it instead of argument\")\n",
            "\n"
          ]
        },
        {
          "output_type": "stream",
          "name": "stdout",
          "text": [
            "[HPO] accuracy with {'learning_rate': 0.0037309160820952827, 'max_depth': 14} :  52.55 %\n",
            " 11%|█         | 11/100 [00:08<01:14,  1.19trial/s, best loss: -0.736078431372549]"
          ]
        },
        {
          "output_type": "stream",
          "name": "stderr",
          "text": [
            "/usr/local/lib/python3.11/dist-packages/lightgbm/engine.py:204: UserWarning: Found `num_iterations` in params. Will use it instead of argument\n",
            "  _log_warning(f\"Found `{alias}` in params. Will use it instead of argument\")\n",
            "\n"
          ]
        },
        {
          "output_type": "stream",
          "name": "stdout",
          "text": [
            "[HPO] accuracy with {'learning_rate': 0.24850710248136088, 'max_depth': 13} :  81.57 %\n",
            " 12%|█▏        | 12/100 [00:09<01:16,  1.14trial/s, best loss: -0.8156862745098039]"
          ]
        },
        {
          "output_type": "stream",
          "name": "stderr",
          "text": [
            "/usr/local/lib/python3.11/dist-packages/lightgbm/engine.py:204: UserWarning: Found `num_iterations` in params. Will use it instead of argument\n",
            "  _log_warning(f\"Found `{alias}` in params. Will use it instead of argument\")\n",
            "\n"
          ]
        },
        {
          "output_type": "stream",
          "name": "stdout",
          "text": [
            "[HPO] accuracy with {'learning_rate': 0.0014286630847706128, 'max_depth': 4} :  38.12 %\n",
            " 13%|█▎        | 13/100 [00:11<01:35,  1.10s/trial, best loss: -0.8156862745098039]"
          ]
        },
        {
          "output_type": "stream",
          "name": "stderr",
          "text": [
            "/usr/local/lib/python3.11/dist-packages/lightgbm/engine.py:204: UserWarning: Found `num_iterations` in params. Will use it instead of argument\n",
            "  _log_warning(f\"Found `{alias}` in params. Will use it instead of argument\")\n",
            "\n"
          ]
        },
        {
          "output_type": "stream",
          "name": "stdout",
          "text": [
            "[HPO] accuracy with {'learning_rate': 0.20603913153315925, 'max_depth': 3} :  54.51 %\n",
            " 14%|█▍        | 14/100 [00:11<01:22,  1.04trial/s, best loss: -0.8156862745098039]"
          ]
        },
        {
          "output_type": "stream",
          "name": "stderr",
          "text": [
            "/usr/local/lib/python3.11/dist-packages/lightgbm/engine.py:204: UserWarning: Found `num_iterations` in params. Will use it instead of argument\n",
            "  _log_warning(f\"Found `{alias}` in params. Will use it instead of argument\")\n",
            "\n"
          ]
        },
        {
          "output_type": "stream",
          "name": "stdout",
          "text": [
            "[HPO] accuracy with {'learning_rate': 0.04073507286560946, 'max_depth': 4} :  53.10 %\n",
            " 15%|█▌        | 15/100 [00:12<01:17,  1.09trial/s, best loss: -0.8156862745098039]"
          ]
        },
        {
          "output_type": "stream",
          "name": "stderr",
          "text": [
            "/usr/local/lib/python3.11/dist-packages/lightgbm/engine.py:204: UserWarning: Found `num_iterations` in params. Will use it instead of argument\n",
            "  _log_warning(f\"Found `{alias}` in params. Will use it instead of argument\")\n",
            "\n"
          ]
        },
        {
          "output_type": "stream",
          "name": "stdout",
          "text": [
            "[HPO] accuracy with {'learning_rate': 0.013448354738554482, 'max_depth': 14} :  61.33 %\n",
            " 16%|█▌        | 16/100 [00:13<01:22,  1.02trial/s, best loss: -0.8156862745098039]"
          ]
        },
        {
          "output_type": "stream",
          "name": "stderr",
          "text": [
            "/usr/local/lib/python3.11/dist-packages/lightgbm/engine.py:204: UserWarning: Found `num_iterations` in params. Will use it instead of argument\n",
            "  _log_warning(f\"Found `{alias}` in params. Will use it instead of argument\")\n",
            "\n"
          ]
        },
        {
          "output_type": "stream",
          "name": "stdout",
          "text": [
            "[HPO] accuracy with {'learning_rate': 0.0017861704360397491, 'max_depth': 11} :  49.73 %\n",
            " 17%|█▋        | 17/100 [00:15<01:29,  1.07s/trial, best loss: -0.8156862745098039]"
          ]
        },
        {
          "output_type": "stream",
          "name": "stderr",
          "text": [
            "/usr/local/lib/python3.11/dist-packages/lightgbm/engine.py:204: UserWarning: Found `num_iterations` in params. Will use it instead of argument\n",
            "  _log_warning(f\"Found `{alias}` in params. Will use it instead of argument\")\n",
            "\n"
          ]
        },
        {
          "output_type": "stream",
          "name": "stdout",
          "text": [
            "[HPO] accuracy with {'learning_rate': 0.0010848766884369336, 'max_depth': 14} :  45.88 %\n",
            " 18%|█▊        | 18/100 [00:15<01:19,  1.04trial/s, best loss: -0.8156862745098039]"
          ]
        },
        {
          "output_type": "stream",
          "name": "stderr",
          "text": [
            "/usr/local/lib/python3.11/dist-packages/lightgbm/engine.py:204: UserWarning: Found `num_iterations` in params. Will use it instead of argument\n",
            "  _log_warning(f\"Found `{alias}` in params. Will use it instead of argument\")\n",
            "\n"
          ]
        },
        {
          "output_type": "stream",
          "name": "stdout",
          "text": [
            "[HPO] accuracy with {'learning_rate': 0.01780273941147413, 'max_depth': 8} :  62.39 %\n",
            " 19%|█▉        | 19/100 [00:16<01:06,  1.22trial/s, best loss: -0.8156862745098039]"
          ]
        },
        {
          "output_type": "stream",
          "name": "stderr",
          "text": [
            "/usr/local/lib/python3.11/dist-packages/lightgbm/engine.py:204: UserWarning: Found `num_iterations` in params. Will use it instead of argument\n",
            "  _log_warning(f\"Found `{alias}` in params. Will use it instead of argument\")\n",
            "\n"
          ]
        },
        {
          "output_type": "stream",
          "name": "stdout",
          "text": [
            "[HPO] accuracy with {'learning_rate': 0.005264848673265715, 'max_depth': 13} :  54.04 %\n",
            " 20%|██        | 20/100 [00:16<00:57,  1.39trial/s, best loss: -0.8156862745098039]"
          ]
        },
        {
          "output_type": "stream",
          "name": "stderr",
          "text": [
            "/usr/local/lib/python3.11/dist-packages/lightgbm/engine.py:204: UserWarning: Found `num_iterations` in params. Will use it instead of argument\n",
            "  _log_warning(f\"Found `{alias}` in params. Will use it instead of argument\")\n",
            "\n"
          ]
        },
        {
          "output_type": "stream",
          "name": "stdout",
          "text": [
            "[HPO] accuracy with {'learning_rate': 0.24335623276973842, 'max_depth': 7} :  80.31 %\n",
            " 21%|██        | 21/100 [00:17<00:50,  1.56trial/s, best loss: -0.8156862745098039]"
          ]
        },
        {
          "output_type": "stream",
          "name": "stderr",
          "text": [
            "/usr/local/lib/python3.11/dist-packages/lightgbm/engine.py:204: UserWarning: Found `num_iterations` in params. Will use it instead of argument\n",
            "  _log_warning(f\"Found `{alias}` in params. Will use it instead of argument\")\n",
            "\n"
          ]
        },
        {
          "output_type": "stream",
          "name": "stdout",
          "text": [
            "[HPO] accuracy with {'learning_rate': 0.13235697861669393, 'max_depth': 8} :  79.18 %\n",
            " 22%|██▏       | 22/100 [00:17<00:45,  1.71trial/s, best loss: -0.8156862745098039]"
          ]
        },
        {
          "output_type": "stream",
          "name": "stderr",
          "text": [
            "/usr/local/lib/python3.11/dist-packages/lightgbm/engine.py:204: UserWarning: Found `num_iterations` in params. Will use it instead of argument\n",
            "  _log_warning(f\"Found `{alias}` in params. Will use it instead of argument\")\n",
            "\n"
          ]
        },
        {
          "output_type": "stream",
          "name": "stdout",
          "text": [
            "[HPO] accuracy with {'learning_rate': 0.2459040441507895, 'max_depth': 7} :  79.80 %\n",
            " 23%|██▎       | 23/100 [00:18<00:41,  1.83trial/s, best loss: -0.8156862745098039]"
          ]
        },
        {
          "output_type": "stream",
          "name": "stderr",
          "text": [
            "/usr/local/lib/python3.11/dist-packages/lightgbm/engine.py:204: UserWarning: Found `num_iterations` in params. Will use it instead of argument\n",
            "  _log_warning(f\"Found `{alias}` in params. Will use it instead of argument\")\n",
            "\n"
          ]
        },
        {
          "output_type": "stream",
          "name": "stdout",
          "text": [
            "[HPO] accuracy with {'learning_rate': 0.07879888261849198, 'max_depth': 10} :  74.75 %\n",
            " 24%|██▍       | 24/100 [00:18<00:39,  1.93trial/s, best loss: -0.8156862745098039]"
          ]
        },
        {
          "output_type": "stream",
          "name": "stderr",
          "text": [
            "/usr/local/lib/python3.11/dist-packages/lightgbm/engine.py:204: UserWarning: Found `num_iterations` in params. Will use it instead of argument\n",
            "  _log_warning(f\"Found `{alias}` in params. Will use it instead of argument\")\n",
            "\n"
          ]
        },
        {
          "output_type": "stream",
          "name": "stdout",
          "text": [
            "[HPO] accuracy with {'learning_rate': 0.16265679061134405, 'max_depth': 11} :  80.67 %\n",
            " 25%|██▌       | 25/100 [00:19<00:36,  2.04trial/s, best loss: -0.8156862745098039]"
          ]
        },
        {
          "output_type": "stream",
          "name": "stderr",
          "text": [
            "/usr/local/lib/python3.11/dist-packages/lightgbm/engine.py:204: UserWarning: Found `num_iterations` in params. Will use it instead of argument\n",
            "  _log_warning(f\"Found `{alias}` in params. Will use it instead of argument\")\n",
            "\n"
          ]
        },
        {
          "output_type": "stream",
          "name": "stdout",
          "text": [
            "[HPO] accuracy with {'learning_rate': 0.14787464618865176, 'max_depth': 11} :  81.18 %\n",
            " 26%|██▌       | 26/100 [00:19<00:35,  2.10trial/s, best loss: -0.8156862745098039]"
          ]
        },
        {
          "output_type": "stream",
          "name": "stderr",
          "text": [
            "/usr/local/lib/python3.11/dist-packages/lightgbm/engine.py:204: UserWarning: Found `num_iterations` in params. Will use it instead of argument\n",
            "  _log_warning(f\"Found `{alias}` in params. Will use it instead of argument\")\n",
            "\n"
          ]
        },
        {
          "output_type": "stream",
          "name": "stdout",
          "text": [
            "[HPO] accuracy with {'learning_rate': 0.06829174895832106, 'max_depth': 11} :  75.29 %\n",
            " 27%|██▋       | 27/100 [00:19<00:34,  2.14trial/s, best loss: -0.8156862745098039]"
          ]
        },
        {
          "output_type": "stream",
          "name": "stderr",
          "text": [
            "/usr/local/lib/python3.11/dist-packages/lightgbm/engine.py:204: UserWarning: Found `num_iterations` in params. Will use it instead of argument\n",
            "  _log_warning(f\"Found `{alias}` in params. Will use it instead of argument\")\n",
            "\n"
          ]
        },
        {
          "output_type": "stream",
          "name": "stdout",
          "text": [
            "[HPO] accuracy with {'learning_rate': 0.1435228660063637, 'max_depth': 12} :  80.43 %\n",
            " 28%|██▊       | 28/100 [00:20<00:32,  2.19trial/s, best loss: -0.8156862745098039]"
          ]
        },
        {
          "output_type": "stream",
          "name": "stderr",
          "text": [
            "/usr/local/lib/python3.11/dist-packages/lightgbm/engine.py:204: UserWarning: Found `num_iterations` in params. Will use it instead of argument\n",
            "  _log_warning(f\"Found `{alias}` in params. Will use it instead of argument\")\n",
            "\n"
          ]
        },
        {
          "output_type": "stream",
          "name": "stdout",
          "text": [
            "[HPO] accuracy with {'learning_rate': 0.02603153554406599, 'max_depth': 12} :  66.47 %\n",
            " 29%|██▉       | 29/100 [00:20<00:33,  2.09trial/s, best loss: -0.8156862745098039]"
          ]
        },
        {
          "output_type": "stream",
          "name": "stderr",
          "text": [
            "/usr/local/lib/python3.11/dist-packages/lightgbm/engine.py:204: UserWarning: Found `num_iterations` in params. Will use it instead of argument\n",
            "  _log_warning(f\"Found `{alias}` in params. Will use it instead of argument\")\n",
            "\n"
          ]
        },
        {
          "output_type": "stream",
          "name": "stdout",
          "text": [
            "[HPO] accuracy with {'learning_rate': 0.061162545973218956, 'max_depth': 9} :  74.94 %\n",
            " 30%|███       | 30/100 [00:21<00:33,  2.09trial/s, best loss: -0.8156862745098039]"
          ]
        },
        {
          "output_type": "stream",
          "name": "stderr",
          "text": [
            "/usr/local/lib/python3.11/dist-packages/lightgbm/engine.py:204: UserWarning: Found `num_iterations` in params. Will use it instead of argument\n",
            "  _log_warning(f\"Found `{alias}` in params. Will use it instead of argument\")\n",
            "\n"
          ]
        },
        {
          "output_type": "stream",
          "name": "stdout",
          "text": [
            "[HPO] accuracy with {'learning_rate': 0.10787462657062424, 'max_depth': 12} :  78.47 %\n",
            " 31%|███       | 31/100 [00:21<00:35,  1.97trial/s, best loss: -0.8156862745098039]"
          ]
        },
        {
          "output_type": "stream",
          "name": "stderr",
          "text": [
            "/usr/local/lib/python3.11/dist-packages/lightgbm/engine.py:204: UserWarning: Found `num_iterations` in params. Will use it instead of argument\n",
            "  _log_warning(f\"Found `{alias}` in params. Will use it instead of argument\")\n",
            "\n"
          ]
        },
        {
          "output_type": "stream",
          "name": "stdout",
          "text": [
            "[HPO] accuracy with {'learning_rate': 0.08936712129198367, 'max_depth': 10} :  77.88 %\n",
            " 32%|███▏      | 32/100 [00:22<00:37,  1.83trial/s, best loss: -0.8156862745098039]"
          ]
        },
        {
          "output_type": "stream",
          "name": "stderr",
          "text": [
            "/usr/local/lib/python3.11/dist-packages/lightgbm/engine.py:204: UserWarning: Found `num_iterations` in params. Will use it instead of argument\n",
            "  _log_warning(f\"Found `{alias}` in params. Will use it instead of argument\")\n",
            "\n"
          ]
        },
        {
          "output_type": "stream",
          "name": "stdout",
          "text": [
            "[HPO] accuracy with {'learning_rate': 0.18687038252911764, 'max_depth': 15} :  80.75 %\n",
            " 33%|███▎      | 33/100 [00:23<00:36,  1.82trial/s, best loss: -0.8156862745098039]"
          ]
        },
        {
          "output_type": "stream",
          "name": "stderr",
          "text": [
            "/usr/local/lib/python3.11/dist-packages/lightgbm/engine.py:204: UserWarning: Found `num_iterations` in params. Will use it instead of argument\n",
            "  _log_warning(f\"Found `{alias}` in params. Will use it instead of argument\")\n",
            "\n"
          ]
        },
        {
          "output_type": "stream",
          "name": "stdout",
          "text": [
            "[HPO] accuracy with {'learning_rate': 0.024159494127444184, 'max_depth': 12} :  66.39 %\n",
            " 34%|███▍      | 34/100 [00:23<00:35,  1.86trial/s, best loss: -0.8156862745098039]"
          ]
        },
        {
          "output_type": "stream",
          "name": "stderr",
          "text": [
            "/usr/local/lib/python3.11/dist-packages/lightgbm/engine.py:204: UserWarning: Found `num_iterations` in params. Will use it instead of argument\n",
            "  _log_warning(f\"Found `{alias}` in params. Will use it instead of argument\")\n",
            "\n"
          ]
        },
        {
          "output_type": "stream",
          "name": "stdout",
          "text": [
            "[HPO] accuracy with {'learning_rate': 0.04901890288276649, 'max_depth': 9} :  70.86 %\n",
            " 35%|███▌      | 35/100 [00:24<00:33,  1.91trial/s, best loss: -0.8156862745098039]"
          ]
        },
        {
          "output_type": "stream",
          "name": "stderr",
          "text": [
            "/usr/local/lib/python3.11/dist-packages/lightgbm/engine.py:204: UserWarning: Found `num_iterations` in params. Will use it instead of argument\n",
            "  _log_warning(f\"Found `{alias}` in params. Will use it instead of argument\")\n",
            "\n"
          ]
        },
        {
          "output_type": "stream",
          "name": "stdout",
          "text": [
            "[HPO] accuracy with {'learning_rate': 0.009997453368122768, 'max_depth': 14} :  58.67 %\n",
            " 36%|███▌      | 36/100 [00:24<00:32,  1.96trial/s, best loss: -0.8156862745098039]"
          ]
        },
        {
          "output_type": "stream",
          "name": "stderr",
          "text": [
            "/usr/local/lib/python3.11/dist-packages/lightgbm/engine.py:204: UserWarning: Found `num_iterations` in params. Will use it instead of argument\n",
            "  _log_warning(f\"Found `{alias}` in params. Will use it instead of argument\")\n",
            "\n"
          ]
        },
        {
          "output_type": "stream",
          "name": "stdout",
          "text": [
            "[HPO] accuracy with {'learning_rate': 0.10419982538091405, 'max_depth': 11} :  77.96 %\n",
            " 37%|███▋      | 37/100 [00:25<00:31,  2.02trial/s, best loss: -0.8156862745098039]"
          ]
        },
        {
          "output_type": "stream",
          "name": "stderr",
          "text": [
            "/usr/local/lib/python3.11/dist-packages/lightgbm/engine.py:204: UserWarning: Found `num_iterations` in params. Will use it instead of argument\n",
            "  _log_warning(f\"Found `{alias}` in params. Will use it instead of argument\")\n",
            "\n"
          ]
        },
        {
          "output_type": "stream",
          "name": "stdout",
          "text": [
            "[HPO] accuracy with {'learning_rate': 0.2463867014732371, 'max_depth': 10} :  81.69 %\n",
            " 38%|███▊      | 38/100 [00:25<00:29,  2.09trial/s, best loss: -0.8168627450980392]"
          ]
        },
        {
          "output_type": "stream",
          "name": "stderr",
          "text": [
            "/usr/local/lib/python3.11/dist-packages/lightgbm/engine.py:204: UserWarning: Found `num_iterations` in params. Will use it instead of argument\n",
            "  _log_warning(f\"Found `{alias}` in params. Will use it instead of argument\")\n",
            "\n"
          ]
        },
        {
          "output_type": "stream",
          "name": "stdout",
          "text": [
            "[HPO] accuracy with {'learning_rate': 0.05840447598532977, 'max_depth': 8} :  70.67 %\n",
            " 39%|███▉      | 39/100 [00:25<00:29,  2.07trial/s, best loss: -0.8168627450980392]"
          ]
        },
        {
          "output_type": "stream",
          "name": "stderr",
          "text": [
            "/usr/local/lib/python3.11/dist-packages/lightgbm/engine.py:204: UserWarning: Found `num_iterations` in params. Will use it instead of argument\n",
            "  _log_warning(f\"Found `{alias}` in params. Will use it instead of argument\")\n",
            "\n"
          ]
        },
        {
          "output_type": "stream",
          "name": "stdout",
          "text": [
            "[HPO] accuracy with {'learning_rate': 0.03336425320525922, 'max_depth': 10} :  70.20 %\n",
            " 40%|████      | 40/100 [00:26<00:29,  2.06trial/s, best loss: -0.8168627450980392]"
          ]
        },
        {
          "output_type": "stream",
          "name": "stderr",
          "text": [
            "/usr/local/lib/python3.11/dist-packages/lightgbm/engine.py:204: UserWarning: Found `num_iterations` in params. Will use it instead of argument\n",
            "  _log_warning(f\"Found `{alias}` in params. Will use it instead of argument\")\n",
            "\n"
          ]
        },
        {
          "output_type": "stream",
          "name": "stdout",
          "text": [
            "[HPO] accuracy with {'learning_rate': 0.21868663110692335, 'max_depth': 6} :  77.37 %\n",
            " 41%|████      | 41/100 [00:26<00:28,  2.09trial/s, best loss: -0.8168627450980392]"
          ]
        },
        {
          "output_type": "stream",
          "name": "stderr",
          "text": [
            "/usr/local/lib/python3.11/dist-packages/lightgbm/engine.py:204: UserWarning: Found `num_iterations` in params. Will use it instead of argument\n",
            "  _log_warning(f\"Found `{alias}` in params. Will use it instead of argument\")\n",
            "\n"
          ]
        },
        {
          "output_type": "stream",
          "name": "stdout",
          "text": [
            "[HPO] accuracy with {'learning_rate': 0.009286540886034042, 'max_depth': 13} :  58.12 %\n",
            " 42%|████▏     | 42/100 [00:27<00:27,  2.08trial/s, best loss: -0.8168627450980392]"
          ]
        },
        {
          "output_type": "stream",
          "name": "stderr",
          "text": [
            "/usr/local/lib/python3.11/dist-packages/lightgbm/engine.py:204: UserWarning: Found `num_iterations` in params. Will use it instead of argument\n",
            "  _log_warning(f\"Found `{alias}` in params. Will use it instead of argument\")\n",
            "\n"
          ]
        },
        {
          "output_type": "stream",
          "name": "stdout",
          "text": [
            "[HPO] accuracy with {'learning_rate': 0.11222356805515105, 'max_depth': 9} :  77.96 %\n",
            " 43%|████▎     | 43/100 [00:27<00:27,  2.11trial/s, best loss: -0.8168627450980392]"
          ]
        },
        {
          "output_type": "stream",
          "name": "stderr",
          "text": [
            "/usr/local/lib/python3.11/dist-packages/lightgbm/engine.py:204: UserWarning: Found `num_iterations` in params. Will use it instead of argument\n",
            "  _log_warning(f\"Found `{alias}` in params. Will use it instead of argument\")\n",
            "\n"
          ]
        },
        {
          "output_type": "stream",
          "name": "stdout",
          "text": [
            "[HPO] accuracy with {'learning_rate': 0.018262702862086186, 'max_depth': 7} :  62.16 %\n",
            " 44%|████▍     | 44/100 [00:28<00:26,  2.10trial/s, best loss: -0.8168627450980392]"
          ]
        },
        {
          "output_type": "stream",
          "name": "stderr",
          "text": [
            "/usr/local/lib/python3.11/dist-packages/lightgbm/engine.py:204: UserWarning: Found `num_iterations` in params. Will use it instead of argument\n",
            "  _log_warning(f\"Found `{alias}` in params. Will use it instead of argument\")\n",
            "\n"
          ]
        },
        {
          "output_type": "stream",
          "name": "stdout",
          "text": [
            "[HPO] accuracy with {'learning_rate': 0.002137720159552155, 'max_depth': 13} :  50.75 %\n",
            " 45%|████▌     | 45/100 [00:28<00:25,  2.12trial/s, best loss: -0.8168627450980392]"
          ]
        },
        {
          "output_type": "stream",
          "name": "stderr",
          "text": [
            "/usr/local/lib/python3.11/dist-packages/lightgbm/engine.py:204: UserWarning: Found `num_iterations` in params. Will use it instead of argument\n",
            "  _log_warning(f\"Found `{alias}` in params. Will use it instead of argument\")\n",
            "\n"
          ]
        },
        {
          "output_type": "stream",
          "name": "stdout",
          "text": [
            "[HPO] accuracy with {'learning_rate': 0.034167140747638845, 'max_depth': 15} :  70.59 %\n",
            " 46%|████▌     | 46/100 [00:29<00:25,  2.12trial/s, best loss: -0.8168627450980392]"
          ]
        },
        {
          "output_type": "stream",
          "name": "stderr",
          "text": [
            "/usr/local/lib/python3.11/dist-packages/lightgbm/engine.py:204: UserWarning: Found `num_iterations` in params. Will use it instead of argument\n",
            "  _log_warning(f\"Found `{alias}` in params. Will use it instead of argument\")\n",
            "\n"
          ]
        },
        {
          "output_type": "stream",
          "name": "stdout",
          "text": [
            "[HPO] accuracy with {'learning_rate': 0.012921893154022956, 'max_depth': 14} :  60.98 %\n",
            " 47%|████▋     | 47/100 [00:29<00:25,  2.11trial/s, best loss: -0.8168627450980392]"
          ]
        },
        {
          "output_type": "stream",
          "name": "stderr",
          "text": [
            "/usr/local/lib/python3.11/dist-packages/lightgbm/engine.py:204: UserWarning: Found `num_iterations` in params. Will use it instead of argument\n",
            "  _log_warning(f\"Found `{alias}` in params. Will use it instead of argument\")\n",
            "\n"
          ]
        },
        {
          "output_type": "stream",
          "name": "stdout",
          "text": [
            "[HPO] accuracy with {'learning_rate': 0.04405785304102351, 'max_depth': 5} :  62.12 %\n",
            " 48%|████▊     | 48/100 [00:30<00:24,  2.14trial/s, best loss: -0.8168627450980392]"
          ]
        },
        {
          "output_type": "stream",
          "name": "stderr",
          "text": [
            "/usr/local/lib/python3.11/dist-packages/lightgbm/engine.py:204: UserWarning: Found `num_iterations` in params. Will use it instead of argument\n",
            "  _log_warning(f\"Found `{alias}` in params. Will use it instead of argument\")\n",
            "\n"
          ]
        },
        {
          "output_type": "stream",
          "name": "stdout",
          "text": [
            "[HPO] accuracy with {'learning_rate': 0.1799543466063854, 'max_depth': 12} :  80.86 %\n",
            " 49%|████▉     | 49/100 [00:30<00:23,  2.20trial/s, best loss: -0.8168627450980392]"
          ]
        },
        {
          "output_type": "stream",
          "name": "stderr",
          "text": [
            "/usr/local/lib/python3.11/dist-packages/lightgbm/engine.py:204: UserWarning: Found `num_iterations` in params. Will use it instead of argument\n",
            "  _log_warning(f\"Found `{alias}` in params. Will use it instead of argument\")\n",
            "\n"
          ]
        },
        {
          "output_type": "stream",
          "name": "stdout",
          "text": [
            "[HPO] accuracy with {'learning_rate': 0.0779758937603455, 'max_depth': 10} :  76.39 %\n",
            " 50%|█████     | 50/100 [00:31<00:22,  2.19trial/s, best loss: -0.8168627450980392]"
          ]
        },
        {
          "output_type": "stream",
          "name": "stderr",
          "text": [
            "/usr/local/lib/python3.11/dist-packages/lightgbm/engine.py:204: UserWarning: Found `num_iterations` in params. Will use it instead of argument\n",
            "  _log_warning(f\"Found `{alias}` in params. Will use it instead of argument\")\n",
            "\n"
          ]
        },
        {
          "output_type": "stream",
          "name": "stdout",
          "text": [
            "[HPO] accuracy with {'learning_rate': 0.2478775276970322, 'max_depth': 13} :  82.04 %\n",
            " 51%|█████     | 51/100 [00:31<00:21,  2.25trial/s, best loss: -0.8203921568627451]"
          ]
        },
        {
          "output_type": "stream",
          "name": "stderr",
          "text": [
            "/usr/local/lib/python3.11/dist-packages/lightgbm/engine.py:204: UserWarning: Found `num_iterations` in params. Will use it instead of argument\n",
            "  _log_warning(f\"Found `{alias}` in params. Will use it instead of argument\")\n",
            "\n"
          ]
        },
        {
          "output_type": "stream",
          "name": "stdout",
          "text": [
            "[HPO] accuracy with {'learning_rate': 0.006244703674913168, 'max_depth': 6} :  52.75 %\n",
            " 52%|█████▏    | 52/100 [00:31<00:21,  2.21trial/s, best loss: -0.8203921568627451]"
          ]
        },
        {
          "output_type": "stream",
          "name": "stderr",
          "text": [
            "/usr/local/lib/python3.11/dist-packages/lightgbm/engine.py:204: UserWarning: Found `num_iterations` in params. Will use it instead of argument\n",
            "  _log_warning(f\"Found `{alias}` in params. Will use it instead of argument\")\n",
            "\n"
          ]
        },
        {
          "output_type": "stream",
          "name": "stdout",
          "text": [
            "[HPO] accuracy with {'learning_rate': 0.12384395477374559, 'max_depth': 8} :  78.12 %\n",
            " 53%|█████▎    | 53/100 [00:32<00:21,  2.20trial/s, best loss: -0.8203921568627451]"
          ]
        },
        {
          "output_type": "stream",
          "name": "stderr",
          "text": [
            "/usr/local/lib/python3.11/dist-packages/lightgbm/engine.py:204: UserWarning: Found `num_iterations` in params. Will use it instead of argument\n",
            "  _log_warning(f\"Found `{alias}` in params. Will use it instead of argument\")\n",
            "\n"
          ]
        },
        {
          "output_type": "stream",
          "name": "stdout",
          "text": [
            "[HPO] accuracy with {'learning_rate': 0.08831830403046581, 'max_depth': 15} :  76.67 %\n",
            " 54%|█████▍    | 54/100 [00:32<00:20,  2.22trial/s, best loss: -0.8203921568627451]"
          ]
        },
        {
          "output_type": "stream",
          "name": "stderr",
          "text": [
            "/usr/local/lib/python3.11/dist-packages/lightgbm/engine.py:204: UserWarning: Found `num_iterations` in params. Will use it instead of argument\n",
            "  _log_warning(f\"Found `{alias}` in params. Will use it instead of argument\")\n",
            "\n"
          ]
        },
        {
          "output_type": "stream",
          "name": "stdout",
          "text": [
            "[HPO] accuracy with {'learning_rate': 0.001078797775876002, 'max_depth': 14} :  45.80 %\n",
            " 55%|█████▌    | 55/100 [00:33<00:23,  1.92trial/s, best loss: -0.8203921568627451]"
          ]
        },
        {
          "output_type": "stream",
          "name": "stderr",
          "text": [
            "/usr/local/lib/python3.11/dist-packages/lightgbm/engine.py:204: UserWarning: Found `num_iterations` in params. Will use it instead of argument\n",
            "  _log_warning(f\"Found `{alias}` in params. Will use it instead of argument\")\n",
            "\n"
          ]
        },
        {
          "output_type": "stream",
          "name": "stdout",
          "text": [
            "[HPO] accuracy with {'learning_rate': 0.0027974761218706257, 'max_depth': 10} :  51.06 %\n",
            " 56%|█████▌    | 56/100 [00:34<00:25,  1.74trial/s, best loss: -0.8203921568627451]"
          ]
        },
        {
          "output_type": "stream",
          "name": "stderr",
          "text": [
            "/usr/local/lib/python3.11/dist-packages/lightgbm/engine.py:204: UserWarning: Found `num_iterations` in params. Will use it instead of argument\n",
            "  _log_warning(f\"Found `{alias}` in params. Will use it instead of argument\")\n",
            "\n"
          ]
        },
        {
          "output_type": "stream",
          "name": "stdout",
          "text": [
            "[HPO] accuracy with {'learning_rate': 0.004181540398301936, 'max_depth': 4} :  41.61 %\n",
            " 57%|█████▋    | 57/100 [00:34<00:21,  1.97trial/s, best loss: -0.8203921568627451]"
          ]
        },
        {
          "output_type": "stream",
          "name": "stderr",
          "text": [
            "/usr/local/lib/python3.11/dist-packages/lightgbm/engine.py:204: UserWarning: Found `num_iterations` in params. Will use it instead of argument\n",
            "  _log_warning(f\"Found `{alias}` in params. Will use it instead of argument\")\n",
            "\n"
          ]
        },
        {
          "output_type": "stream",
          "name": "stdout",
          "text": [
            "[HPO] accuracy with {'learning_rate': 0.02846797968032994, 'max_depth': 9} :  67.53 %\n",
            " 58%|█████▊    | 58/100 [00:35<00:21,  1.99trial/s, best loss: -0.8203921568627451]"
          ]
        },
        {
          "output_type": "stream",
          "name": "stderr",
          "text": [
            "/usr/local/lib/python3.11/dist-packages/lightgbm/engine.py:204: UserWarning: Found `num_iterations` in params. Will use it instead of argument\n",
            "  _log_warning(f\"Found `{alias}` in params. Will use it instead of argument\")\n",
            "\n"
          ]
        },
        {
          "output_type": "stream",
          "name": "stdout",
          "text": [
            "[HPO] accuracy with {'learning_rate': 0.24856550331704014, 'max_depth': 11} :  82.43 %\n",
            " 59%|█████▉    | 59/100 [00:35<00:19,  2.09trial/s, best loss: -0.8243137254901961]"
          ]
        },
        {
          "output_type": "stream",
          "name": "stderr",
          "text": [
            "/usr/local/lib/python3.11/dist-packages/lightgbm/engine.py:204: UserWarning: Found `num_iterations` in params. Will use it instead of argument\n",
            "  _log_warning(f\"Found `{alias}` in params. Will use it instead of argument\")\n",
            "\n"
          ]
        },
        {
          "output_type": "stream",
          "name": "stdout",
          "text": [
            "[HPO] accuracy with {'learning_rate': 0.01991280209404481, 'max_depth': 13} :  65.06 %\n",
            " 60%|██████    | 60/100 [00:36<00:19,  2.08trial/s, best loss: -0.8243137254901961]"
          ]
        },
        {
          "output_type": "stream",
          "name": "stderr",
          "text": [
            "/usr/local/lib/python3.11/dist-packages/lightgbm/engine.py:204: UserWarning: Found `num_iterations` in params. Will use it instead of argument\n",
            "  _log_warning(f\"Found `{alias}` in params. Will use it instead of argument\")\n",
            "\n"
          ]
        },
        {
          "output_type": "stream",
          "name": "stdout",
          "text": [
            "[HPO] accuracy with {'learning_rate': 0.053941753670978844, 'max_depth': 11} :  73.33 %\n",
            " 61%|██████    | 61/100 [00:36<00:18,  2.09trial/s, best loss: -0.8243137254901961]"
          ]
        },
        {
          "output_type": "stream",
          "name": "stderr",
          "text": [
            "/usr/local/lib/python3.11/dist-packages/lightgbm/engine.py:204: UserWarning: Found `num_iterations` in params. Will use it instead of argument\n",
            "  _log_warning(f\"Found `{alias}` in params. Will use it instead of argument\")\n",
            "\n"
          ]
        },
        {
          "output_type": "stream",
          "name": "stdout",
          "text": [
            "[HPO] accuracy with {'learning_rate': 0.015111456610421807, 'max_depth': 12} :  62.43 %\n",
            " 62%|██████▏   | 62/100 [00:36<00:18,  2.08trial/s, best loss: -0.8243137254901961]"
          ]
        },
        {
          "output_type": "stream",
          "name": "stderr",
          "text": [
            "/usr/local/lib/python3.11/dist-packages/lightgbm/engine.py:204: UserWarning: Found `num_iterations` in params. Will use it instead of argument\n",
            "  _log_warning(f\"Found `{alias}` in params. Will use it instead of argument\")\n",
            "\n"
          ]
        },
        {
          "output_type": "stream",
          "name": "stdout",
          "text": [
            "[HPO] accuracy with {'learning_rate': 0.16730283504391608, 'max_depth': 13} :  81.69 %\n",
            " 63%|██████▎   | 63/100 [00:37<00:17,  2.14trial/s, best loss: -0.8243137254901961]"
          ]
        },
        {
          "output_type": "stream",
          "name": "stderr",
          "text": [
            "/usr/local/lib/python3.11/dist-packages/lightgbm/engine.py:204: UserWarning: Found `num_iterations` in params. Will use it instead of argument\n",
            "  _log_warning(f\"Found `{alias}` in params. Will use it instead of argument\")\n",
            "\n"
          ]
        },
        {
          "output_type": "stream",
          "name": "stdout",
          "text": [
            "[HPO] accuracy with {'learning_rate': 0.0401100578161624, 'max_depth': 15} :  70.51 %\n",
            " 64%|██████▍   | 64/100 [00:37<00:16,  2.14trial/s, best loss: -0.8243137254901961]"
          ]
        },
        {
          "output_type": "stream",
          "name": "stderr",
          "text": [
            "/usr/local/lib/python3.11/dist-packages/lightgbm/engine.py:204: UserWarning: Found `num_iterations` in params. Will use it instead of argument\n",
            "  _log_warning(f\"Found `{alias}` in params. Will use it instead of argument\")\n",
            "\n"
          ]
        },
        {
          "output_type": "stream",
          "name": "stdout",
          "text": [
            "[HPO] accuracy with {'learning_rate': 0.21242665567149832, 'max_depth': 14} :  81.80 %\n",
            " 65%|██████▌   | 65/100 [00:38<00:16,  2.15trial/s, best loss: -0.8243137254901961]"
          ]
        },
        {
          "output_type": "stream",
          "name": "stderr",
          "text": [
            "/usr/local/lib/python3.11/dist-packages/lightgbm/engine.py:204: UserWarning: Found `num_iterations` in params. Will use it instead of argument\n",
            "  _log_warning(f\"Found `{alias}` in params. Will use it instead of argument\")\n",
            "\n"
          ]
        },
        {
          "output_type": "stream",
          "name": "stdout",
          "text": [
            "[HPO] accuracy with {'learning_rate': 0.20697945478985144, 'max_depth': 14} :  81.45 %\n",
            " 66%|██████▌   | 66/100 [00:38<00:15,  2.21trial/s, best loss: -0.8243137254901961]"
          ]
        },
        {
          "output_type": "stream",
          "name": "stderr",
          "text": [
            "/usr/local/lib/python3.11/dist-packages/lightgbm/engine.py:204: UserWarning: Found `num_iterations` in params. Will use it instead of argument\n",
            "  _log_warning(f\"Found `{alias}` in params. Will use it instead of argument\")\n",
            "\n"
          ]
        },
        {
          "output_type": "stream",
          "name": "stdout",
          "text": [
            "[HPO] accuracy with {'learning_rate': 0.13159816946816533, 'max_depth': 13} :  80.39 %\n",
            " 67%|██████▋   | 67/100 [00:39<00:15,  2.19trial/s, best loss: -0.8243137254901961]"
          ]
        },
        {
          "output_type": "stream",
          "name": "stderr",
          "text": [
            "/usr/local/lib/python3.11/dist-packages/lightgbm/engine.py:204: UserWarning: Found `num_iterations` in params. Will use it instead of argument\n",
            "  _log_warning(f\"Found `{alias}` in params. Will use it instead of argument\")\n",
            "\n"
          ]
        },
        {
          "output_type": "stream",
          "name": "stdout",
          "text": [
            "[HPO] accuracy with {'learning_rate': 0.07071878626433103, 'max_depth': 11} :  74.94 %\n",
            " 68%|██████▊   | 68/100 [00:39<00:14,  2.17trial/s, best loss: -0.8243137254901961]"
          ]
        },
        {
          "output_type": "stream",
          "name": "stderr",
          "text": [
            "/usr/local/lib/python3.11/dist-packages/lightgbm/engine.py:204: UserWarning: Found `num_iterations` in params. Will use it instead of argument\n",
            "  _log_warning(f\"Found `{alias}` in params. Will use it instead of argument\")\n",
            "\n"
          ]
        },
        {
          "output_type": "stream",
          "name": "stdout",
          "text": [
            "[HPO] accuracy with {'learning_rate': 0.0904712423640381, 'max_depth': 15} :  77.33 %\n",
            " 69%|██████▉   | 69/100 [00:40<00:14,  2.17trial/s, best loss: -0.8243137254901961]"
          ]
        },
        {
          "output_type": "stream",
          "name": "stderr",
          "text": [
            "/usr/local/lib/python3.11/dist-packages/lightgbm/engine.py:204: UserWarning: Found `num_iterations` in params. Will use it instead of argument\n",
            "  _log_warning(f\"Found `{alias}` in params. Will use it instead of argument\")\n",
            "\n"
          ]
        },
        {
          "output_type": "stream",
          "name": "stdout",
          "text": [
            "[HPO] accuracy with {'learning_rate': 0.14753652510587892, 'max_depth': 12} :  80.47 %\n",
            " 70%|███████   | 70/100 [00:40<00:13,  2.20trial/s, best loss: -0.8243137254901961]"
          ]
        },
        {
          "output_type": "stream",
          "name": "stderr",
          "text": [
            "/usr/local/lib/python3.11/dist-packages/lightgbm/engine.py:204: UserWarning: Found `num_iterations` in params. Will use it instead of argument\n",
            "  _log_warning(f\"Found `{alias}` in params. Will use it instead of argument\")\n",
            "\n"
          ]
        },
        {
          "output_type": "stream",
          "name": "stdout",
          "text": [
            "[HPO] accuracy with {'learning_rate': 0.20979151017814684, 'max_depth': 14} :  81.53 %\n",
            " 71%|███████   | 71/100 [00:41<00:12,  2.23trial/s, best loss: -0.8243137254901961]"
          ]
        },
        {
          "output_type": "stream",
          "name": "stderr",
          "text": [
            "/usr/local/lib/python3.11/dist-packages/lightgbm/engine.py:204: UserWarning: Found `num_iterations` in params. Will use it instead of argument\n",
            "  _log_warning(f\"Found `{alias}` in params. Will use it instead of argument\")\n",
            "\n"
          ]
        },
        {
          "output_type": "stream",
          "name": "stdout",
          "text": [
            "[HPO] accuracy with {'learning_rate': 0.11897707875484315, 'max_depth': 12} :  79.25 %\n",
            " 72%|███████▏  | 72/100 [00:41<00:12,  2.23trial/s, best loss: -0.8243137254901961]"
          ]
        },
        {
          "output_type": "stream",
          "name": "stderr",
          "text": [
            "/usr/local/lib/python3.11/dist-packages/lightgbm/engine.py:204: UserWarning: Found `num_iterations` in params. Will use it instead of argument\n",
            "  _log_warning(f\"Found `{alias}` in params. Will use it instead of argument\")\n",
            "\n"
          ]
        },
        {
          "output_type": "stream",
          "name": "stdout",
          "text": [
            "[HPO] accuracy with {'learning_rate': 0.24549907100371396, 'max_depth': 14} :  81.57 %\n",
            " 73%|███████▎  | 73/100 [00:41<00:11,  2.25trial/s, best loss: -0.8243137254901961]"
          ]
        },
        {
          "output_type": "stream",
          "name": "stderr",
          "text": [
            "/usr/local/lib/python3.11/dist-packages/lightgbm/engine.py:204: UserWarning: Found `num_iterations` in params. Will use it instead of argument\n",
            "  _log_warning(f\"Found `{alias}` in params. Will use it instead of argument\")\n",
            "\n"
          ]
        },
        {
          "output_type": "stream",
          "name": "stdout",
          "text": [
            "[HPO] accuracy with {'learning_rate': 0.007884896717262637, 'max_depth': 11} :  57.37 %\n",
            " 74%|███████▍  | 74/100 [00:42<00:12,  2.16trial/s, best loss: -0.8243137254901961]"
          ]
        },
        {
          "output_type": "stream",
          "name": "stderr",
          "text": [
            "/usr/local/lib/python3.11/dist-packages/lightgbm/engine.py:204: UserWarning: Found `num_iterations` in params. Will use it instead of argument\n",
            "  _log_warning(f\"Found `{alias}` in params. Will use it instead of argument\")\n",
            "\n"
          ]
        },
        {
          "output_type": "stream",
          "name": "stdout",
          "text": [
            "[HPO] accuracy with {'learning_rate': 0.16980004731327397, 'max_depth': 13} :  80.31 %\n",
            " 75%|███████▌  | 75/100 [00:42<00:11,  2.19trial/s, best loss: -0.8243137254901961]"
          ]
        },
        {
          "output_type": "stream",
          "name": "stderr",
          "text": [
            "/usr/local/lib/python3.11/dist-packages/lightgbm/engine.py:204: UserWarning: Found `num_iterations` in params. Will use it instead of argument\n",
            "  _log_warning(f\"Found `{alias}` in params. Will use it instead of argument\")\n",
            "\n"
          ]
        },
        {
          "output_type": "stream",
          "name": "stdout",
          "text": [
            "[HPO] accuracy with {'learning_rate': 0.09707016482914922, 'max_depth': 15} :  78.55 %\n",
            " 76%|███████▌  | 76/100 [00:43<00:10,  2.19trial/s, best loss: -0.8243137254901961]"
          ]
        },
        {
          "output_type": "stream",
          "name": "stderr",
          "text": [
            "/usr/local/lib/python3.11/dist-packages/lightgbm/engine.py:204: UserWarning: Found `num_iterations` in params. Will use it instead of argument\n",
            "  _log_warning(f\"Found `{alias}` in params. Will use it instead of argument\")\n",
            "\n"
          ]
        },
        {
          "output_type": "stream",
          "name": "stdout",
          "text": [
            "[HPO] accuracy with {'learning_rate': 0.07033717901757204, 'max_depth': 12} :  76.00 %\n",
            " 77%|███████▋  | 77/100 [00:43<00:10,  2.18trial/s, best loss: -0.8243137254901961]"
          ]
        },
        {
          "output_type": "stream",
          "name": "stderr",
          "text": [
            "/usr/local/lib/python3.11/dist-packages/lightgbm/engine.py:204: UserWarning: Found `num_iterations` in params. Will use it instead of argument\n",
            "  _log_warning(f\"Found `{alias}` in params. Will use it instead of argument\")\n",
            "\n"
          ]
        },
        {
          "output_type": "stream",
          "name": "stdout",
          "text": [
            "[HPO] accuracy with {'learning_rate': 0.24836177748132504, 'max_depth': 11} :  81.88 %\n",
            " 78%|███████▊  | 78/100 [00:44<00:09,  2.22trial/s, best loss: -0.8243137254901961]"
          ]
        },
        {
          "output_type": "stream",
          "name": "stderr",
          "text": [
            "/usr/local/lib/python3.11/dist-packages/lightgbm/engine.py:204: UserWarning: Found `num_iterations` in params. Will use it instead of argument\n",
            "  _log_warning(f\"Found `{alias}` in params. Will use it instead of argument\")\n",
            "\n"
          ]
        },
        {
          "output_type": "stream",
          "name": "stdout",
          "text": [
            "[HPO] accuracy with {'learning_rate': 0.18430248142561328, 'max_depth': 10} :  81.45 %\n",
            " 79%|███████▉  | 79/100 [00:44<00:10,  2.06trial/s, best loss: -0.8243137254901961]"
          ]
        },
        {
          "output_type": "stream",
          "name": "stderr",
          "text": [
            "/usr/local/lib/python3.11/dist-packages/lightgbm/engine.py:204: UserWarning: Found `num_iterations` in params. Will use it instead of argument\n",
            "  _log_warning(f\"Found `{alias}` in params. Will use it instead of argument\")\n",
            "\n"
          ]
        },
        {
          "output_type": "stream",
          "name": "stdout",
          "text": [
            "[HPO] accuracy with {'learning_rate': 0.14699103956734003, 'max_depth': 9} :  80.59 %\n",
            " 80%|████████  | 80/100 [00:45<00:10,  1.85trial/s, best loss: -0.8243137254901961]"
          ]
        },
        {
          "output_type": "stream",
          "name": "stderr",
          "text": [
            "/usr/local/lib/python3.11/dist-packages/lightgbm/engine.py:204: UserWarning: Found `num_iterations` in params. Will use it instead of argument\n",
            "  _log_warning(f\"Found `{alias}` in params. Will use it instead of argument\")\n",
            "\n"
          ]
        },
        {
          "output_type": "stream",
          "name": "stdout",
          "text": [
            "[HPO] accuracy with {'learning_rate': 0.05176865581655366, 'max_depth': 11} :  73.22 %\n",
            " 81%|████████  | 81/100 [00:46<00:10,  1.82trial/s, best loss: -0.8243137254901961]"
          ]
        },
        {
          "output_type": "stream",
          "name": "stderr",
          "text": [
            "/usr/local/lib/python3.11/dist-packages/lightgbm/engine.py:204: UserWarning: Found `num_iterations` in params. Will use it instead of argument\n",
            "  _log_warning(f\"Found `{alias}` in params. Will use it instead of argument\")\n",
            "\n"
          ]
        },
        {
          "output_type": "stream",
          "name": "stdout",
          "text": [
            "[HPO] accuracy with {'learning_rate': 0.08159237513868761, 'max_depth': 8} :  74.47 %\n",
            " 82%|████████▏ | 82/100 [00:46<00:09,  1.88trial/s, best loss: -0.8243137254901961]"
          ]
        },
        {
          "output_type": "stream",
          "name": "stderr",
          "text": [
            "/usr/local/lib/python3.11/dist-packages/lightgbm/engine.py:204: UserWarning: Found `num_iterations` in params. Will use it instead of argument\n",
            "  _log_warning(f\"Found `{alias}` in params. Will use it instead of argument\")\n",
            "\n"
          ]
        },
        {
          "output_type": "stream",
          "name": "stdout",
          "text": [
            "[HPO] accuracy with {'learning_rate': 0.13330554866258568, 'max_depth': 11} :  80.16 %\n",
            " 83%|████████▎ | 83/100 [00:46<00:08,  1.98trial/s, best loss: -0.8243137254901961]"
          ]
        },
        {
          "output_type": "stream",
          "name": "stderr",
          "text": [
            "/usr/local/lib/python3.11/dist-packages/lightgbm/engine.py:204: UserWarning: Found `num_iterations` in params. Will use it instead of argument\n",
            "  _log_warning(f\"Found `{alias}` in params. Will use it instead of argument\")\n",
            "\n"
          ]
        },
        {
          "output_type": "stream",
          "name": "stdout",
          "text": [
            "[HPO] accuracy with {'learning_rate': 0.24670312862112165, 'max_depth': 7} :  81.33 %\n",
            " 84%|████████▍ | 84/100 [00:47<00:07,  2.02trial/s, best loss: -0.8243137254901961]"
          ]
        },
        {
          "output_type": "stream",
          "name": "stderr",
          "text": [
            "/usr/local/lib/python3.11/dist-packages/lightgbm/engine.py:204: UserWarning: Found `num_iterations` in params. Will use it instead of argument\n",
            "  _log_warning(f\"Found `{alias}` in params. Will use it instead of argument\")\n",
            "\n"
          ]
        },
        {
          "output_type": "stream",
          "name": "stdout",
          "text": [
            "[HPO] accuracy with {'learning_rate': 0.02875709679845763, 'max_depth': 10} :  67.92 %\n",
            " 85%|████████▌ | 85/100 [00:47<00:07,  2.02trial/s, best loss: -0.8243137254901961]"
          ]
        },
        {
          "output_type": "stream",
          "name": "stderr",
          "text": [
            "/usr/local/lib/python3.11/dist-packages/lightgbm/engine.py:204: UserWarning: Found `num_iterations` in params. Will use it instead of argument\n",
            "  _log_warning(f\"Found `{alias}` in params. Will use it instead of argument\")\n",
            "\n"
          ]
        },
        {
          "output_type": "stream",
          "name": "stdout",
          "text": [
            "[HPO] accuracy with {'learning_rate': 0.10668577321882383, 'max_depth': 9} :  78.00 %\n",
            " 86%|████████▌ | 86/100 [00:48<00:06,  2.04trial/s, best loss: -0.8243137254901961]"
          ]
        },
        {
          "output_type": "stream",
          "name": "stderr",
          "text": [
            "/usr/local/lib/python3.11/dist-packages/lightgbm/engine.py:204: UserWarning: Found `num_iterations` in params. Will use it instead of argument\n",
            "  _log_warning(f\"Found `{alias}` in params. Will use it instead of argument\")\n",
            "\n"
          ]
        },
        {
          "output_type": "stream",
          "name": "stdout",
          "text": [
            "[HPO] accuracy with {'learning_rate': 0.06209373085655119, 'max_depth': 13} :  74.04 %\n",
            " 87%|████████▋ | 87/100 [00:48<00:06,  2.09trial/s, best loss: -0.8243137254901961]"
          ]
        },
        {
          "output_type": "stream",
          "name": "stderr",
          "text": [
            "/usr/local/lib/python3.11/dist-packages/lightgbm/engine.py:204: UserWarning: Found `num_iterations` in params. Will use it instead of argument\n",
            "  _log_warning(f\"Found `{alias}` in params. Will use it instead of argument\")\n",
            "\n"
          ]
        },
        {
          "output_type": "stream",
          "name": "stdout",
          "text": [
            "[HPO] accuracy with {'learning_rate': 0.0014814725475568425, 'max_depth': 12} :  48.08 %\n",
            " 88%|████████▊ | 88/100 [00:49<00:05,  2.09trial/s, best loss: -0.8243137254901961]"
          ]
        },
        {
          "output_type": "stream",
          "name": "stderr",
          "text": [
            "/usr/local/lib/python3.11/dist-packages/lightgbm/engine.py:204: UserWarning: Found `num_iterations` in params. Will use it instead of argument\n",
            "  _log_warning(f\"Found `{alias}` in params. Will use it instead of argument\")\n",
            "\n"
          ]
        },
        {
          "output_type": "stream",
          "name": "stdout",
          "text": [
            "[HPO] accuracy with {'learning_rate': 0.012349159861443117, 'max_depth': 8} :  59.10 %\n",
            " 89%|████████▉ | 89/100 [00:49<00:05,  2.08trial/s, best loss: -0.8243137254901961]"
          ]
        },
        {
          "output_type": "stream",
          "name": "stderr",
          "text": [
            "/usr/local/lib/python3.11/dist-packages/lightgbm/engine.py:204: UserWarning: Found `num_iterations` in params. Will use it instead of argument\n",
            "  _log_warning(f\"Found `{alias}` in params. Will use it instead of argument\")\n",
            "\n"
          ]
        },
        {
          "output_type": "stream",
          "name": "stdout",
          "text": [
            "[HPO] accuracy with {'learning_rate': 0.03850001711462245, 'max_depth': 11} :  70.67 %\n",
            " 90%|█████████ | 90/100 [00:50<00:04,  2.05trial/s, best loss: -0.8243137254901961]"
          ]
        },
        {
          "output_type": "stream",
          "name": "stderr",
          "text": [
            "/usr/local/lib/python3.11/dist-packages/lightgbm/engine.py:204: UserWarning: Found `num_iterations` in params. Will use it instead of argument\n",
            "  _log_warning(f\"Found `{alias}` in params. Will use it instead of argument\")\n",
            "\n"
          ]
        },
        {
          "output_type": "stream",
          "name": "stdout",
          "text": [
            "[HPO] accuracy with {'learning_rate': 0.023539694279663393, 'max_depth': 10} :  65.73 %\n",
            " 91%|█████████ | 91/100 [00:50<00:04,  2.05trial/s, best loss: -0.8243137254901961]"
          ]
        },
        {
          "output_type": "stream",
          "name": "stderr",
          "text": [
            "/usr/local/lib/python3.11/dist-packages/lightgbm/engine.py:204: UserWarning: Found `num_iterations` in params. Will use it instead of argument\n",
            "  _log_warning(f\"Found `{alias}` in params. Will use it instead of argument\")\n",
            "\n"
          ]
        },
        {
          "output_type": "stream",
          "name": "stdout",
          "text": [
            "[HPO] accuracy with {'learning_rate': 0.046035125627658144, 'max_depth': 12} :  72.86 %\n",
            " 92%|█████████▏| 92/100 [00:51<00:03,  2.05trial/s, best loss: -0.8243137254901961]"
          ]
        },
        {
          "output_type": "stream",
          "name": "stderr",
          "text": [
            "/usr/local/lib/python3.11/dist-packages/lightgbm/engine.py:204: UserWarning: Found `num_iterations` in params. Will use it instead of argument\n",
            "  _log_warning(f\"Found `{alias}` in params. Will use it instead of argument\")\n",
            "\n"
          ]
        },
        {
          "output_type": "stream",
          "name": "stdout",
          "text": [
            "[HPO] accuracy with {'learning_rate': 0.22941858224112208, 'max_depth': 13} :  82.20 %\n",
            " 93%|█████████▎| 93/100 [00:51<00:03,  2.12trial/s, best loss: -0.8243137254901961]"
          ]
        },
        {
          "output_type": "stream",
          "name": "stderr",
          "text": [
            "/usr/local/lib/python3.11/dist-packages/lightgbm/engine.py:204: UserWarning: Found `num_iterations` in params. Will use it instead of argument\n",
            "  _log_warning(f\"Found `{alias}` in params. Will use it instead of argument\")\n",
            "\n"
          ]
        },
        {
          "output_type": "stream",
          "name": "stdout",
          "text": [
            "[HPO] accuracy with {'learning_rate': 0.19997263817126434, 'max_depth': 13} :  81.14 %\n",
            " 94%|█████████▍| 94/100 [00:52<00:02,  2.14trial/s, best loss: -0.8243137254901961]"
          ]
        },
        {
          "output_type": "stream",
          "name": "stderr",
          "text": [
            "/usr/local/lib/python3.11/dist-packages/lightgbm/engine.py:204: UserWarning: Found `num_iterations` in params. Will use it instead of argument\n",
            "  _log_warning(f\"Found `{alias}` in params. Will use it instead of argument\")\n",
            "\n"
          ]
        },
        {
          "output_type": "stream",
          "name": "stdout",
          "text": [
            "[HPO] accuracy with {'learning_rate': 0.16628167221233842, 'max_depth': 14} :  81.49 %\n",
            " 95%|█████████▌| 95/100 [00:52<00:02,  2.19trial/s, best loss: -0.8243137254901961]"
          ]
        },
        {
          "output_type": "stream",
          "name": "stderr",
          "text": [
            "/usr/local/lib/python3.11/dist-packages/lightgbm/engine.py:204: UserWarning: Found `num_iterations` in params. Will use it instead of argument\n",
            "  _log_warning(f\"Found `{alias}` in params. Will use it instead of argument\")\n",
            "\n"
          ]
        },
        {
          "output_type": "stream",
          "name": "stdout",
          "text": [
            "[HPO] accuracy with {'learning_rate': 0.09598532612070311, 'max_depth': 13} :  78.86 %\n",
            " 96%|█████████▌| 96/100 [00:53<00:01,  2.20trial/s, best loss: -0.8243137254901961]"
          ]
        },
        {
          "output_type": "stream",
          "name": "stderr",
          "text": [
            "/usr/local/lib/python3.11/dist-packages/lightgbm/engine.py:204: UserWarning: Found `num_iterations` in params. Will use it instead of argument\n",
            "  _log_warning(f\"Found `{alias}` in params. Will use it instead of argument\")\n",
            "\n"
          ]
        },
        {
          "output_type": "stream",
          "name": "stdout",
          "text": [
            "[HPO] accuracy with {'learning_rate': 0.0027651936131768587, 'max_depth': 13} :  51.10 %\n",
            " 97%|█████████▋| 97/100 [00:53<00:01,  2.15trial/s, best loss: -0.8243137254901961]"
          ]
        },
        {
          "output_type": "stream",
          "name": "stderr",
          "text": [
            "/usr/local/lib/python3.11/dist-packages/lightgbm/engine.py:204: UserWarning: Found `num_iterations` in params. Will use it instead of argument\n",
            "  _log_warning(f\"Found `{alias}` in params. Will use it instead of argument\")\n",
            "\n"
          ]
        },
        {
          "output_type": "stream",
          "name": "stdout",
          "text": [
            "[HPO] accuracy with {'learning_rate': 0.22287926820236306, 'max_depth': 3} :  55.14 %\n",
            " 98%|█████████▊| 98/100 [00:53<00:00,  2.40trial/s, best loss: -0.8243137254901961]"
          ]
        },
        {
          "output_type": "stream",
          "name": "stderr",
          "text": [
            "/usr/local/lib/python3.11/dist-packages/lightgbm/engine.py:204: UserWarning: Found `num_iterations` in params. Will use it instead of argument\n",
            "  _log_warning(f\"Found `{alias}` in params. Will use it instead of argument\")\n",
            "\n"
          ]
        },
        {
          "output_type": "stream",
          "name": "stdout",
          "text": [
            "[HPO] accuracy with {'learning_rate': 0.004883156112305677, 'max_depth': 15} :  53.25 %\n",
            " 99%|█████████▉| 99/100 [00:54<00:00,  2.28trial/s, best loss: -0.8243137254901961]"
          ]
        },
        {
          "output_type": "stream",
          "name": "stderr",
          "text": [
            "/usr/local/lib/python3.11/dist-packages/lightgbm/engine.py:204: UserWarning: Found `num_iterations` in params. Will use it instead of argument\n",
            "  _log_warning(f\"Found `{alias}` in params. Will use it instead of argument\")\n",
            "\n"
          ]
        },
        {
          "output_type": "stream",
          "name": "stdout",
          "text": [
            "[HPO] accuracy with {'learning_rate': 0.12025214350507642, 'max_depth': 12} :  79.33 %\n",
            "100%|██████████| 100/100 [00:54<00:00,  1.82trial/s, best loss: -0.8243137254901961]\n"
          ]
        }
      ]
    },
    {
      "cell_type": "code",
      "source": [
        "# 최적의 하이퍼파라미터 확인\n",
        "\n",
        "best_params_hyperopt[\"max_depth\"] = int(best_params_hyperopt[\"max_depth\"])\n",
        "\n",
        "print(f'Best Parameters : {best_params_hyperopt}')"
      ],
      "metadata": {
        "colab": {
          "base_uri": "https://localhost:8080/"
        },
        "id": "Fy6Bj0vg0WJo",
        "outputId": "7dcdd2c4-86f4-4cf6-a6bb-19ca1fb453b7"
      },
      "execution_count": 389,
      "outputs": [
        {
          "output_type": "stream",
          "name": "stdout",
          "text": [
            "Best Parameters : {'learning_rate': 0.24856550331704014, 'max_depth': 11}\n"
          ]
        }
      ]
    },
    {
      "cell_type": "code",
      "source": [
        "# 최적의 하이퍼파라미터를 이용한 모델 학습 및 테스트\n",
        "\n",
        "final_model = lgb.LGBMClassifier(\n",
        "        objective='multiclass',\n",
        "        metric='multi_logloss',\n",
        "        boosting_type='gbdt',\n",
        "        verbosity=-1,\n",
        "        **best_params_hyperopt\n",
        ")\n",
        "final_model.fit(X_train, y_train)\n",
        "\n",
        "# 평가\n",
        "preds_test = final_model.predict(X_test)\n",
        "accuracy_test = accuracy_score(y_test, preds_test)\n",
        "\n",
        "print(f'[FINAL] accuracy: {(100 * accuracy_test):6.2f} %')"
      ],
      "metadata": {
        "colab": {
          "base_uri": "https://localhost:8080/"
        },
        "id": "T55CHb6s0brI",
        "outputId": "3b1e007e-f150-41ba-c233-5ca9f85739c1"
      },
      "execution_count": 390,
      "outputs": [
        {
          "output_type": "stream",
          "name": "stdout",
          "text": [
            "[FINAL] accuracy:  82.93 %\n"
          ]
        }
      ]
    },
    {
      "cell_type": "markdown",
      "source": [
        "**3. Optuna 최적화 코드**"
      ],
      "metadata": {
        "id": "y7-k2xWv80Wa"
      }
    },
    {
      "cell_type": "code",
      "source": [
        "# Objective Function 정의\n",
        "\n",
        "def objective_optuna(trial):\n",
        "    params = {\n",
        "        'learning_rate': trial.suggest_loguniform('learning_rate', 0.001, 0.25),\n",
        "        'max_depth': trial.suggest_int('max_depth', 3, 15)\n",
        "    }\n",
        "\n",
        "    model = lgb.LGBMClassifier(\n",
        "        objective='multiclass',\n",
        "        metric='multi_logloss',\n",
        "        boosting_type='gbdt',\n",
        "        num_iterations=100,\n",
        "        verbosity=-1,\n",
        "        **params\n",
        "    )\n",
        "\n",
        "    # [ Train ] ---> [ Train ] / [ Valid_lgbm ] 로 분리\n",
        "    X_train_, X_valid_lgbm, y_train_, y_valid_lgbm =\\\n",
        "        train_test_split(X_train, y_train,\n",
        "                         test_size=0.15,\n",
        "                         random_state=2025)\n",
        "\n",
        "    # LightGBM 용 eval_set 인 X_valid_lgbm, y_valid_lgbm 을 이용하여 LightGBM 모델을 valid\n",
        "    model.fit(X_train_, y_train_,\n",
        "              eval_set=[(X_valid_lgbm, y_valid_lgbm)])\n",
        "\n",
        "    # HPO 용 valid set인 X_valid_hpo, y_valid_hpo 를 이용하여 하이퍼파라미터 조합 성능 테스트\n",
        "    preds_hpo = model.predict(X_valid_hpo)\n",
        "    accuracy_hpo = accuracy_score(preds_hpo, y_valid_hpo)\n",
        "\n",
        "    print(f'[HPO] accuracy with {params} : {(100 * accuracy_hpo):6.2f} %')\n",
        "\n",
        "    return accuracy_hpo"
      ],
      "metadata": {
        "id": "MLdLsA4A8zgo"
      },
      "execution_count": 391,
      "outputs": []
    },
    {
      "cell_type": "code",
      "source": [
        "# 하이퍼파라미터 최적화 실시\n",
        "\n",
        "study = optuna.create_study(direction=\"maximize\")\n",
        "study.optimize(objective_optuna, n_trials=100)"
      ],
      "metadata": {
        "colab": {
          "base_uri": "https://localhost:8080/"
        },
        "id": "teOVTqqY95bN",
        "outputId": "e95884e2-2535-459a-9bf2-094d5bdb598c"
      },
      "execution_count": 392,
      "outputs": [
        {
          "output_type": "stream",
          "name": "stderr",
          "text": [
            "[I 2025-02-26 01:59:18,361] A new study created in memory with name: no-name-13871461-df94-4b2a-ad98-39b517b8e127\n",
            "<ipython-input-391-08b556b39bea>:5: FutureWarning: suggest_loguniform has been deprecated in v3.0.0. This feature will be removed in v6.0.0. See https://github.com/optuna/optuna/releases/tag/v3.0.0. Use suggest_float(..., log=True) instead.\n",
            "  'learning_rate': trial.suggest_loguniform('learning_rate', 0.001, 0.25),\n",
            "/usr/local/lib/python3.11/dist-packages/lightgbm/engine.py:204: UserWarning: Found `num_iterations` in params. Will use it instead of argument\n",
            "  _log_warning(f\"Found `{alias}` in params. Will use it instead of argument\")\n",
            "[I 2025-02-26 01:59:18,791] Trial 0 finished with value: 0.8043137254901961 and parameters: {'learning_rate': 0.18921419959511526, 'max_depth': 8}. Best is trial 0 with value: 0.8043137254901961.\n"
          ]
        },
        {
          "output_type": "stream",
          "name": "stdout",
          "text": [
            "[HPO] accuracy with {'learning_rate': 0.18921419959511526, 'max_depth': 8} :  80.43 %\n"
          ]
        },
        {
          "output_type": "stream",
          "name": "stderr",
          "text": [
            "<ipython-input-391-08b556b39bea>:5: FutureWarning: suggest_loguniform has been deprecated in v3.0.0. This feature will be removed in v6.0.0. See https://github.com/optuna/optuna/releases/tag/v3.0.0. Use suggest_float(..., log=True) instead.\n",
            "  'learning_rate': trial.suggest_loguniform('learning_rate', 0.001, 0.25),\n",
            "/usr/local/lib/python3.11/dist-packages/lightgbm/engine.py:204: UserWarning: Found `num_iterations` in params. Will use it instead of argument\n",
            "  _log_warning(f\"Found `{alias}` in params. Will use it instead of argument\")\n",
            "[I 2025-02-26 01:59:19,106] Trial 1 finished with value: 0.41058823529411764 and parameters: {'learning_rate': 0.007531865284997157, 'max_depth': 3}. Best is trial 0 with value: 0.8043137254901961.\n"
          ]
        },
        {
          "output_type": "stream",
          "name": "stdout",
          "text": [
            "[HPO] accuracy with {'learning_rate': 0.007531865284997157, 'max_depth': 3} :  41.06 %\n"
          ]
        },
        {
          "output_type": "stream",
          "name": "stderr",
          "text": [
            "<ipython-input-391-08b556b39bea>:5: FutureWarning: suggest_loguniform has been deprecated in v3.0.0. This feature will be removed in v6.0.0. See https://github.com/optuna/optuna/releases/tag/v3.0.0. Use suggest_float(..., log=True) instead.\n",
            "  'learning_rate': trial.suggest_loguniform('learning_rate', 0.001, 0.25),\n",
            "/usr/local/lib/python3.11/dist-packages/lightgbm/engine.py:204: UserWarning: Found `num_iterations` in params. Will use it instead of argument\n",
            "  _log_warning(f\"Found `{alias}` in params. Will use it instead of argument\")\n",
            "[I 2025-02-26 01:59:19,563] Trial 2 finished with value: 0.7211764705882353 and parameters: {'learning_rate': 0.07003523532737758, 'max_depth': 8}. Best is trial 0 with value: 0.8043137254901961.\n"
          ]
        },
        {
          "output_type": "stream",
          "name": "stdout",
          "text": [
            "[HPO] accuracy with {'learning_rate': 0.07003523532737758, 'max_depth': 8} :  72.12 %\n"
          ]
        },
        {
          "output_type": "stream",
          "name": "stderr",
          "text": [
            "<ipython-input-391-08b556b39bea>:5: FutureWarning: suggest_loguniform has been deprecated in v3.0.0. This feature will be removed in v6.0.0. See https://github.com/optuna/optuna/releases/tag/v3.0.0. Use suggest_float(..., log=True) instead.\n",
            "  'learning_rate': trial.suggest_loguniform('learning_rate', 0.001, 0.25),\n",
            "/usr/local/lib/python3.11/dist-packages/lightgbm/engine.py:204: UserWarning: Found `num_iterations` in params. Will use it instead of argument\n",
            "  _log_warning(f\"Found `{alias}` in params. Will use it instead of argument\")\n",
            "[I 2025-02-26 01:59:20,062] Trial 3 finished with value: 0.6470588235294118 and parameters: {'learning_rate': 0.02259590434028172, 'max_depth': 9}. Best is trial 0 with value: 0.8043137254901961.\n"
          ]
        },
        {
          "output_type": "stream",
          "name": "stdout",
          "text": [
            "[HPO] accuracy with {'learning_rate': 0.02259590434028172, 'max_depth': 9} :  64.71 %\n"
          ]
        },
        {
          "output_type": "stream",
          "name": "stderr",
          "text": [
            "<ipython-input-391-08b556b39bea>:5: FutureWarning: suggest_loguniform has been deprecated in v3.0.0. This feature will be removed in v6.0.0. See https://github.com/optuna/optuna/releases/tag/v3.0.0. Use suggest_float(..., log=True) instead.\n",
            "  'learning_rate': trial.suggest_loguniform('learning_rate', 0.001, 0.25),\n",
            "/usr/local/lib/python3.11/dist-packages/lightgbm/engine.py:204: UserWarning: Found `num_iterations` in params. Will use it instead of argument\n",
            "  _log_warning(f\"Found `{alias}` in params. Will use it instead of argument\")\n",
            "[I 2025-02-26 01:59:20,546] Trial 4 finished with value: 0.5603921568627451 and parameters: {'learning_rate': 0.007207778077483852, 'max_depth': 15}. Best is trial 0 with value: 0.8043137254901961.\n"
          ]
        },
        {
          "output_type": "stream",
          "name": "stdout",
          "text": [
            "[HPO] accuracy with {'learning_rate': 0.007207778077483852, 'max_depth': 15} :  56.04 %\n"
          ]
        },
        {
          "output_type": "stream",
          "name": "stderr",
          "text": [
            "<ipython-input-391-08b556b39bea>:5: FutureWarning: suggest_loguniform has been deprecated in v3.0.0. This feature will be removed in v6.0.0. See https://github.com/optuna/optuna/releases/tag/v3.0.0. Use suggest_float(..., log=True) instead.\n",
            "  'learning_rate': trial.suggest_loguniform('learning_rate', 0.001, 0.25),\n",
            "/usr/local/lib/python3.11/dist-packages/lightgbm/engine.py:204: UserWarning: Found `num_iterations` in params. Will use it instead of argument\n",
            "  _log_warning(f\"Found `{alias}` in params. Will use it instead of argument\")\n",
            "[I 2025-02-26 01:59:21,036] Trial 5 finished with value: 0.6278431372549019 and parameters: {'learning_rate': 0.015941724560327844, 'max_depth': 11}. Best is trial 0 with value: 0.8043137254901961.\n"
          ]
        },
        {
          "output_type": "stream",
          "name": "stdout",
          "text": [
            "[HPO] accuracy with {'learning_rate': 0.015941724560327844, 'max_depth': 11} :  62.78 %\n"
          ]
        },
        {
          "output_type": "stream",
          "name": "stderr",
          "text": [
            "<ipython-input-391-08b556b39bea>:5: FutureWarning: suggest_loguniform has been deprecated in v3.0.0. This feature will be removed in v6.0.0. See https://github.com/optuna/optuna/releases/tag/v3.0.0. Use suggest_float(..., log=True) instead.\n",
            "  'learning_rate': trial.suggest_loguniform('learning_rate', 0.001, 0.25),\n",
            "/usr/local/lib/python3.11/dist-packages/lightgbm/engine.py:204: UserWarning: Found `num_iterations` in params. Will use it instead of argument\n",
            "  _log_warning(f\"Found `{alias}` in params. Will use it instead of argument\")\n",
            "[I 2025-02-26 01:59:21,484] Trial 6 finished with value: 0.7498039215686274 and parameters: {'learning_rate': 0.07823347533082786, 'max_depth': 9}. Best is trial 0 with value: 0.8043137254901961.\n"
          ]
        },
        {
          "output_type": "stream",
          "name": "stdout",
          "text": [
            "[HPO] accuracy with {'learning_rate': 0.07823347533082786, 'max_depth': 9} :  74.98 %\n"
          ]
        },
        {
          "output_type": "stream",
          "name": "stderr",
          "text": [
            "<ipython-input-391-08b556b39bea>:5: FutureWarning: suggest_loguniform has been deprecated in v3.0.0. This feature will be removed in v6.0.0. See https://github.com/optuna/optuna/releases/tag/v3.0.0. Use suggest_float(..., log=True) instead.\n",
            "  'learning_rate': trial.suggest_loguniform('learning_rate', 0.001, 0.25),\n",
            "/usr/local/lib/python3.11/dist-packages/lightgbm/engine.py:204: UserWarning: Found `num_iterations` in params. Will use it instead of argument\n",
            "  _log_warning(f\"Found `{alias}` in params. Will use it instead of argument\")\n",
            "[I 2025-02-26 01:59:21,960] Trial 7 finished with value: 0.5819607843137254 and parameters: {'learning_rate': 0.008404882516058202, 'max_depth': 11}. Best is trial 0 with value: 0.8043137254901961.\n"
          ]
        },
        {
          "output_type": "stream",
          "name": "stdout",
          "text": [
            "[HPO] accuracy with {'learning_rate': 0.008404882516058202, 'max_depth': 11} :  58.20 %\n"
          ]
        },
        {
          "output_type": "stream",
          "name": "stderr",
          "text": [
            "<ipython-input-391-08b556b39bea>:5: FutureWarning: suggest_loguniform has been deprecated in v3.0.0. This feature will be removed in v6.0.0. See https://github.com/optuna/optuna/releases/tag/v3.0.0. Use suggest_float(..., log=True) instead.\n",
            "  'learning_rate': trial.suggest_loguniform('learning_rate', 0.001, 0.25),\n",
            "/usr/local/lib/python3.11/dist-packages/lightgbm/engine.py:204: UserWarning: Found `num_iterations` in params. Will use it instead of argument\n",
            "  _log_warning(f\"Found `{alias}` in params. Will use it instead of argument\")\n",
            "[I 2025-02-26 01:59:22,249] Trial 8 finished with value: 0.463921568627451 and parameters: {'learning_rate': 0.06998383493360069, 'max_depth': 3}. Best is trial 0 with value: 0.8043137254901961.\n"
          ]
        },
        {
          "output_type": "stream",
          "name": "stdout",
          "text": [
            "[HPO] accuracy with {'learning_rate': 0.06998383493360069, 'max_depth': 3} :  46.39 %\n"
          ]
        },
        {
          "output_type": "stream",
          "name": "stderr",
          "text": [
            "<ipython-input-391-08b556b39bea>:5: FutureWarning: suggest_loguniform has been deprecated in v3.0.0. This feature will be removed in v6.0.0. See https://github.com/optuna/optuna/releases/tag/v3.0.0. Use suggest_float(..., log=True) instead.\n",
            "  'learning_rate': trial.suggest_loguniform('learning_rate', 0.001, 0.25),\n",
            "/usr/local/lib/python3.11/dist-packages/lightgbm/engine.py:204: UserWarning: Found `num_iterations` in params. Will use it instead of argument\n",
            "  _log_warning(f\"Found `{alias}` in params. Will use it instead of argument\")\n",
            "[I 2025-02-26 01:59:22,700] Trial 9 finished with value: 0.5215686274509804 and parameters: {'learning_rate': 0.0035755331089749706, 'max_depth': 13}. Best is trial 0 with value: 0.8043137254901961.\n"
          ]
        },
        {
          "output_type": "stream",
          "name": "stdout",
          "text": [
            "[HPO] accuracy with {'learning_rate': 0.0035755331089749706, 'max_depth': 13} :  52.16 %\n"
          ]
        },
        {
          "output_type": "stream",
          "name": "stderr",
          "text": [
            "<ipython-input-391-08b556b39bea>:5: FutureWarning: suggest_loguniform has been deprecated in v3.0.0. This feature will be removed in v6.0.0. See https://github.com/optuna/optuna/releases/tag/v3.0.0. Use suggest_float(..., log=True) instead.\n",
            "  'learning_rate': trial.suggest_loguniform('learning_rate', 0.001, 0.25),\n",
            "/usr/local/lib/python3.11/dist-packages/lightgbm/engine.py:204: UserWarning: Found `num_iterations` in params. Will use it instead of argument\n",
            "  _log_warning(f\"Found `{alias}` in params. Will use it instead of argument\")\n",
            "[I 2025-02-26 01:59:23,177] Trial 10 finished with value: 0.7858823529411765 and parameters: {'learning_rate': 0.2492912333710371, 'max_depth': 6}. Best is trial 0 with value: 0.8043137254901961.\n"
          ]
        },
        {
          "output_type": "stream",
          "name": "stdout",
          "text": [
            "[HPO] accuracy with {'learning_rate': 0.2492912333710371, 'max_depth': 6} :  78.59 %\n"
          ]
        },
        {
          "output_type": "stream",
          "name": "stderr",
          "text": [
            "<ipython-input-391-08b556b39bea>:5: FutureWarning: suggest_loguniform has been deprecated in v3.0.0. This feature will be removed in v6.0.0. See https://github.com/optuna/optuna/releases/tag/v3.0.0. Use suggest_float(..., log=True) instead.\n",
            "  'learning_rate': trial.suggest_loguniform('learning_rate', 0.001, 0.25),\n",
            "/usr/local/lib/python3.11/dist-packages/lightgbm/engine.py:204: UserWarning: Found `num_iterations` in params. Will use it instead of argument\n",
            "  _log_warning(f\"Found `{alias}` in params. Will use it instead of argument\")\n",
            "[I 2025-02-26 01:59:23,643] Trial 11 finished with value: 0.7850980392156863 and parameters: {'learning_rate': 0.23695382666234893, 'max_depth': 6}. Best is trial 0 with value: 0.8043137254901961.\n"
          ]
        },
        {
          "output_type": "stream",
          "name": "stdout",
          "text": [
            "[HPO] accuracy with {'learning_rate': 0.23695382666234893, 'max_depth': 6} :  78.51 %\n"
          ]
        },
        {
          "output_type": "stream",
          "name": "stderr",
          "text": [
            "<ipython-input-391-08b556b39bea>:5: FutureWarning: suggest_loguniform has been deprecated in v3.0.0. This feature will be removed in v6.0.0. See https://github.com/optuna/optuna/releases/tag/v3.0.0. Use suggest_float(..., log=True) instead.\n",
            "  'learning_rate': trial.suggest_loguniform('learning_rate', 0.001, 0.25),\n",
            "/usr/local/lib/python3.11/dist-packages/lightgbm/engine.py:204: UserWarning: Found `num_iterations` in params. Will use it instead of argument\n",
            "  _log_warning(f\"Found `{alias}` in params. Will use it instead of argument\")\n",
            "[I 2025-02-26 01:59:24,129] Trial 12 finished with value: 0.7850980392156863 and parameters: {'learning_rate': 0.23581679186454974, 'max_depth': 6}. Best is trial 0 with value: 0.8043137254901961.\n"
          ]
        },
        {
          "output_type": "stream",
          "name": "stdout",
          "text": [
            "[HPO] accuracy with {'learning_rate': 0.23581679186454974, 'max_depth': 6} :  78.51 %\n"
          ]
        },
        {
          "output_type": "stream",
          "name": "stderr",
          "text": [
            "<ipython-input-391-08b556b39bea>:5: FutureWarning: suggest_loguniform has been deprecated in v3.0.0. This feature will be removed in v6.0.0. See https://github.com/optuna/optuna/releases/tag/v3.0.0. Use suggest_float(..., log=True) instead.\n",
            "  'learning_rate': trial.suggest_loguniform('learning_rate', 0.001, 0.25),\n",
            "/usr/local/lib/python3.11/dist-packages/lightgbm/engine.py:204: UserWarning: Found `num_iterations` in params. Will use it instead of argument\n",
            "  _log_warning(f\"Found `{alias}` in params. Will use it instead of argument\")\n",
            "[I 2025-02-26 01:59:24,604] Trial 13 finished with value: 0.7478431372549019 and parameters: {'learning_rate': 0.12411730171842258, 'max_depth': 6}. Best is trial 0 with value: 0.8043137254901961.\n"
          ]
        },
        {
          "output_type": "stream",
          "name": "stdout",
          "text": [
            "[HPO] accuracy with {'learning_rate': 0.12411730171842258, 'max_depth': 6} :  74.78 %\n"
          ]
        },
        {
          "output_type": "stream",
          "name": "stderr",
          "text": [
            "<ipython-input-391-08b556b39bea>:5: FutureWarning: suggest_loguniform has been deprecated in v3.0.0. This feature will be removed in v6.0.0. See https://github.com/optuna/optuna/releases/tag/v3.0.0. Use suggest_float(..., log=True) instead.\n",
            "  'learning_rate': trial.suggest_loguniform('learning_rate', 0.001, 0.25),\n",
            "/usr/local/lib/python3.11/dist-packages/lightgbm/engine.py:204: UserWarning: Found `num_iterations` in params. Will use it instead of argument\n",
            "  _log_warning(f\"Found `{alias}` in params. Will use it instead of argument\")\n",
            "[I 2025-02-26 01:59:25,109] Trial 14 finished with value: 0.47333333333333333 and parameters: {'learning_rate': 0.0013286195551626139, 'max_depth': 7}. Best is trial 0 with value: 0.8043137254901961.\n"
          ]
        },
        {
          "output_type": "stream",
          "name": "stdout",
          "text": [
            "[HPO] accuracy with {'learning_rate': 0.0013286195551626139, 'max_depth': 7} :  47.33 %\n"
          ]
        },
        {
          "output_type": "stream",
          "name": "stderr",
          "text": [
            "<ipython-input-391-08b556b39bea>:5: FutureWarning: suggest_loguniform has been deprecated in v3.0.0. This feature will be removed in v6.0.0. See https://github.com/optuna/optuna/releases/tag/v3.0.0. Use suggest_float(..., log=True) instead.\n",
            "  'learning_rate': trial.suggest_loguniform('learning_rate', 0.001, 0.25),\n",
            "/usr/local/lib/python3.11/dist-packages/lightgbm/engine.py:204: UserWarning: Found `num_iterations` in params. Will use it instead of argument\n",
            "  _log_warning(f\"Found `{alias}` in params. Will use it instead of argument\")\n",
            "[I 2025-02-26 01:59:25,470] Trial 15 finished with value: 0.504313725490196 and parameters: {'learning_rate': 0.030713224787372626, 'max_depth': 4}. Best is trial 0 with value: 0.8043137254901961.\n"
          ]
        },
        {
          "output_type": "stream",
          "name": "stdout",
          "text": [
            "[HPO] accuracy with {'learning_rate': 0.030713224787372626, 'max_depth': 4} :  50.43 %\n"
          ]
        },
        {
          "output_type": "stream",
          "name": "stderr",
          "text": [
            "<ipython-input-391-08b556b39bea>:5: FutureWarning: suggest_loguniform has been deprecated in v3.0.0. This feature will be removed in v6.0.0. See https://github.com/optuna/optuna/releases/tag/v3.0.0. Use suggest_float(..., log=True) instead.\n",
            "  'learning_rate': trial.suggest_loguniform('learning_rate', 0.001, 0.25),\n",
            "/usr/local/lib/python3.11/dist-packages/lightgbm/engine.py:204: UserWarning: Found `num_iterations` in params. Will use it instead of argument\n",
            "  _log_warning(f\"Found `{alias}` in params. Will use it instead of argument\")\n",
            "[I 2025-02-26 01:59:25,899] Trial 16 finished with value: 0.8023529411764706 and parameters: {'learning_rate': 0.14319851793623103, 'max_depth': 11}. Best is trial 0 with value: 0.8043137254901961.\n"
          ]
        },
        {
          "output_type": "stream",
          "name": "stdout",
          "text": [
            "[HPO] accuracy with {'learning_rate': 0.14319851793623103, 'max_depth': 11} :  80.24 %\n"
          ]
        },
        {
          "output_type": "stream",
          "name": "stderr",
          "text": [
            "<ipython-input-391-08b556b39bea>:5: FutureWarning: suggest_loguniform has been deprecated in v3.0.0. This feature will be removed in v6.0.0. See https://github.com/optuna/optuna/releases/tag/v3.0.0. Use suggest_float(..., log=True) instead.\n",
            "  'learning_rate': trial.suggest_loguniform('learning_rate', 0.001, 0.25),\n",
            "/usr/local/lib/python3.11/dist-packages/lightgbm/engine.py:204: UserWarning: Found `num_iterations` in params. Will use it instead of argument\n",
            "  _log_warning(f\"Found `{alias}` in params. Will use it instead of argument\")\n",
            "[I 2025-02-26 01:59:26,528] Trial 17 finished with value: 0.7125490196078431 and parameters: {'learning_rate': 0.0377532971571209, 'max_depth': 11}. Best is trial 0 with value: 0.8043137254901961.\n"
          ]
        },
        {
          "output_type": "stream",
          "name": "stdout",
          "text": [
            "[HPO] accuracy with {'learning_rate': 0.0377532971571209, 'max_depth': 11} :  71.25 %\n"
          ]
        },
        {
          "output_type": "stream",
          "name": "stderr",
          "text": [
            "<ipython-input-391-08b556b39bea>:5: FutureWarning: suggest_loguniform has been deprecated in v3.0.0. This feature will be removed in v6.0.0. See https://github.com/optuna/optuna/releases/tag/v3.0.0. Use suggest_float(..., log=True) instead.\n",
            "  'learning_rate': trial.suggest_loguniform('learning_rate', 0.001, 0.25),\n",
            "/usr/local/lib/python3.11/dist-packages/lightgbm/engine.py:204: UserWarning: Found `num_iterations` in params. Will use it instead of argument\n",
            "  _log_warning(f\"Found `{alias}` in params. Will use it instead of argument\")\n",
            "[I 2025-02-26 01:59:27,211] Trial 18 finished with value: 0.7870588235294118 and parameters: {'learning_rate': 0.11637343784239343, 'max_depth': 13}. Best is trial 0 with value: 0.8043137254901961.\n"
          ]
        },
        {
          "output_type": "stream",
          "name": "stdout",
          "text": [
            "[HPO] accuracy with {'learning_rate': 0.11637343784239343, 'max_depth': 13} :  78.71 %\n"
          ]
        },
        {
          "output_type": "stream",
          "name": "stderr",
          "text": [
            "<ipython-input-391-08b556b39bea>:5: FutureWarning: suggest_loguniform has been deprecated in v3.0.0. This feature will be removed in v6.0.0. See https://github.com/optuna/optuna/releases/tag/v3.0.0. Use suggest_float(..., log=True) instead.\n",
            "  'learning_rate': trial.suggest_loguniform('learning_rate', 0.001, 0.25),\n",
            "/usr/local/lib/python3.11/dist-packages/lightgbm/engine.py:204: UserWarning: Found `num_iterations` in params. Will use it instead of argument\n",
            "  _log_warning(f\"Found `{alias}` in params. Will use it instead of argument\")\n",
            "[I 2025-02-26 01:59:27,775] Trial 19 finished with value: 0.7890196078431373 and parameters: {'learning_rate': 0.12686518641892164, 'max_depth': 10}. Best is trial 0 with value: 0.8043137254901961.\n"
          ]
        },
        {
          "output_type": "stream",
          "name": "stdout",
          "text": [
            "[HPO] accuracy with {'learning_rate': 0.12686518641892164, 'max_depth': 10} :  78.90 %\n"
          ]
        },
        {
          "output_type": "stream",
          "name": "stderr",
          "text": [
            "<ipython-input-391-08b556b39bea>:5: FutureWarning: suggest_loguniform has been deprecated in v3.0.0. This feature will be removed in v6.0.0. See https://github.com/optuna/optuna/releases/tag/v3.0.0. Use suggest_float(..., log=True) instead.\n",
            "  'learning_rate': trial.suggest_loguniform('learning_rate', 0.001, 0.25),\n",
            "/usr/local/lib/python3.11/dist-packages/lightgbm/engine.py:204: UserWarning: Found `num_iterations` in params. Will use it instead of argument\n",
            "  _log_warning(f\"Found `{alias}` in params. Will use it instead of argument\")\n",
            "[I 2025-02-26 01:59:28,261] Trial 20 finished with value: 0.7247058823529412 and parameters: {'learning_rate': 0.04561503701336935, 'max_depth': 13}. Best is trial 0 with value: 0.8043137254901961.\n"
          ]
        },
        {
          "output_type": "stream",
          "name": "stdout",
          "text": [
            "[HPO] accuracy with {'learning_rate': 0.04561503701336935, 'max_depth': 13} :  72.47 %\n"
          ]
        },
        {
          "output_type": "stream",
          "name": "stderr",
          "text": [
            "<ipython-input-391-08b556b39bea>:5: FutureWarning: suggest_loguniform has been deprecated in v3.0.0. This feature will be removed in v6.0.0. See https://github.com/optuna/optuna/releases/tag/v3.0.0. Use suggest_float(..., log=True) instead.\n",
            "  'learning_rate': trial.suggest_loguniform('learning_rate', 0.001, 0.25),\n",
            "/usr/local/lib/python3.11/dist-packages/lightgbm/engine.py:204: UserWarning: Found `num_iterations` in params. Will use it instead of argument\n",
            "  _log_warning(f\"Found `{alias}` in params. Will use it instead of argument\")\n",
            "[I 2025-02-26 01:59:28,696] Trial 21 finished with value: 0.7917647058823529 and parameters: {'learning_rate': 0.124714684004436, 'max_depth': 10}. Best is trial 0 with value: 0.8043137254901961.\n"
          ]
        },
        {
          "output_type": "stream",
          "name": "stdout",
          "text": [
            "[HPO] accuracy with {'learning_rate': 0.124714684004436, 'max_depth': 10} :  79.18 %\n"
          ]
        },
        {
          "output_type": "stream",
          "name": "stderr",
          "text": [
            "<ipython-input-391-08b556b39bea>:5: FutureWarning: suggest_loguniform has been deprecated in v3.0.0. This feature will be removed in v6.0.0. See https://github.com/optuna/optuna/releases/tag/v3.0.0. Use suggest_float(..., log=True) instead.\n",
            "  'learning_rate': trial.suggest_loguniform('learning_rate', 0.001, 0.25),\n",
            "/usr/local/lib/python3.11/dist-packages/lightgbm/engine.py:204: UserWarning: Found `num_iterations` in params. Will use it instead of argument\n",
            "  _log_warning(f\"Found `{alias}` in params. Will use it instead of argument\")\n",
            "[I 2025-02-26 01:59:29,156] Trial 22 finished with value: 0.7823529411764706 and parameters: {'learning_rate': 0.11485310798367313, 'max_depth': 8}. Best is trial 0 with value: 0.8043137254901961.\n"
          ]
        },
        {
          "output_type": "stream",
          "name": "stdout",
          "text": [
            "[HPO] accuracy with {'learning_rate': 0.11485310798367313, 'max_depth': 8} :  78.24 %\n"
          ]
        },
        {
          "output_type": "stream",
          "name": "stderr",
          "text": [
            "<ipython-input-391-08b556b39bea>:5: FutureWarning: suggest_loguniform has been deprecated in v3.0.0. This feature will be removed in v6.0.0. See https://github.com/optuna/optuna/releases/tag/v3.0.0. Use suggest_float(..., log=True) instead.\n",
            "  'learning_rate': trial.suggest_loguniform('learning_rate', 0.001, 0.25),\n",
            "/usr/local/lib/python3.11/dist-packages/lightgbm/engine.py:204: UserWarning: Found `num_iterations` in params. Will use it instead of argument\n",
            "  _log_warning(f\"Found `{alias}` in params. Will use it instead of argument\")\n",
            "[I 2025-02-26 01:59:29,599] Trial 23 finished with value: 0.803921568627451 and parameters: {'learning_rate': 0.1583447048764532, 'max_depth': 10}. Best is trial 0 with value: 0.8043137254901961.\n"
          ]
        },
        {
          "output_type": "stream",
          "name": "stdout",
          "text": [
            "[HPO] accuracy with {'learning_rate': 0.1583447048764532, 'max_depth': 10} :  80.39 %\n"
          ]
        },
        {
          "output_type": "stream",
          "name": "stderr",
          "text": [
            "<ipython-input-391-08b556b39bea>:5: FutureWarning: suggest_loguniform has been deprecated in v3.0.0. This feature will be removed in v6.0.0. See https://github.com/optuna/optuna/releases/tag/v3.0.0. Use suggest_float(..., log=True) instead.\n",
            "  'learning_rate': trial.suggest_loguniform('learning_rate', 0.001, 0.25),\n",
            "/usr/local/lib/python3.11/dist-packages/lightgbm/engine.py:204: UserWarning: Found `num_iterations` in params. Will use it instead of argument\n",
            "  _log_warning(f\"Found `{alias}` in params. Will use it instead of argument\")\n",
            "[I 2025-02-26 01:59:30,024] Trial 24 finished with value: 0.8074509803921569 and parameters: {'learning_rate': 0.18070229835104418, 'max_depth': 12}. Best is trial 24 with value: 0.8074509803921569.\n"
          ]
        },
        {
          "output_type": "stream",
          "name": "stdout",
          "text": [
            "[HPO] accuracy with {'learning_rate': 0.18070229835104418, 'max_depth': 12} :  80.75 %\n"
          ]
        },
        {
          "output_type": "stream",
          "name": "stderr",
          "text": [
            "<ipython-input-391-08b556b39bea>:5: FutureWarning: suggest_loguniform has been deprecated in v3.0.0. This feature will be removed in v6.0.0. See https://github.com/optuna/optuna/releases/tag/v3.0.0. Use suggest_float(..., log=True) instead.\n",
            "  'learning_rate': trial.suggest_loguniform('learning_rate', 0.001, 0.25),\n",
            "/usr/local/lib/python3.11/dist-packages/lightgbm/engine.py:204: UserWarning: Found `num_iterations` in params. Will use it instead of argument\n",
            "  _log_warning(f\"Found `{alias}` in params. Will use it instead of argument\")\n",
            "[I 2025-02-26 01:59:30,459] Trial 25 finished with value: 0.8227450980392157 and parameters: {'learning_rate': 0.17912943483904617, 'max_depth': 14}. Best is trial 25 with value: 0.8227450980392157.\n"
          ]
        },
        {
          "output_type": "stream",
          "name": "stdout",
          "text": [
            "[HPO] accuracy with {'learning_rate': 0.17912943483904617, 'max_depth': 14} :  82.27 %\n"
          ]
        },
        {
          "output_type": "stream",
          "name": "stderr",
          "text": [
            "<ipython-input-391-08b556b39bea>:5: FutureWarning: suggest_loguniform has been deprecated in v3.0.0. This feature will be removed in v6.0.0. See https://github.com/optuna/optuna/releases/tag/v3.0.0. Use suggest_float(..., log=True) instead.\n",
            "  'learning_rate': trial.suggest_loguniform('learning_rate', 0.001, 0.25),\n",
            "/usr/local/lib/python3.11/dist-packages/lightgbm/engine.py:204: UserWarning: Found `num_iterations` in params. Will use it instead of argument\n",
            "  _log_warning(f\"Found `{alias}` in params. Will use it instead of argument\")\n",
            "[I 2025-02-26 01:59:30,908] Trial 26 finished with value: 0.7486274509803922 and parameters: {'learning_rate': 0.059349464337668495, 'max_depth': 15}. Best is trial 25 with value: 0.8227450980392157.\n"
          ]
        },
        {
          "output_type": "stream",
          "name": "stdout",
          "text": [
            "[HPO] accuracy with {'learning_rate': 0.059349464337668495, 'max_depth': 15} :  74.86 %\n"
          ]
        },
        {
          "output_type": "stream",
          "name": "stderr",
          "text": [
            "<ipython-input-391-08b556b39bea>:5: FutureWarning: suggest_loguniform has been deprecated in v3.0.0. This feature will be removed in v6.0.0. See https://github.com/optuna/optuna/releases/tag/v3.0.0. Use suggest_float(..., log=True) instead.\n",
            "  'learning_rate': trial.suggest_loguniform('learning_rate', 0.001, 0.25),\n",
            "/usr/local/lib/python3.11/dist-packages/lightgbm/engine.py:204: UserWarning: Found `num_iterations` in params. Will use it instead of argument\n",
            "  _log_warning(f\"Found `{alias}` in params. Will use it instead of argument\")\n",
            "[I 2025-02-26 01:59:31,355] Trial 27 finished with value: 0.8086274509803921 and parameters: {'learning_rate': 0.172763872276621, 'max_depth': 14}. Best is trial 25 with value: 0.8227450980392157.\n"
          ]
        },
        {
          "output_type": "stream",
          "name": "stdout",
          "text": [
            "[HPO] accuracy with {'learning_rate': 0.172763872276621, 'max_depth': 14} :  80.86 %\n"
          ]
        },
        {
          "output_type": "stream",
          "name": "stderr",
          "text": [
            "<ipython-input-391-08b556b39bea>:5: FutureWarning: suggest_loguniform has been deprecated in v3.0.0. This feature will be removed in v6.0.0. See https://github.com/optuna/optuna/releases/tag/v3.0.0. Use suggest_float(..., log=True) instead.\n",
            "  'learning_rate': trial.suggest_loguniform('learning_rate', 0.001, 0.25),\n",
            "/usr/local/lib/python3.11/dist-packages/lightgbm/engine.py:204: UserWarning: Found `num_iterations` in params. Will use it instead of argument\n",
            "  _log_warning(f\"Found `{alias}` in params. Will use it instead of argument\")\n",
            "[I 2025-02-26 01:59:31,800] Trial 28 finished with value: 0.7749019607843137 and parameters: {'learning_rate': 0.08979085602520748, 'max_depth': 14}. Best is trial 25 with value: 0.8227450980392157.\n"
          ]
        },
        {
          "output_type": "stream",
          "name": "stdout",
          "text": [
            "[HPO] accuracy with {'learning_rate': 0.08979085602520748, 'max_depth': 14} :  77.49 %\n"
          ]
        },
        {
          "output_type": "stream",
          "name": "stderr",
          "text": [
            "<ipython-input-391-08b556b39bea>:5: FutureWarning: suggest_loguniform has been deprecated in v3.0.0. This feature will be removed in v6.0.0. See https://github.com/optuna/optuna/releases/tag/v3.0.0. Use suggest_float(..., log=True) instead.\n",
            "  'learning_rate': trial.suggest_loguniform('learning_rate', 0.001, 0.25),\n",
            "/usr/local/lib/python3.11/dist-packages/lightgbm/engine.py:204: UserWarning: Found `num_iterations` in params. Will use it instead of argument\n",
            "  _log_warning(f\"Found `{alias}` in params. Will use it instead of argument\")\n",
            "[I 2025-02-26 01:59:32,291] Trial 29 finished with value: 0.7250980392156863 and parameters: {'learning_rate': 0.046701486877712785, 'max_depth': 14}. Best is trial 25 with value: 0.8227450980392157.\n"
          ]
        },
        {
          "output_type": "stream",
          "name": "stdout",
          "text": [
            "[HPO] accuracy with {'learning_rate': 0.046701486877712785, 'max_depth': 14} :  72.51 %\n"
          ]
        },
        {
          "output_type": "stream",
          "name": "stderr",
          "text": [
            "<ipython-input-391-08b556b39bea>:5: FutureWarning: suggest_loguniform has been deprecated in v3.0.0. This feature will be removed in v6.0.0. See https://github.com/optuna/optuna/releases/tag/v3.0.0. Use suggest_float(..., log=True) instead.\n",
            "  'learning_rate': trial.suggest_loguniform('learning_rate', 0.001, 0.25),\n",
            "/usr/local/lib/python3.11/dist-packages/lightgbm/engine.py:204: UserWarning: Found `num_iterations` in params. Will use it instead of argument\n",
            "  _log_warning(f\"Found `{alias}` in params. Will use it instead of argument\")\n",
            "[I 2025-02-26 01:59:32,711] Trial 30 finished with value: 0.8113725490196079 and parameters: {'learning_rate': 0.18091464062474075, 'max_depth': 12}. Best is trial 25 with value: 0.8227450980392157.\n"
          ]
        },
        {
          "output_type": "stream",
          "name": "stdout",
          "text": [
            "[HPO] accuracy with {'learning_rate': 0.18091464062474075, 'max_depth': 12} :  81.14 %\n"
          ]
        },
        {
          "output_type": "stream",
          "name": "stderr",
          "text": [
            "<ipython-input-391-08b556b39bea>:5: FutureWarning: suggest_loguniform has been deprecated in v3.0.0. This feature will be removed in v6.0.0. See https://github.com/optuna/optuna/releases/tag/v3.0.0. Use suggest_float(..., log=True) instead.\n",
            "  'learning_rate': trial.suggest_loguniform('learning_rate', 0.001, 0.25),\n",
            "/usr/local/lib/python3.11/dist-packages/lightgbm/engine.py:204: UserWarning: Found `num_iterations` in params. Will use it instead of argument\n",
            "  _log_warning(f\"Found `{alias}` in params. Will use it instead of argument\")\n",
            "[I 2025-02-26 01:59:33,152] Trial 31 finished with value: 0.8180392156862745 and parameters: {'learning_rate': 0.18048586044160572, 'max_depth': 12}. Best is trial 25 with value: 0.8227450980392157.\n"
          ]
        },
        {
          "output_type": "stream",
          "name": "stdout",
          "text": [
            "[HPO] accuracy with {'learning_rate': 0.18048586044160572, 'max_depth': 12} :  81.80 %\n"
          ]
        },
        {
          "output_type": "stream",
          "name": "stderr",
          "text": [
            "<ipython-input-391-08b556b39bea>:5: FutureWarning: suggest_loguniform has been deprecated in v3.0.0. This feature will be removed in v6.0.0. See https://github.com/optuna/optuna/releases/tag/v3.0.0. Use suggest_float(..., log=True) instead.\n",
            "  'learning_rate': trial.suggest_loguniform('learning_rate', 0.001, 0.25),\n",
            "/usr/local/lib/python3.11/dist-packages/lightgbm/engine.py:204: UserWarning: Found `num_iterations` in params. Will use it instead of argument\n",
            "  _log_warning(f\"Found `{alias}` in params. Will use it instead of argument\")\n",
            "[I 2025-02-26 01:59:33,581] Trial 32 finished with value: 0.8149019607843138 and parameters: {'learning_rate': 0.17874688739673442, 'max_depth': 14}. Best is trial 25 with value: 0.8227450980392157.\n"
          ]
        },
        {
          "output_type": "stream",
          "name": "stdout",
          "text": [
            "[HPO] accuracy with {'learning_rate': 0.17874688739673442, 'max_depth': 14} :  81.49 %\n"
          ]
        },
        {
          "output_type": "stream",
          "name": "stderr",
          "text": [
            "<ipython-input-391-08b556b39bea>:5: FutureWarning: suggest_loguniform has been deprecated in v3.0.0. This feature will be removed in v6.0.0. See https://github.com/optuna/optuna/releases/tag/v3.0.0. Use suggest_float(..., log=True) instead.\n",
            "  'learning_rate': trial.suggest_loguniform('learning_rate', 0.001, 0.25),\n",
            "/usr/local/lib/python3.11/dist-packages/lightgbm/engine.py:204: UserWarning: Found `num_iterations` in params. Will use it instead of argument\n",
            "  _log_warning(f\"Found `{alias}` in params. Will use it instead of argument\")\n",
            "[I 2025-02-26 01:59:34,038] Trial 33 finished with value: 0.7803921568627451 and parameters: {'learning_rate': 0.08682826252431294, 'max_depth': 12}. Best is trial 25 with value: 0.8227450980392157.\n"
          ]
        },
        {
          "output_type": "stream",
          "name": "stdout",
          "text": [
            "[HPO] accuracy with {'learning_rate': 0.08682826252431294, 'max_depth': 12} :  78.04 %\n"
          ]
        },
        {
          "output_type": "stream",
          "name": "stderr",
          "text": [
            "<ipython-input-391-08b556b39bea>:5: FutureWarning: suggest_loguniform has been deprecated in v3.0.0. This feature will be removed in v6.0.0. See https://github.com/optuna/optuna/releases/tag/v3.0.0. Use suggest_float(..., log=True) instead.\n",
            "  'learning_rate': trial.suggest_loguniform('learning_rate', 0.001, 0.25),\n",
            "/usr/local/lib/python3.11/dist-packages/lightgbm/engine.py:204: UserWarning: Found `num_iterations` in params. Will use it instead of argument\n",
            "  _log_warning(f\"Found `{alias}` in params. Will use it instead of argument\")\n",
            "[I 2025-02-26 01:59:34,487] Trial 34 finished with value: 0.8180392156862745 and parameters: {'learning_rate': 0.1899858567724614, 'max_depth': 12}. Best is trial 25 with value: 0.8227450980392157.\n"
          ]
        },
        {
          "output_type": "stream",
          "name": "stdout",
          "text": [
            "[HPO] accuracy with {'learning_rate': 0.1899858567724614, 'max_depth': 12} :  81.80 %\n"
          ]
        },
        {
          "output_type": "stream",
          "name": "stderr",
          "text": [
            "<ipython-input-391-08b556b39bea>:5: FutureWarning: suggest_loguniform has been deprecated in v3.0.0. This feature will be removed in v6.0.0. See https://github.com/optuna/optuna/releases/tag/v3.0.0. Use suggest_float(..., log=True) instead.\n",
            "  'learning_rate': trial.suggest_loguniform('learning_rate', 0.001, 0.25),\n",
            "/usr/local/lib/python3.11/dist-packages/lightgbm/engine.py:204: UserWarning: Found `num_iterations` in params. Will use it instead of argument\n",
            "  _log_warning(f\"Found `{alias}` in params. Will use it instead of argument\")\n",
            "[I 2025-02-26 01:59:34,931] Trial 35 finished with value: 0.779607843137255 and parameters: {'learning_rate': 0.08904618606269042, 'max_depth': 15}. Best is trial 25 with value: 0.8227450980392157.\n"
          ]
        },
        {
          "output_type": "stream",
          "name": "stdout",
          "text": [
            "[HPO] accuracy with {'learning_rate': 0.08904618606269042, 'max_depth': 15} :  77.96 %\n"
          ]
        },
        {
          "output_type": "stream",
          "name": "stderr",
          "text": [
            "<ipython-input-391-08b556b39bea>:5: FutureWarning: suggest_loguniform has been deprecated in v3.0.0. This feature will be removed in v6.0.0. See https://github.com/optuna/optuna/releases/tag/v3.0.0. Use suggest_float(..., log=True) instead.\n",
            "  'learning_rate': trial.suggest_loguniform('learning_rate', 0.001, 0.25),\n",
            "/usr/local/lib/python3.11/dist-packages/lightgbm/engine.py:204: UserWarning: Found `num_iterations` in params. Will use it instead of argument\n",
            "  _log_warning(f\"Found `{alias}` in params. Will use it instead of argument\")\n",
            "[I 2025-02-26 01:59:35,432] Trial 36 finished with value: 0.6584313725490196 and parameters: {'learning_rate': 0.02279849319823017, 'max_depth': 14}. Best is trial 25 with value: 0.8227450980392157.\n"
          ]
        },
        {
          "output_type": "stream",
          "name": "stdout",
          "text": [
            "[HPO] accuracy with {'learning_rate': 0.02279849319823017, 'max_depth': 14} :  65.84 %\n"
          ]
        },
        {
          "output_type": "stream",
          "name": "stderr",
          "text": [
            "<ipython-input-391-08b556b39bea>:5: FutureWarning: suggest_loguniform has been deprecated in v3.0.0. This feature will be removed in v6.0.0. See https://github.com/optuna/optuna/releases/tag/v3.0.0. Use suggest_float(..., log=True) instead.\n",
            "  'learning_rate': trial.suggest_loguniform('learning_rate', 0.001, 0.25),\n",
            "/usr/local/lib/python3.11/dist-packages/lightgbm/engine.py:204: UserWarning: Found `num_iterations` in params. Will use it instead of argument\n",
            "  _log_warning(f\"Found `{alias}` in params. Will use it instead of argument\")\n",
            "[I 2025-02-26 01:59:35,868] Trial 37 finished with value: 0.8129411764705883 and parameters: {'learning_rate': 0.2116105854625165, 'max_depth': 13}. Best is trial 25 with value: 0.8227450980392157.\n"
          ]
        },
        {
          "output_type": "stream",
          "name": "stdout",
          "text": [
            "[HPO] accuracy with {'learning_rate': 0.2116105854625165, 'max_depth': 13} :  81.29 %\n"
          ]
        },
        {
          "output_type": "stream",
          "name": "stderr",
          "text": [
            "<ipython-input-391-08b556b39bea>:5: FutureWarning: suggest_loguniform has been deprecated in v3.0.0. This feature will be removed in v6.0.0. See https://github.com/optuna/optuna/releases/tag/v3.0.0. Use suggest_float(..., log=True) instead.\n",
            "  'learning_rate': trial.suggest_loguniform('learning_rate', 0.001, 0.25),\n",
            "/usr/local/lib/python3.11/dist-packages/lightgbm/engine.py:204: UserWarning: Found `num_iterations` in params. Will use it instead of argument\n",
            "  _log_warning(f\"Found `{alias}` in params. Will use it instead of argument\")\n",
            "[I 2025-02-26 01:59:36,332] Trial 38 finished with value: 0.7549019607843137 and parameters: {'learning_rate': 0.059828084209792805, 'max_depth': 12}. Best is trial 25 with value: 0.8227450980392157.\n"
          ]
        },
        {
          "output_type": "stream",
          "name": "stdout",
          "text": [
            "[HPO] accuracy with {'learning_rate': 0.059828084209792805, 'max_depth': 12} :  75.49 %\n"
          ]
        },
        {
          "output_type": "stream",
          "name": "stderr",
          "text": [
            "<ipython-input-391-08b556b39bea>:5: FutureWarning: suggest_loguniform has been deprecated in v3.0.0. This feature will be removed in v6.0.0. See https://github.com/optuna/optuna/releases/tag/v3.0.0. Use suggest_float(..., log=True) instead.\n",
            "  'learning_rate': trial.suggest_loguniform('learning_rate', 0.001, 0.25),\n",
            "/usr/local/lib/python3.11/dist-packages/lightgbm/engine.py:204: UserWarning: Found `num_iterations` in params. Will use it instead of argument\n",
            "  _log_warning(f\"Found `{alias}` in params. Will use it instead of argument\")\n",
            "[I 2025-02-26 01:59:36,814] Trial 39 finished with value: 0.5866666666666667 and parameters: {'learning_rate': 0.00976947918929858, 'max_depth': 15}. Best is trial 25 with value: 0.8227450980392157.\n"
          ]
        },
        {
          "output_type": "stream",
          "name": "stdout",
          "text": [
            "[HPO] accuracy with {'learning_rate': 0.00976947918929858, 'max_depth': 15} :  58.67 %\n"
          ]
        },
        {
          "output_type": "stream",
          "name": "stderr",
          "text": [
            "<ipython-input-391-08b556b39bea>:5: FutureWarning: suggest_loguniform has been deprecated in v3.0.0. This feature will be removed in v6.0.0. See https://github.com/optuna/optuna/releases/tag/v3.0.0. Use suggest_float(..., log=True) instead.\n",
            "  'learning_rate': trial.suggest_loguniform('learning_rate', 0.001, 0.25),\n",
            "/usr/local/lib/python3.11/dist-packages/lightgbm/engine.py:204: UserWarning: Found `num_iterations` in params. Will use it instead of argument\n",
            "  _log_warning(f\"Found `{alias}` in params. Will use it instead of argument\")\n",
            "[I 2025-02-26 01:59:37,307] Trial 40 finished with value: 0.46078431372549017 and parameters: {'learning_rate': 0.0011903568939960855, 'max_depth': 13}. Best is trial 25 with value: 0.8227450980392157.\n"
          ]
        },
        {
          "output_type": "stream",
          "name": "stdout",
          "text": [
            "[HPO] accuracy with {'learning_rate': 0.0011903568939960855, 'max_depth': 13} :  46.08 %\n"
          ]
        },
        {
          "output_type": "stream",
          "name": "stderr",
          "text": [
            "<ipython-input-391-08b556b39bea>:5: FutureWarning: suggest_loguniform has been deprecated in v3.0.0. This feature will be removed in v6.0.0. See https://github.com/optuna/optuna/releases/tag/v3.0.0. Use suggest_float(..., log=True) instead.\n",
            "  'learning_rate': trial.suggest_loguniform('learning_rate', 0.001, 0.25),\n",
            "/usr/local/lib/python3.11/dist-packages/lightgbm/engine.py:204: UserWarning: Found `num_iterations` in params. Will use it instead of argument\n",
            "  _log_warning(f\"Found `{alias}` in params. Will use it instead of argument\")\n",
            "[I 2025-02-26 01:59:37,826] Trial 41 finished with value: 0.8196078431372549 and parameters: {'learning_rate': 0.20123002948683857, 'max_depth': 13}. Best is trial 25 with value: 0.8227450980392157.\n"
          ]
        },
        {
          "output_type": "stream",
          "name": "stdout",
          "text": [
            "[HPO] accuracy with {'learning_rate': 0.20123002948683857, 'max_depth': 13} :  81.96 %\n"
          ]
        },
        {
          "output_type": "stream",
          "name": "stderr",
          "text": [
            "<ipython-input-391-08b556b39bea>:5: FutureWarning: suggest_loguniform has been deprecated in v3.0.0. This feature will be removed in v6.0.0. See https://github.com/optuna/optuna/releases/tag/v3.0.0. Use suggest_float(..., log=True) instead.\n",
            "  'learning_rate': trial.suggest_loguniform('learning_rate', 0.001, 0.25),\n",
            "/usr/local/lib/python3.11/dist-packages/lightgbm/engine.py:204: UserWarning: Found `num_iterations` in params. Will use it instead of argument\n",
            "  _log_warning(f\"Found `{alias}` in params. Will use it instead of argument\")\n",
            "[I 2025-02-26 01:59:38,467] Trial 42 finished with value: 0.783921568627451 and parameters: {'learning_rate': 0.1012733047301282, 'max_depth': 14}. Best is trial 25 with value: 0.8227450980392157.\n"
          ]
        },
        {
          "output_type": "stream",
          "name": "stdout",
          "text": [
            "[HPO] accuracy with {'learning_rate': 0.1012733047301282, 'max_depth': 14} :  78.39 %\n"
          ]
        },
        {
          "output_type": "stream",
          "name": "stderr",
          "text": [
            "<ipython-input-391-08b556b39bea>:5: FutureWarning: suggest_loguniform has been deprecated in v3.0.0. This feature will be removed in v6.0.0. See https://github.com/optuna/optuna/releases/tag/v3.0.0. Use suggest_float(..., log=True) instead.\n",
            "  'learning_rate': trial.suggest_loguniform('learning_rate', 0.001, 0.25),\n",
            "/usr/local/lib/python3.11/dist-packages/lightgbm/engine.py:204: UserWarning: Found `num_iterations` in params. Will use it instead of argument\n",
            "  _log_warning(f\"Found `{alias}` in params. Will use it instead of argument\")\n",
            "[I 2025-02-26 01:59:39,136] Trial 43 finished with value: 0.8192156862745098 and parameters: {'learning_rate': 0.16714001793140973, 'max_depth': 12}. Best is trial 25 with value: 0.8227450980392157.\n"
          ]
        },
        {
          "output_type": "stream",
          "name": "stdout",
          "text": [
            "[HPO] accuracy with {'learning_rate': 0.16714001793140973, 'max_depth': 12} :  81.92 %\n"
          ]
        },
        {
          "output_type": "stream",
          "name": "stderr",
          "text": [
            "<ipython-input-391-08b556b39bea>:5: FutureWarning: suggest_loguniform has been deprecated in v3.0.0. This feature will be removed in v6.0.0. See https://github.com/optuna/optuna/releases/tag/v3.0.0. Use suggest_float(..., log=True) instead.\n",
            "  'learning_rate': trial.suggest_loguniform('learning_rate', 0.001, 0.25),\n",
            "/usr/local/lib/python3.11/dist-packages/lightgbm/engine.py:204: UserWarning: Found `num_iterations` in params. Will use it instead of argument\n",
            "  _log_warning(f\"Found `{alias}` in params. Will use it instead of argument\")\n",
            "[I 2025-02-26 01:59:39,624] Trial 44 finished with value: 0.5231372549019608 and parameters: {'learning_rate': 0.0034924822747109847, 'max_depth': 12}. Best is trial 25 with value: 0.8227450980392157.\n"
          ]
        },
        {
          "output_type": "stream",
          "name": "stdout",
          "text": [
            "[HPO] accuracy with {'learning_rate': 0.0034924822747109847, 'max_depth': 12} :  52.31 %\n"
          ]
        },
        {
          "output_type": "stream",
          "name": "stderr",
          "text": [
            "<ipython-input-391-08b556b39bea>:5: FutureWarning: suggest_loguniform has been deprecated in v3.0.0. This feature will be removed in v6.0.0. See https://github.com/optuna/optuna/releases/tag/v3.0.0. Use suggest_float(..., log=True) instead.\n",
            "  'learning_rate': trial.suggest_loguniform('learning_rate', 0.001, 0.25),\n",
            "/usr/local/lib/python3.11/dist-packages/lightgbm/engine.py:204: UserWarning: Found `num_iterations` in params. Will use it instead of argument\n",
            "  _log_warning(f\"Found `{alias}` in params. Will use it instead of argument\")\n",
            "[I 2025-02-26 01:59:40,043] Trial 45 finished with value: 0.8247058823529412 and parameters: {'learning_rate': 0.24486583224565417, 'max_depth': 11}. Best is trial 45 with value: 0.8247058823529412.\n"
          ]
        },
        {
          "output_type": "stream",
          "name": "stdout",
          "text": [
            "[HPO] accuracy with {'learning_rate': 0.24486583224565417, 'max_depth': 11} :  82.47 %\n"
          ]
        },
        {
          "output_type": "stream",
          "name": "stderr",
          "text": [
            "<ipython-input-391-08b556b39bea>:5: FutureWarning: suggest_loguniform has been deprecated in v3.0.0. This feature will be removed in v6.0.0. See https://github.com/optuna/optuna/releases/tag/v3.0.0. Use suggest_float(..., log=True) instead.\n",
            "  'learning_rate': trial.suggest_loguniform('learning_rate', 0.001, 0.25),\n",
            "/usr/local/lib/python3.11/dist-packages/lightgbm/engine.py:204: UserWarning: Found `num_iterations` in params. Will use it instead of argument\n",
            "  _log_warning(f\"Found `{alias}` in params. Will use it instead of argument\")\n",
            "[I 2025-02-26 01:59:40,478] Trial 46 finished with value: 0.8192156862745098 and parameters: {'learning_rate': 0.23427317950786727, 'max_depth': 11}. Best is trial 45 with value: 0.8247058823529412.\n"
          ]
        },
        {
          "output_type": "stream",
          "name": "stdout",
          "text": [
            "[HPO] accuracy with {'learning_rate': 0.23427317950786727, 'max_depth': 11} :  81.92 %\n"
          ]
        },
        {
          "output_type": "stream",
          "name": "stderr",
          "text": [
            "<ipython-input-391-08b556b39bea>:5: FutureWarning: suggest_loguniform has been deprecated in v3.0.0. This feature will be removed in v6.0.0. See https://github.com/optuna/optuna/releases/tag/v3.0.0. Use suggest_float(..., log=True) instead.\n",
            "  'learning_rate': trial.suggest_loguniform('learning_rate', 0.001, 0.25),\n",
            "/usr/local/lib/python3.11/dist-packages/lightgbm/engine.py:204: UserWarning: Found `num_iterations` in params. Will use it instead of argument\n",
            "  _log_warning(f\"Found `{alias}` in params. Will use it instead of argument\")\n",
            "[I 2025-02-26 01:59:40,926] Trial 47 finished with value: 0.8129411764705883 and parameters: {'learning_rate': 0.14379236955609573, 'max_depth': 11}. Best is trial 45 with value: 0.8247058823529412.\n"
          ]
        },
        {
          "output_type": "stream",
          "name": "stdout",
          "text": [
            "[HPO] accuracy with {'learning_rate': 0.14379236955609573, 'max_depth': 11} :  81.29 %\n"
          ]
        },
        {
          "output_type": "stream",
          "name": "stderr",
          "text": [
            "<ipython-input-391-08b556b39bea>:5: FutureWarning: suggest_loguniform has been deprecated in v3.0.0. This feature will be removed in v6.0.0. See https://github.com/optuna/optuna/releases/tag/v3.0.0. Use suggest_float(..., log=True) instead.\n",
            "  'learning_rate': trial.suggest_loguniform('learning_rate', 0.001, 0.25),\n",
            "/usr/local/lib/python3.11/dist-packages/lightgbm/engine.py:204: UserWarning: Found `num_iterations` in params. Will use it instead of argument\n",
            "  _log_warning(f\"Found `{alias}` in params. Will use it instead of argument\")\n",
            "[I 2025-02-26 01:59:41,364] Trial 48 finished with value: 0.8145098039215686 and parameters: {'learning_rate': 0.2306343069321009, 'max_depth': 9}. Best is trial 45 with value: 0.8247058823529412.\n"
          ]
        },
        {
          "output_type": "stream",
          "name": "stdout",
          "text": [
            "[HPO] accuracy with {'learning_rate': 0.2306343069321009, 'max_depth': 9} :  81.45 %\n"
          ]
        },
        {
          "output_type": "stream",
          "name": "stderr",
          "text": [
            "<ipython-input-391-08b556b39bea>:5: FutureWarning: suggest_loguniform has been deprecated in v3.0.0. This feature will be removed in v6.0.0. See https://github.com/optuna/optuna/releases/tag/v3.0.0. Use suggest_float(..., log=True) instead.\n",
            "  'learning_rate': trial.suggest_loguniform('learning_rate', 0.001, 0.25),\n",
            "/usr/local/lib/python3.11/dist-packages/lightgbm/engine.py:204: UserWarning: Found `num_iterations` in params. Will use it instead of argument\n",
            "  _log_warning(f\"Found `{alias}` in params. Will use it instead of argument\")\n",
            "[I 2025-02-26 01:59:41,824] Trial 49 finished with value: 0.7494117647058823 and parameters: {'learning_rate': 0.06798191012489777, 'max_depth': 10}. Best is trial 45 with value: 0.8247058823529412.\n"
          ]
        },
        {
          "output_type": "stream",
          "name": "stdout",
          "text": [
            "[HPO] accuracy with {'learning_rate': 0.06798191012489777, 'max_depth': 10} :  74.94 %\n"
          ]
        },
        {
          "output_type": "stream",
          "name": "stderr",
          "text": [
            "<ipython-input-391-08b556b39bea>:5: FutureWarning: suggest_loguniform has been deprecated in v3.0.0. This feature will be removed in v6.0.0. See https://github.com/optuna/optuna/releases/tag/v3.0.0. Use suggest_float(..., log=True) instead.\n",
            "  'learning_rate': trial.suggest_loguniform('learning_rate', 0.001, 0.25),\n",
            "/usr/local/lib/python3.11/dist-packages/lightgbm/engine.py:204: UserWarning: Found `num_iterations` in params. Will use it instead of argument\n",
            "  _log_warning(f\"Found `{alias}` in params. Will use it instead of argument\")\n",
            "[I 2025-02-26 01:59:42,253] Trial 50 finished with value: 0.8207843137254902 and parameters: {'learning_rate': 0.24610381516791802, 'max_depth': 11}. Best is trial 45 with value: 0.8247058823529412.\n"
          ]
        },
        {
          "output_type": "stream",
          "name": "stdout",
          "text": [
            "[HPO] accuracy with {'learning_rate': 0.24610381516791802, 'max_depth': 11} :  82.08 %\n"
          ]
        },
        {
          "output_type": "stream",
          "name": "stderr",
          "text": [
            "<ipython-input-391-08b556b39bea>:5: FutureWarning: suggest_loguniform has been deprecated in v3.0.0. This feature will be removed in v6.0.0. See https://github.com/optuna/optuna/releases/tag/v3.0.0. Use suggest_float(..., log=True) instead.\n",
            "  'learning_rate': trial.suggest_loguniform('learning_rate', 0.001, 0.25),\n",
            "/usr/local/lib/python3.11/dist-packages/lightgbm/engine.py:204: UserWarning: Found `num_iterations` in params. Will use it instead of argument\n",
            "  _log_warning(f\"Found `{alias}` in params. Will use it instead of argument\")\n",
            "[I 2025-02-26 01:59:42,690] Trial 51 finished with value: 0.8180392156862745 and parameters: {'learning_rate': 0.24868793571091818, 'max_depth': 11}. Best is trial 45 with value: 0.8247058823529412.\n"
          ]
        },
        {
          "output_type": "stream",
          "name": "stdout",
          "text": [
            "[HPO] accuracy with {'learning_rate': 0.24868793571091818, 'max_depth': 11} :  81.80 %\n"
          ]
        },
        {
          "output_type": "stream",
          "name": "stderr",
          "text": [
            "<ipython-input-391-08b556b39bea>:5: FutureWarning: suggest_loguniform has been deprecated in v3.0.0. This feature will be removed in v6.0.0. See https://github.com/optuna/optuna/releases/tag/v3.0.0. Use suggest_float(..., log=True) instead.\n",
            "  'learning_rate': trial.suggest_loguniform('learning_rate', 0.001, 0.25),\n",
            "/usr/local/lib/python3.11/dist-packages/lightgbm/engine.py:204: UserWarning: Found `num_iterations` in params. Will use it instead of argument\n",
            "  _log_warning(f\"Found `{alias}` in params. Will use it instead of argument\")\n",
            "[I 2025-02-26 01:59:43,150] Trial 52 finished with value: 0.8109803921568628 and parameters: {'learning_rate': 0.14288417666176664, 'max_depth': 9}. Best is trial 45 with value: 0.8247058823529412.\n"
          ]
        },
        {
          "output_type": "stream",
          "name": "stdout",
          "text": [
            "[HPO] accuracy with {'learning_rate': 0.14288417666176664, 'max_depth': 9} :  81.10 %\n"
          ]
        },
        {
          "output_type": "stream",
          "name": "stderr",
          "text": [
            "<ipython-input-391-08b556b39bea>:5: FutureWarning: suggest_loguniform has been deprecated in v3.0.0. This feature will be removed in v6.0.0. See https://github.com/optuna/optuna/releases/tag/v3.0.0. Use suggest_float(..., log=True) instead.\n",
            "  'learning_rate': trial.suggest_loguniform('learning_rate', 0.001, 0.25),\n",
            "/usr/local/lib/python3.11/dist-packages/lightgbm/engine.py:204: UserWarning: Found `num_iterations` in params. Will use it instead of argument\n",
            "  _log_warning(f\"Found `{alias}` in params. Will use it instead of argument\")\n",
            "[I 2025-02-26 01:59:43,582] Trial 53 finished with value: 0.8098039215686275 and parameters: {'learning_rate': 0.2479300695056191, 'max_depth': 13}. Best is trial 45 with value: 0.8247058823529412.\n"
          ]
        },
        {
          "output_type": "stream",
          "name": "stdout",
          "text": [
            "[HPO] accuracy with {'learning_rate': 0.2479300695056191, 'max_depth': 13} :  80.98 %\n"
          ]
        },
        {
          "output_type": "stream",
          "name": "stderr",
          "text": [
            "<ipython-input-391-08b556b39bea>:5: FutureWarning: suggest_loguniform has been deprecated in v3.0.0. This feature will be removed in v6.0.0. See https://github.com/optuna/optuna/releases/tag/v3.0.0. Use suggest_float(..., log=True) instead.\n",
            "  'learning_rate': trial.suggest_loguniform('learning_rate', 0.001, 0.25),\n",
            "/usr/local/lib/python3.11/dist-packages/lightgbm/engine.py:204: UserWarning: Found `num_iterations` in params. Will use it instead of argument\n",
            "  _log_warning(f\"Found `{alias}` in params. Will use it instead of argument\")\n",
            "[I 2025-02-26 01:59:44,014] Trial 54 finished with value: 0.803921568627451 and parameters: {'learning_rate': 0.15189443264293495, 'max_depth': 11}. Best is trial 45 with value: 0.8247058823529412.\n"
          ]
        },
        {
          "output_type": "stream",
          "name": "stdout",
          "text": [
            "[HPO] accuracy with {'learning_rate': 0.15189443264293495, 'max_depth': 11} :  80.39 %\n"
          ]
        },
        {
          "output_type": "stream",
          "name": "stderr",
          "text": [
            "<ipython-input-391-08b556b39bea>:5: FutureWarning: suggest_loguniform has been deprecated in v3.0.0. This feature will be removed in v6.0.0. See https://github.com/optuna/optuna/releases/tag/v3.0.0. Use suggest_float(..., log=True) instead.\n",
            "  'learning_rate': trial.suggest_loguniform('learning_rate', 0.001, 0.25),\n",
            "/usr/local/lib/python3.11/dist-packages/lightgbm/engine.py:204: UserWarning: Found `num_iterations` in params. Will use it instead of argument\n",
            "  _log_warning(f\"Found `{alias}` in params. Will use it instead of argument\")\n",
            "[I 2025-02-26 01:59:44,473] Trial 55 finished with value: 0.7905882352941176 and parameters: {'learning_rate': 0.10470989177700422, 'max_depth': 10}. Best is trial 45 with value: 0.8247058823529412.\n"
          ]
        },
        {
          "output_type": "stream",
          "name": "stdout",
          "text": [
            "[HPO] accuracy with {'learning_rate': 0.10470989177700422, 'max_depth': 10} :  79.06 %\n"
          ]
        },
        {
          "output_type": "stream",
          "name": "stderr",
          "text": [
            "<ipython-input-391-08b556b39bea>:5: FutureWarning: suggest_loguniform has been deprecated in v3.0.0. This feature will be removed in v6.0.0. See https://github.com/optuna/optuna/releases/tag/v3.0.0. Use suggest_float(..., log=True) instead.\n",
            "  'learning_rate': trial.suggest_loguniform('learning_rate', 0.001, 0.25),\n",
            "/usr/local/lib/python3.11/dist-packages/lightgbm/engine.py:204: UserWarning: Found `num_iterations` in params. Will use it instead of argument\n",
            "  _log_warning(f\"Found `{alias}` in params. Will use it instead of argument\")\n",
            "[I 2025-02-26 01:59:44,911] Trial 56 finished with value: 0.8101960784313725 and parameters: {'learning_rate': 0.20257458289447997, 'max_depth': 13}. Best is trial 45 with value: 0.8247058823529412.\n"
          ]
        },
        {
          "output_type": "stream",
          "name": "stdout",
          "text": [
            "[HPO] accuracy with {'learning_rate': 0.20257458289447997, 'max_depth': 13} :  81.02 %\n"
          ]
        },
        {
          "output_type": "stream",
          "name": "stderr",
          "text": [
            "<ipython-input-391-08b556b39bea>:5: FutureWarning: suggest_loguniform has been deprecated in v3.0.0. This feature will be removed in v6.0.0. See https://github.com/optuna/optuna/releases/tag/v3.0.0. Use suggest_float(..., log=True) instead.\n",
            "  'learning_rate': trial.suggest_loguniform('learning_rate', 0.001, 0.25),\n",
            "/usr/local/lib/python3.11/dist-packages/lightgbm/engine.py:204: UserWarning: Found `num_iterations` in params. Will use it instead of argument\n",
            "  _log_warning(f\"Found `{alias}` in params. Will use it instead of argument\")\n",
            "[I 2025-02-26 01:59:45,399] Trial 57 finished with value: 0.611764705882353 and parameters: {'learning_rate': 0.01281601343351039, 'max_depth': 11}. Best is trial 45 with value: 0.8247058823529412.\n"
          ]
        },
        {
          "output_type": "stream",
          "name": "stdout",
          "text": [
            "[HPO] accuracy with {'learning_rate': 0.01281601343351039, 'max_depth': 11} :  61.18 %\n"
          ]
        },
        {
          "output_type": "stream",
          "name": "stderr",
          "text": [
            "<ipython-input-391-08b556b39bea>:5: FutureWarning: suggest_loguniform has been deprecated in v3.0.0. This feature will be removed in v6.0.0. See https://github.com/optuna/optuna/releases/tag/v3.0.0. Use suggest_float(..., log=True) instead.\n",
            "  'learning_rate': trial.suggest_loguniform('learning_rate', 0.001, 0.25),\n",
            "/usr/local/lib/python3.11/dist-packages/lightgbm/engine.py:204: UserWarning: Found `num_iterations` in params. Will use it instead of argument\n",
            "  _log_warning(f\"Found `{alias}` in params. Will use it instead of argument\")\n",
            "[I 2025-02-26 01:59:45,836] Trial 58 finished with value: 0.7941176470588235 and parameters: {'learning_rate': 0.13431051413259756, 'max_depth': 10}. Best is trial 45 with value: 0.8247058823529412.\n"
          ]
        },
        {
          "output_type": "stream",
          "name": "stdout",
          "text": [
            "[HPO] accuracy with {'learning_rate': 0.13431051413259756, 'max_depth': 10} :  79.41 %\n"
          ]
        },
        {
          "output_type": "stream",
          "name": "stderr",
          "text": [
            "<ipython-input-391-08b556b39bea>:5: FutureWarning: suggest_loguniform has been deprecated in v3.0.0. This feature will be removed in v6.0.0. See https://github.com/optuna/optuna/releases/tag/v3.0.0. Use suggest_float(..., log=True) instead.\n",
            "  'learning_rate': trial.suggest_loguniform('learning_rate', 0.001, 0.25),\n",
            "/usr/local/lib/python3.11/dist-packages/lightgbm/engine.py:204: UserWarning: Found `num_iterations` in params. Will use it instead of argument\n",
            "  _log_warning(f\"Found `{alias}` in params. Will use it instead of argument\")\n",
            "[I 2025-02-26 01:59:46,309] Trial 59 finished with value: 0.5274509803921569 and parameters: {'learning_rate': 0.004320837115541026, 'max_depth': 9}. Best is trial 45 with value: 0.8247058823529412.\n"
          ]
        },
        {
          "output_type": "stream",
          "name": "stdout",
          "text": [
            "[HPO] accuracy with {'learning_rate': 0.004320837115541026, 'max_depth': 9} :  52.75 %\n"
          ]
        },
        {
          "output_type": "stream",
          "name": "stderr",
          "text": [
            "<ipython-input-391-08b556b39bea>:5: FutureWarning: suggest_loguniform has been deprecated in v3.0.0. This feature will be removed in v6.0.0. See https://github.com/optuna/optuna/releases/tag/v3.0.0. Use suggest_float(..., log=True) instead.\n",
            "  'learning_rate': trial.suggest_loguniform('learning_rate', 0.001, 0.25),\n",
            "/usr/local/lib/python3.11/dist-packages/lightgbm/engine.py:204: UserWarning: Found `num_iterations` in params. Will use it instead of argument\n",
            "  _log_warning(f\"Found `{alias}` in params. Will use it instead of argument\")\n",
            "[I 2025-02-26 01:59:46,779] Trial 60 finished with value: 0.49686274509803924 and parameters: {'learning_rate': 0.0017521390735880892, 'max_depth': 11}. Best is trial 45 with value: 0.8247058823529412.\n"
          ]
        },
        {
          "output_type": "stream",
          "name": "stdout",
          "text": [
            "[HPO] accuracy with {'learning_rate': 0.0017521390735880892, 'max_depth': 11} :  49.69 %\n"
          ]
        },
        {
          "output_type": "stream",
          "name": "stderr",
          "text": [
            "<ipython-input-391-08b556b39bea>:5: FutureWarning: suggest_loguniform has been deprecated in v3.0.0. This feature will be removed in v6.0.0. See https://github.com/optuna/optuna/releases/tag/v3.0.0. Use suggest_float(..., log=True) instead.\n",
            "  'learning_rate': trial.suggest_loguniform('learning_rate', 0.001, 0.25),\n",
            "/usr/local/lib/python3.11/dist-packages/lightgbm/engine.py:204: UserWarning: Found `num_iterations` in params. Will use it instead of argument\n",
            "  _log_warning(f\"Found `{alias}` in params. Will use it instead of argument\")\n",
            "[I 2025-02-26 01:59:47,218] Trial 61 finished with value: 0.8215686274509804 and parameters: {'learning_rate': 0.20681373804256045, 'max_depth': 12}. Best is trial 45 with value: 0.8247058823529412.\n"
          ]
        },
        {
          "output_type": "stream",
          "name": "stdout",
          "text": [
            "[HPO] accuracy with {'learning_rate': 0.20681373804256045, 'max_depth': 12} :  82.16 %\n"
          ]
        },
        {
          "output_type": "stream",
          "name": "stderr",
          "text": [
            "<ipython-input-391-08b556b39bea>:5: FutureWarning: suggest_loguniform has been deprecated in v3.0.0. This feature will be removed in v6.0.0. See https://github.com/optuna/optuna/releases/tag/v3.0.0. Use suggest_float(..., log=True) instead.\n",
            "  'learning_rate': trial.suggest_loguniform('learning_rate', 0.001, 0.25),\n",
            "/usr/local/lib/python3.11/dist-packages/lightgbm/engine.py:204: UserWarning: Found `num_iterations` in params. Will use it instead of argument\n",
            "  _log_warning(f\"Found `{alias}` in params. Will use it instead of argument\")\n",
            "[I 2025-02-26 01:59:47,656] Trial 62 finished with value: 0.808235294117647 and parameters: {'learning_rate': 0.21249361823342824, 'max_depth': 12}. Best is trial 45 with value: 0.8247058823529412.\n"
          ]
        },
        {
          "output_type": "stream",
          "name": "stdout",
          "text": [
            "[HPO] accuracy with {'learning_rate': 0.21249361823342824, 'max_depth': 12} :  80.82 %\n"
          ]
        },
        {
          "output_type": "stream",
          "name": "stderr",
          "text": [
            "<ipython-input-391-08b556b39bea>:5: FutureWarning: suggest_loguniform has been deprecated in v3.0.0. This feature will be removed in v6.0.0. See https://github.com/optuna/optuna/releases/tag/v3.0.0. Use suggest_float(..., log=True) instead.\n",
            "  'learning_rate': trial.suggest_loguniform('learning_rate', 0.001, 0.25),\n",
            "/usr/local/lib/python3.11/dist-packages/lightgbm/engine.py:204: UserWarning: Found `num_iterations` in params. Will use it instead of argument\n",
            "  _log_warning(f\"Found `{alias}` in params. Will use it instead of argument\")\n",
            "[I 2025-02-26 01:59:48,127] Trial 63 finished with value: 0.8133333333333334 and parameters: {'learning_rate': 0.16476937234267414, 'max_depth': 13}. Best is trial 45 with value: 0.8247058823529412.\n"
          ]
        },
        {
          "output_type": "stream",
          "name": "stdout",
          "text": [
            "[HPO] accuracy with {'learning_rate': 0.16476937234267414, 'max_depth': 13} :  81.33 %\n"
          ]
        },
        {
          "output_type": "stream",
          "name": "stderr",
          "text": [
            "<ipython-input-391-08b556b39bea>:5: FutureWarning: suggest_loguniform has been deprecated in v3.0.0. This feature will be removed in v6.0.0. See https://github.com/optuna/optuna/releases/tag/v3.0.0. Use suggest_float(..., log=True) instead.\n",
            "  'learning_rate': trial.suggest_loguniform('learning_rate', 0.001, 0.25),\n",
            "/usr/local/lib/python3.11/dist-packages/lightgbm/engine.py:204: UserWarning: Found `num_iterations` in params. Will use it instead of argument\n",
            "  _log_warning(f\"Found `{alias}` in params. Will use it instead of argument\")\n",
            "[I 2025-02-26 01:59:48,576] Trial 64 finished with value: 0.7835294117647059 and parameters: {'learning_rate': 0.10584986378615209, 'max_depth': 11}. Best is trial 45 with value: 0.8247058823529412.\n"
          ]
        },
        {
          "output_type": "stream",
          "name": "stdout",
          "text": [
            "[HPO] accuracy with {'learning_rate': 0.10584986378615209, 'max_depth': 11} :  78.35 %\n"
          ]
        },
        {
          "output_type": "stream",
          "name": "stderr",
          "text": [
            "<ipython-input-391-08b556b39bea>:5: FutureWarning: suggest_loguniform has been deprecated in v3.0.0. This feature will be removed in v6.0.0. See https://github.com/optuna/optuna/releases/tag/v3.0.0. Use suggest_float(..., log=True) instead.\n",
            "  'learning_rate': trial.suggest_loguniform('learning_rate', 0.001, 0.25),\n",
            "/usr/local/lib/python3.11/dist-packages/lightgbm/engine.py:204: UserWarning: Found `num_iterations` in params. Will use it instead of argument\n",
            "  _log_warning(f\"Found `{alias}` in params. Will use it instead of argument\")\n",
            "[I 2025-02-26 01:59:49,021] Trial 65 finished with value: 0.8101960784313725 and parameters: {'learning_rate': 0.21312657478882308, 'max_depth': 13}. Best is trial 45 with value: 0.8247058823529412.\n"
          ]
        },
        {
          "output_type": "stream",
          "name": "stdout",
          "text": [
            "[HPO] accuracy with {'learning_rate': 0.21312657478882308, 'max_depth': 13} :  81.02 %\n"
          ]
        },
        {
          "output_type": "stream",
          "name": "stderr",
          "text": [
            "<ipython-input-391-08b556b39bea>:5: FutureWarning: suggest_loguniform has been deprecated in v3.0.0. This feature will be removed in v6.0.0. See https://github.com/optuna/optuna/releases/tag/v3.0.0. Use suggest_float(..., log=True) instead.\n",
            "  'learning_rate': trial.suggest_loguniform('learning_rate', 0.001, 0.25),\n",
            "/usr/local/lib/python3.11/dist-packages/lightgbm/engine.py:204: UserWarning: Found `num_iterations` in params. Will use it instead of argument\n",
            "  _log_warning(f\"Found `{alias}` in params. Will use it instead of argument\")\n",
            "[I 2025-02-26 01:59:49,624] Trial 66 finished with value: 0.7901960784313725 and parameters: {'learning_rate': 0.12642548316765742, 'max_depth': 8}. Best is trial 45 with value: 0.8247058823529412.\n"
          ]
        },
        {
          "output_type": "stream",
          "name": "stdout",
          "text": [
            "[HPO] accuracy with {'learning_rate': 0.12642548316765742, 'max_depth': 8} :  79.02 %\n"
          ]
        },
        {
          "output_type": "stream",
          "name": "stderr",
          "text": [
            "<ipython-input-391-08b556b39bea>:5: FutureWarning: suggest_loguniform has been deprecated in v3.0.0. This feature will be removed in v6.0.0. See https://github.com/optuna/optuna/releases/tag/v3.0.0. Use suggest_float(..., log=True) instead.\n",
            "  'learning_rate': trial.suggest_loguniform('learning_rate', 0.001, 0.25),\n",
            "/usr/local/lib/python3.11/dist-packages/lightgbm/engine.py:204: UserWarning: Found `num_iterations` in params. Will use it instead of argument\n",
            "  _log_warning(f\"Found `{alias}` in params. Will use it instead of argument\")\n",
            "[I 2025-02-26 01:59:50,492] Trial 67 finished with value: 0.6290196078431373 and parameters: {'learning_rate': 0.15601004319824954, 'max_depth': 4}. Best is trial 45 with value: 0.8247058823529412.\n"
          ]
        },
        {
          "output_type": "stream",
          "name": "stdout",
          "text": [
            "[HPO] accuracy with {'learning_rate': 0.15601004319824954, 'max_depth': 4} :  62.90 %\n"
          ]
        },
        {
          "output_type": "stream",
          "name": "stderr",
          "text": [
            "<ipython-input-391-08b556b39bea>:5: FutureWarning: suggest_loguniform has been deprecated in v3.0.0. This feature will be removed in v6.0.0. See https://github.com/optuna/optuna/releases/tag/v3.0.0. Use suggest_float(..., log=True) instead.\n",
            "  'learning_rate': trial.suggest_loguniform('learning_rate', 0.001, 0.25),\n",
            "/usr/local/lib/python3.11/dist-packages/lightgbm/engine.py:204: UserWarning: Found `num_iterations` in params. Will use it instead of argument\n",
            "  _log_warning(f\"Found `{alias}` in params. Will use it instead of argument\")\n",
            "[I 2025-02-26 01:59:51,184] Trial 68 finished with value: 0.8164705882352942 and parameters: {'learning_rate': 0.24787234539825453, 'max_depth': 12}. Best is trial 45 with value: 0.8247058823529412.\n"
          ]
        },
        {
          "output_type": "stream",
          "name": "stdout",
          "text": [
            "[HPO] accuracy with {'learning_rate': 0.24787234539825453, 'max_depth': 12} :  81.65 %\n"
          ]
        },
        {
          "output_type": "stream",
          "name": "stderr",
          "text": [
            "<ipython-input-391-08b556b39bea>:5: FutureWarning: suggest_loguniform has been deprecated in v3.0.0. This feature will be removed in v6.0.0. See https://github.com/optuna/optuna/releases/tag/v3.0.0. Use suggest_float(..., log=True) instead.\n",
            "  'learning_rate': trial.suggest_loguniform('learning_rate', 0.001, 0.25),\n",
            "/usr/local/lib/python3.11/dist-packages/lightgbm/engine.py:204: UserWarning: Found `num_iterations` in params. Will use it instead of argument\n",
            "  _log_warning(f\"Found `{alias}` in params. Will use it instead of argument\")\n",
            "[I 2025-02-26 01:59:51,641] Trial 69 finished with value: 0.8137254901960784 and parameters: {'learning_rate': 0.20886423981756305, 'max_depth': 10}. Best is trial 45 with value: 0.8247058823529412.\n"
          ]
        },
        {
          "output_type": "stream",
          "name": "stdout",
          "text": [
            "[HPO] accuracy with {'learning_rate': 0.20886423981756305, 'max_depth': 10} :  81.37 %\n"
          ]
        },
        {
          "output_type": "stream",
          "name": "stderr",
          "text": [
            "<ipython-input-391-08b556b39bea>:5: FutureWarning: suggest_loguniform has been deprecated in v3.0.0. This feature will be removed in v6.0.0. See https://github.com/optuna/optuna/releases/tag/v3.0.0. Use suggest_float(..., log=True) instead.\n",
            "  'learning_rate': trial.suggest_loguniform('learning_rate', 0.001, 0.25),\n",
            "/usr/local/lib/python3.11/dist-packages/lightgbm/engine.py:204: UserWarning: Found `num_iterations` in params. Will use it instead of argument\n",
            "  _log_warning(f\"Found `{alias}` in params. Will use it instead of argument\")\n",
            "[I 2025-02-26 01:59:52,101] Trial 70 finished with value: 0.7650980392156863 and parameters: {'learning_rate': 0.07507901518348184, 'max_depth': 14}. Best is trial 45 with value: 0.8247058823529412.\n"
          ]
        },
        {
          "output_type": "stream",
          "name": "stdout",
          "text": [
            "[HPO] accuracy with {'learning_rate': 0.07507901518348184, 'max_depth': 14} :  76.51 %\n"
          ]
        },
        {
          "output_type": "stream",
          "name": "stderr",
          "text": [
            "<ipython-input-391-08b556b39bea>:5: FutureWarning: suggest_loguniform has been deprecated in v3.0.0. This feature will be removed in v6.0.0. See https://github.com/optuna/optuna/releases/tag/v3.0.0. Use suggest_float(..., log=True) instead.\n",
            "  'learning_rate': trial.suggest_loguniform('learning_rate', 0.001, 0.25),\n",
            "/usr/local/lib/python3.11/dist-packages/lightgbm/engine.py:204: UserWarning: Found `num_iterations` in params. Will use it instead of argument\n",
            "  _log_warning(f\"Found `{alias}` in params. Will use it instead of argument\")\n",
            "[I 2025-02-26 01:59:52,532] Trial 71 finished with value: 0.8211764705882353 and parameters: {'learning_rate': 0.18484245736793, 'max_depth': 12}. Best is trial 45 with value: 0.8247058823529412.\n"
          ]
        },
        {
          "output_type": "stream",
          "name": "stdout",
          "text": [
            "[HPO] accuracy with {'learning_rate': 0.18484245736793, 'max_depth': 12} :  82.12 %\n"
          ]
        },
        {
          "output_type": "stream",
          "name": "stderr",
          "text": [
            "<ipython-input-391-08b556b39bea>:5: FutureWarning: suggest_loguniform has been deprecated in v3.0.0. This feature will be removed in v6.0.0. See https://github.com/optuna/optuna/releases/tag/v3.0.0. Use suggest_float(..., log=True) instead.\n",
            "  'learning_rate': trial.suggest_loguniform('learning_rate', 0.001, 0.25),\n",
            "/usr/local/lib/python3.11/dist-packages/lightgbm/engine.py:204: UserWarning: Found `num_iterations` in params. Will use it instead of argument\n",
            "  _log_warning(f\"Found `{alias}` in params. Will use it instead of argument\")\n",
            "[I 2025-02-26 01:59:52,969] Trial 72 finished with value: 0.8109803921568628 and parameters: {'learning_rate': 0.18008704199372222, 'max_depth': 12}. Best is trial 45 with value: 0.8247058823529412.\n"
          ]
        },
        {
          "output_type": "stream",
          "name": "stdout",
          "text": [
            "[HPO] accuracy with {'learning_rate': 0.18008704199372222, 'max_depth': 12} :  81.10 %\n"
          ]
        },
        {
          "output_type": "stream",
          "name": "stderr",
          "text": [
            "<ipython-input-391-08b556b39bea>:5: FutureWarning: suggest_loguniform has been deprecated in v3.0.0. This feature will be removed in v6.0.0. See https://github.com/optuna/optuna/releases/tag/v3.0.0. Use suggest_float(..., log=True) instead.\n",
            "  'learning_rate': trial.suggest_loguniform('learning_rate', 0.001, 0.25),\n",
            "/usr/local/lib/python3.11/dist-packages/lightgbm/engine.py:204: UserWarning: Found `num_iterations` in params. Will use it instead of argument\n",
            "  _log_warning(f\"Found `{alias}` in params. Will use it instead of argument\")\n",
            "[I 2025-02-26 01:59:53,414] Trial 73 finished with value: 0.8019607843137255 and parameters: {'learning_rate': 0.15691073146494844, 'max_depth': 12}. Best is trial 45 with value: 0.8247058823529412.\n"
          ]
        },
        {
          "output_type": "stream",
          "name": "stdout",
          "text": [
            "[HPO] accuracy with {'learning_rate': 0.15691073146494844, 'max_depth': 12} :  80.20 %\n"
          ]
        },
        {
          "output_type": "stream",
          "name": "stderr",
          "text": [
            "<ipython-input-391-08b556b39bea>:5: FutureWarning: suggest_loguniform has been deprecated in v3.0.0. This feature will be removed in v6.0.0. See https://github.com/optuna/optuna/releases/tag/v3.0.0. Use suggest_float(..., log=True) instead.\n",
            "  'learning_rate': trial.suggest_loguniform('learning_rate', 0.001, 0.25),\n",
            "/usr/local/lib/python3.11/dist-packages/lightgbm/engine.py:204: UserWarning: Found `num_iterations` in params. Will use it instead of argument\n",
            "  _log_warning(f\"Found `{alias}` in params. Will use it instead of argument\")\n",
            "[I 2025-02-26 01:59:53,852] Trial 74 finished with value: 0.8027450980392157 and parameters: {'learning_rate': 0.11725507295942464, 'max_depth': 13}. Best is trial 45 with value: 0.8247058823529412.\n"
          ]
        },
        {
          "output_type": "stream",
          "name": "stdout",
          "text": [
            "[HPO] accuracy with {'learning_rate': 0.11725507295942464, 'max_depth': 13} :  80.27 %\n"
          ]
        },
        {
          "output_type": "stream",
          "name": "stderr",
          "text": [
            "<ipython-input-391-08b556b39bea>:5: FutureWarning: suggest_loguniform has been deprecated in v3.0.0. This feature will be removed in v6.0.0. See https://github.com/optuna/optuna/releases/tag/v3.0.0. Use suggest_float(..., log=True) instead.\n",
            "  'learning_rate': trial.suggest_loguniform('learning_rate', 0.001, 0.25),\n",
            "/usr/local/lib/python3.11/dist-packages/lightgbm/engine.py:204: UserWarning: Found `num_iterations` in params. Will use it instead of argument\n",
            "  _log_warning(f\"Found `{alias}` in params. Will use it instead of argument\")\n",
            "[I 2025-02-26 01:59:54,291] Trial 75 finished with value: 0.8109803921568628 and parameters: {'learning_rate': 0.1930101759594731, 'max_depth': 11}. Best is trial 45 with value: 0.8247058823529412.\n"
          ]
        },
        {
          "output_type": "stream",
          "name": "stdout",
          "text": [
            "[HPO] accuracy with {'learning_rate': 0.1930101759594731, 'max_depth': 11} :  81.10 %\n"
          ]
        },
        {
          "output_type": "stream",
          "name": "stderr",
          "text": [
            "<ipython-input-391-08b556b39bea>:5: FutureWarning: suggest_loguniform has been deprecated in v3.0.0. This feature will be removed in v6.0.0. See https://github.com/optuna/optuna/releases/tag/v3.0.0. Use suggest_float(..., log=True) instead.\n",
            "  'learning_rate': trial.suggest_loguniform('learning_rate', 0.001, 0.25),\n",
            "/usr/local/lib/python3.11/dist-packages/lightgbm/engine.py:204: UserWarning: Found `num_iterations` in params. Will use it instead of argument\n",
            "  _log_warning(f\"Found `{alias}` in params. Will use it instead of argument\")\n",
            "[I 2025-02-26 01:59:54,728] Trial 76 finished with value: 0.803921568627451 and parameters: {'learning_rate': 0.13948220288762966, 'max_depth': 12}. Best is trial 45 with value: 0.8247058823529412.\n"
          ]
        },
        {
          "output_type": "stream",
          "name": "stdout",
          "text": [
            "[HPO] accuracy with {'learning_rate': 0.13948220288762966, 'max_depth': 12} :  80.39 %\n"
          ]
        },
        {
          "output_type": "stream",
          "name": "stderr",
          "text": [
            "<ipython-input-391-08b556b39bea>:5: FutureWarning: suggest_loguniform has been deprecated in v3.0.0. This feature will be removed in v6.0.0. See https://github.com/optuna/optuna/releases/tag/v3.0.0. Use suggest_float(..., log=True) instead.\n",
            "  'learning_rate': trial.suggest_loguniform('learning_rate', 0.001, 0.25),\n",
            "/usr/local/lib/python3.11/dist-packages/lightgbm/engine.py:204: UserWarning: Found `num_iterations` in params. Will use it instead of argument\n",
            "  _log_warning(f\"Found `{alias}` in params. Will use it instead of argument\")\n",
            "[I 2025-02-26 01:59:55,182] Trial 77 finished with value: 0.8125490196078431 and parameters: {'learning_rate': 0.19787450678889154, 'max_depth': 14}. Best is trial 45 with value: 0.8247058823529412.\n"
          ]
        },
        {
          "output_type": "stream",
          "name": "stdout",
          "text": [
            "[HPO] accuracy with {'learning_rate': 0.19787450678889154, 'max_depth': 14} :  81.25 %\n"
          ]
        },
        {
          "output_type": "stream",
          "name": "stderr",
          "text": [
            "<ipython-input-391-08b556b39bea>:5: FutureWarning: suggest_loguniform has been deprecated in v3.0.0. This feature will be removed in v6.0.0. See https://github.com/optuna/optuna/releases/tag/v3.0.0. Use suggest_float(..., log=True) instead.\n",
            "  'learning_rate': trial.suggest_loguniform('learning_rate', 0.001, 0.25),\n",
            "/usr/local/lib/python3.11/dist-packages/lightgbm/engine.py:204: UserWarning: Found `num_iterations` in params. Will use it instead of argument\n",
            "  _log_warning(f\"Found `{alias}` in params. Will use it instead of argument\")\n",
            "[I 2025-02-26 01:59:55,646] Trial 78 finished with value: 0.7725490196078432 and parameters: {'learning_rate': 0.09376595392198847, 'max_depth': 10}. Best is trial 45 with value: 0.8247058823529412.\n"
          ]
        },
        {
          "output_type": "stream",
          "name": "stdout",
          "text": [
            "[HPO] accuracy with {'learning_rate': 0.09376595392198847, 'max_depth': 10} :  77.25 %\n"
          ]
        },
        {
          "output_type": "stream",
          "name": "stderr",
          "text": [
            "<ipython-input-391-08b556b39bea>:5: FutureWarning: suggest_loguniform has been deprecated in v3.0.0. This feature will be removed in v6.0.0. See https://github.com/optuna/optuna/releases/tag/v3.0.0. Use suggest_float(..., log=True) instead.\n",
            "  'learning_rate': trial.suggest_loguniform('learning_rate', 0.001, 0.25),\n",
            "/usr/local/lib/python3.11/dist-packages/lightgbm/engine.py:204: UserWarning: Found `num_iterations` in params. Will use it instead of argument\n",
            "  _log_warning(f\"Found `{alias}` in params. Will use it instead of argument\")\n",
            "[I 2025-02-26 01:59:56,080] Trial 79 finished with value: 0.8101960784313725 and parameters: {'learning_rate': 0.1760193611420541, 'max_depth': 13}. Best is trial 45 with value: 0.8247058823529412.\n"
          ]
        },
        {
          "output_type": "stream",
          "name": "stdout",
          "text": [
            "[HPO] accuracy with {'learning_rate': 0.1760193611420541, 'max_depth': 13} :  81.02 %\n"
          ]
        },
        {
          "output_type": "stream",
          "name": "stderr",
          "text": [
            "<ipython-input-391-08b556b39bea>:5: FutureWarning: suggest_loguniform has been deprecated in v3.0.0. This feature will be removed in v6.0.0. See https://github.com/optuna/optuna/releases/tag/v3.0.0. Use suggest_float(..., log=True) instead.\n",
            "  'learning_rate': trial.suggest_loguniform('learning_rate', 0.001, 0.25),\n",
            "/usr/local/lib/python3.11/dist-packages/lightgbm/engine.py:204: UserWarning: Found `num_iterations` in params. Will use it instead of argument\n",
            "  _log_warning(f\"Found `{alias}` in params. Will use it instead of argument\")\n",
            "[I 2025-02-26 01:59:56,505] Trial 80 finished with value: 0.8254901960784313 and parameters: {'learning_rate': 0.225959412813916, 'max_depth': 15}. Best is trial 80 with value: 0.8254901960784313.\n"
          ]
        },
        {
          "output_type": "stream",
          "name": "stdout",
          "text": [
            "[HPO] accuracy with {'learning_rate': 0.225959412813916, 'max_depth': 15} :  82.55 %\n"
          ]
        },
        {
          "output_type": "stream",
          "name": "stderr",
          "text": [
            "<ipython-input-391-08b556b39bea>:5: FutureWarning: suggest_loguniform has been deprecated in v3.0.0. This feature will be removed in v6.0.0. See https://github.com/optuna/optuna/releases/tag/v3.0.0. Use suggest_float(..., log=True) instead.\n",
            "  'learning_rate': trial.suggest_loguniform('learning_rate', 0.001, 0.25),\n",
            "/usr/local/lib/python3.11/dist-packages/lightgbm/engine.py:204: UserWarning: Found `num_iterations` in params. Will use it instead of argument\n",
            "  _log_warning(f\"Found `{alias}` in params. Will use it instead of argument\")\n",
            "[I 2025-02-26 01:59:56,938] Trial 81 finished with value: 0.82 and parameters: {'learning_rate': 0.22026457860801577, 'max_depth': 15}. Best is trial 80 with value: 0.8254901960784313.\n"
          ]
        },
        {
          "output_type": "stream",
          "name": "stdout",
          "text": [
            "[HPO] accuracy with {'learning_rate': 0.22026457860801577, 'max_depth': 15} :  82.00 %\n"
          ]
        },
        {
          "output_type": "stream",
          "name": "stderr",
          "text": [
            "<ipython-input-391-08b556b39bea>:5: FutureWarning: suggest_loguniform has been deprecated in v3.0.0. This feature will be removed in v6.0.0. See https://github.com/optuna/optuna/releases/tag/v3.0.0. Use suggest_float(..., log=True) instead.\n",
            "  'learning_rate': trial.suggest_loguniform('learning_rate', 0.001, 0.25),\n",
            "/usr/local/lib/python3.11/dist-packages/lightgbm/engine.py:204: UserWarning: Found `num_iterations` in params. Will use it instead of argument\n",
            "  _log_warning(f\"Found `{alias}` in params. Will use it instead of argument\")\n",
            "[I 2025-02-26 01:59:57,381] Trial 82 finished with value: 0.8133333333333334 and parameters: {'learning_rate': 0.16280517781254142, 'max_depth': 15}. Best is trial 80 with value: 0.8254901960784313.\n"
          ]
        },
        {
          "output_type": "stream",
          "name": "stdout",
          "text": [
            "[HPO] accuracy with {'learning_rate': 0.16280517781254142, 'max_depth': 15} :  81.33 %\n"
          ]
        },
        {
          "output_type": "stream",
          "name": "stderr",
          "text": [
            "<ipython-input-391-08b556b39bea>:5: FutureWarning: suggest_loguniform has been deprecated in v3.0.0. This feature will be removed in v6.0.0. See https://github.com/optuna/optuna/releases/tag/v3.0.0. Use suggest_float(..., log=True) instead.\n",
            "  'learning_rate': trial.suggest_loguniform('learning_rate', 0.001, 0.25),\n",
            "/usr/local/lib/python3.11/dist-packages/lightgbm/engine.py:204: UserWarning: Found `num_iterations` in params. Will use it instead of argument\n",
            "  _log_warning(f\"Found `{alias}` in params. Will use it instead of argument\")\n",
            "[I 2025-02-26 01:59:57,812] Trial 83 finished with value: 0.8164705882352942 and parameters: {'learning_rate': 0.2153221104243567, 'max_depth': 15}. Best is trial 80 with value: 0.8254901960784313.\n"
          ]
        },
        {
          "output_type": "stream",
          "name": "stdout",
          "text": [
            "[HPO] accuracy with {'learning_rate': 0.2153221104243567, 'max_depth': 15} :  81.65 %\n"
          ]
        },
        {
          "output_type": "stream",
          "name": "stderr",
          "text": [
            "<ipython-input-391-08b556b39bea>:5: FutureWarning: suggest_loguniform has been deprecated in v3.0.0. This feature will be removed in v6.0.0. See https://github.com/optuna/optuna/releases/tag/v3.0.0. Use suggest_float(..., log=True) instead.\n",
            "  'learning_rate': trial.suggest_loguniform('learning_rate', 0.001, 0.25),\n",
            "/usr/local/lib/python3.11/dist-packages/lightgbm/engine.py:204: UserWarning: Found `num_iterations` in params. Will use it instead of argument\n",
            "  _log_warning(f\"Found `{alias}` in params. Will use it instead of argument\")\n",
            "[I 2025-02-26 01:59:58,264] Trial 84 finished with value: 0.7898039215686274 and parameters: {'learning_rate': 0.12276027774173894, 'max_depth': 15}. Best is trial 80 with value: 0.8254901960784313.\n"
          ]
        },
        {
          "output_type": "stream",
          "name": "stdout",
          "text": [
            "[HPO] accuracy with {'learning_rate': 0.12276027774173894, 'max_depth': 15} :  78.98 %\n"
          ]
        },
        {
          "output_type": "stream",
          "name": "stderr",
          "text": [
            "<ipython-input-391-08b556b39bea>:5: FutureWarning: suggest_loguniform has been deprecated in v3.0.0. This feature will be removed in v6.0.0. See https://github.com/optuna/optuna/releases/tag/v3.0.0. Use suggest_float(..., log=True) instead.\n",
            "  'learning_rate': trial.suggest_loguniform('learning_rate', 0.001, 0.25),\n",
            "/usr/local/lib/python3.11/dist-packages/lightgbm/engine.py:204: UserWarning: Found `num_iterations` in params. Will use it instead of argument\n",
            "  _log_warning(f\"Found `{alias}` in params. Will use it instead of argument\")\n",
            "[I 2025-02-26 01:59:58,679] Trial 85 finished with value: 0.8196078431372549 and parameters: {'learning_rate': 0.24891398303202733, 'max_depth': 14}. Best is trial 80 with value: 0.8254901960784313.\n"
          ]
        },
        {
          "output_type": "stream",
          "name": "stdout",
          "text": [
            "[HPO] accuracy with {'learning_rate': 0.24891398303202733, 'max_depth': 14} :  81.96 %\n"
          ]
        },
        {
          "output_type": "stream",
          "name": "stderr",
          "text": [
            "<ipython-input-391-08b556b39bea>:5: FutureWarning: suggest_loguniform has been deprecated in v3.0.0. This feature will be removed in v6.0.0. See https://github.com/optuna/optuna/releases/tag/v3.0.0. Use suggest_float(..., log=True) instead.\n",
            "  'learning_rate': trial.suggest_loguniform('learning_rate', 0.001, 0.25),\n",
            "/usr/local/lib/python3.11/dist-packages/lightgbm/engine.py:204: UserWarning: Found `num_iterations` in params. Will use it instead of argument\n",
            "  _log_warning(f\"Found `{alias}` in params. Will use it instead of argument\")\n",
            "[I 2025-02-26 01:59:59,147] Trial 86 finished with value: 0.8203921568627451 and parameters: {'learning_rate': 0.21926929381949517, 'max_depth': 14}. Best is trial 80 with value: 0.8254901960784313.\n"
          ]
        },
        {
          "output_type": "stream",
          "name": "stdout",
          "text": [
            "[HPO] accuracy with {'learning_rate': 0.21926929381949517, 'max_depth': 14} :  82.04 %\n"
          ]
        },
        {
          "output_type": "stream",
          "name": "stderr",
          "text": [
            "<ipython-input-391-08b556b39bea>:5: FutureWarning: suggest_loguniform has been deprecated in v3.0.0. This feature will be removed in v6.0.0. See https://github.com/optuna/optuna/releases/tag/v3.0.0. Use suggest_float(..., log=True) instead.\n",
            "  'learning_rate': trial.suggest_loguniform('learning_rate', 0.001, 0.25),\n",
            "/usr/local/lib/python3.11/dist-packages/lightgbm/engine.py:204: UserWarning: Found `num_iterations` in params. Will use it instead of argument\n",
            "  _log_warning(f\"Found `{alias}` in params. Will use it instead of argument\")\n",
            "[I 2025-02-26 01:59:59,584] Trial 87 finished with value: 0.8266666666666667 and parameters: {'learning_rate': 0.19586203893535062, 'max_depth': 15}. Best is trial 87 with value: 0.8266666666666667.\n"
          ]
        },
        {
          "output_type": "stream",
          "name": "stdout",
          "text": [
            "[HPO] accuracy with {'learning_rate': 0.19586203893535062, 'max_depth': 15} :  82.67 %\n"
          ]
        },
        {
          "output_type": "stream",
          "name": "stderr",
          "text": [
            "<ipython-input-391-08b556b39bea>:5: FutureWarning: suggest_loguniform has been deprecated in v3.0.0. This feature will be removed in v6.0.0. See https://github.com/optuna/optuna/releases/tag/v3.0.0. Use suggest_float(..., log=True) instead.\n",
            "  'learning_rate': trial.suggest_loguniform('learning_rate', 0.001, 0.25),\n",
            "/usr/local/lib/python3.11/dist-packages/lightgbm/engine.py:204: UserWarning: Found `num_iterations` in params. Will use it instead of argument\n",
            "  _log_warning(f\"Found `{alias}` in params. Will use it instead of argument\")\n",
            "[I 2025-02-26 02:00:00,045] Trial 88 finished with value: 0.8137254901960784 and parameters: {'learning_rate': 0.14075525819430773, 'max_depth': 15}. Best is trial 87 with value: 0.8266666666666667.\n"
          ]
        },
        {
          "output_type": "stream",
          "name": "stdout",
          "text": [
            "[HPO] accuracy with {'learning_rate': 0.14075525819430773, 'max_depth': 15} :  81.37 %\n"
          ]
        },
        {
          "output_type": "stream",
          "name": "stderr",
          "text": [
            "<ipython-input-391-08b556b39bea>:5: FutureWarning: suggest_loguniform has been deprecated in v3.0.0. This feature will be removed in v6.0.0. See https://github.com/optuna/optuna/releases/tag/v3.0.0. Use suggest_float(..., log=True) instead.\n",
            "  'learning_rate': trial.suggest_loguniform('learning_rate', 0.001, 0.25),\n",
            "/usr/local/lib/python3.11/dist-packages/lightgbm/engine.py:204: UserWarning: Found `num_iterations` in params. Will use it instead of argument\n",
            "  _log_warning(f\"Found `{alias}` in params. Will use it instead of argument\")\n",
            "[I 2025-02-26 02:00:00,475] Trial 89 finished with value: 0.8113725490196079 and parameters: {'learning_rate': 0.18614751772307833, 'max_depth': 15}. Best is trial 87 with value: 0.8266666666666667.\n"
          ]
        },
        {
          "output_type": "stream",
          "name": "stdout",
          "text": [
            "[HPO] accuracy with {'learning_rate': 0.18614751772307833, 'max_depth': 15} :  81.14 %\n"
          ]
        },
        {
          "output_type": "stream",
          "name": "stderr",
          "text": [
            "<ipython-input-391-08b556b39bea>:5: FutureWarning: suggest_loguniform has been deprecated in v3.0.0. This feature will be removed in v6.0.0. See https://github.com/optuna/optuna/releases/tag/v3.0.0. Use suggest_float(..., log=True) instead.\n",
            "  'learning_rate': trial.suggest_loguniform('learning_rate', 0.001, 0.25),\n",
            "/usr/local/lib/python3.11/dist-packages/lightgbm/engine.py:204: UserWarning: Found `num_iterations` in params. Will use it instead of argument\n",
            "  _log_warning(f\"Found `{alias}` in params. Will use it instead of argument\")\n",
            "[I 2025-02-26 02:00:01,011] Trial 90 finished with value: 0.8231372549019608 and parameters: {'learning_rate': 0.22840067007568504, 'max_depth': 14}. Best is trial 87 with value: 0.8266666666666667.\n"
          ]
        },
        {
          "output_type": "stream",
          "name": "stdout",
          "text": [
            "[HPO] accuracy with {'learning_rate': 0.22840067007568504, 'max_depth': 14} :  82.31 %\n"
          ]
        },
        {
          "output_type": "stream",
          "name": "stderr",
          "text": [
            "<ipython-input-391-08b556b39bea>:5: FutureWarning: suggest_loguniform has been deprecated in v3.0.0. This feature will be removed in v6.0.0. See https://github.com/optuna/optuna/releases/tag/v3.0.0. Use suggest_float(..., log=True) instead.\n",
            "  'learning_rate': trial.suggest_loguniform('learning_rate', 0.001, 0.25),\n",
            "/usr/local/lib/python3.11/dist-packages/lightgbm/engine.py:204: UserWarning: Found `num_iterations` in params. Will use it instead of argument\n",
            "  _log_warning(f\"Found `{alias}` in params. Will use it instead of argument\")\n",
            "[I 2025-02-26 02:00:01,654] Trial 91 finished with value: 0.8188235294117647 and parameters: {'learning_rate': 0.22520854020646194, 'max_depth': 14}. Best is trial 87 with value: 0.8266666666666667.\n"
          ]
        },
        {
          "output_type": "stream",
          "name": "stdout",
          "text": [
            "[HPO] accuracy with {'learning_rate': 0.22520854020646194, 'max_depth': 14} :  81.88 %\n"
          ]
        },
        {
          "output_type": "stream",
          "name": "stderr",
          "text": [
            "<ipython-input-391-08b556b39bea>:5: FutureWarning: suggest_loguniform has been deprecated in v3.0.0. This feature will be removed in v6.0.0. See https://github.com/optuna/optuna/releases/tag/v3.0.0. Use suggest_float(..., log=True) instead.\n",
            "  'learning_rate': trial.suggest_loguniform('learning_rate', 0.001, 0.25),\n",
            "/usr/local/lib/python3.11/dist-packages/lightgbm/engine.py:204: UserWarning: Found `num_iterations` in params. Will use it instead of argument\n",
            "  _log_warning(f\"Found `{alias}` in params. Will use it instead of argument\")\n",
            "[I 2025-02-26 02:00:02,254] Trial 92 finished with value: 0.8207843137254902 and parameters: {'learning_rate': 0.21933555134289254, 'max_depth': 14}. Best is trial 87 with value: 0.8266666666666667.\n"
          ]
        },
        {
          "output_type": "stream",
          "name": "stdout",
          "text": [
            "[HPO] accuracy with {'learning_rate': 0.21933555134289254, 'max_depth': 14} :  82.08 %\n"
          ]
        },
        {
          "output_type": "stream",
          "name": "stderr",
          "text": [
            "<ipython-input-391-08b556b39bea>:5: FutureWarning: suggest_loguniform has been deprecated in v3.0.0. This feature will be removed in v6.0.0. See https://github.com/optuna/optuna/releases/tag/v3.0.0. Use suggest_float(..., log=True) instead.\n",
            "  'learning_rate': trial.suggest_loguniform('learning_rate', 0.001, 0.25),\n",
            "/usr/local/lib/python3.11/dist-packages/lightgbm/engine.py:204: UserWarning: Found `num_iterations` in params. Will use it instead of argument\n",
            "  _log_warning(f\"Found `{alias}` in params. Will use it instead of argument\")\n",
            "[I 2025-02-26 02:00:02,759] Trial 93 finished with value: 0.6635294117647059 and parameters: {'learning_rate': 0.02465444315946933, 'max_depth': 14}. Best is trial 87 with value: 0.8266666666666667.\n"
          ]
        },
        {
          "output_type": "stream",
          "name": "stdout",
          "text": [
            "[HPO] accuracy with {'learning_rate': 0.02465444315946933, 'max_depth': 14} :  66.35 %\n"
          ]
        },
        {
          "output_type": "stream",
          "name": "stderr",
          "text": [
            "<ipython-input-391-08b556b39bea>:5: FutureWarning: suggest_loguniform has been deprecated in v3.0.0. This feature will be removed in v6.0.0. See https://github.com/optuna/optuna/releases/tag/v3.0.0. Use suggest_float(..., log=True) instead.\n",
            "  'learning_rate': trial.suggest_loguniform('learning_rate', 0.001, 0.25),\n",
            "/usr/local/lib/python3.11/dist-packages/lightgbm/engine.py:204: UserWarning: Found `num_iterations` in params. Will use it instead of argument\n",
            "  _log_warning(f\"Found `{alias}` in params. Will use it instead of argument\")\n",
            "[I 2025-02-26 02:00:03,226] Trial 94 finished with value: 0.8141176470588235 and parameters: {'learning_rate': 0.18816911059572602, 'max_depth': 14}. Best is trial 87 with value: 0.8266666666666667.\n"
          ]
        },
        {
          "output_type": "stream",
          "name": "stdout",
          "text": [
            "[HPO] accuracy with {'learning_rate': 0.18816911059572602, 'max_depth': 14} :  81.41 %\n"
          ]
        },
        {
          "output_type": "stream",
          "name": "stderr",
          "text": [
            "<ipython-input-391-08b556b39bea>:5: FutureWarning: suggest_loguniform has been deprecated in v3.0.0. This feature will be removed in v6.0.0. See https://github.com/optuna/optuna/releases/tag/v3.0.0. Use suggest_float(..., log=True) instead.\n",
            "  'learning_rate': trial.suggest_loguniform('learning_rate', 0.001, 0.25),\n",
            "/usr/local/lib/python3.11/dist-packages/lightgbm/engine.py:204: UserWarning: Found `num_iterations` in params. Will use it instead of argument\n",
            "  _log_warning(f\"Found `{alias}` in params. Will use it instead of argument\")\n",
            "[I 2025-02-26 02:00:03,682] Trial 95 finished with value: 0.8113725490196079 and parameters: {'learning_rate': 0.1625297197681981, 'max_depth': 15}. Best is trial 87 with value: 0.8266666666666667.\n"
          ]
        },
        {
          "output_type": "stream",
          "name": "stdout",
          "text": [
            "[HPO] accuracy with {'learning_rate': 0.1625297197681981, 'max_depth': 15} :  81.14 %\n"
          ]
        },
        {
          "output_type": "stream",
          "name": "stderr",
          "text": [
            "<ipython-input-391-08b556b39bea>:5: FutureWarning: suggest_loguniform has been deprecated in v3.0.0. This feature will be removed in v6.0.0. See https://github.com/optuna/optuna/releases/tag/v3.0.0. Use suggest_float(..., log=True) instead.\n",
            "  'learning_rate': trial.suggest_loguniform('learning_rate', 0.001, 0.25),\n",
            "/usr/local/lib/python3.11/dist-packages/lightgbm/engine.py:204: UserWarning: Found `num_iterations` in params. Will use it instead of argument\n",
            "  _log_warning(f\"Found `{alias}` in params. Will use it instead of argument\")\n",
            "[I 2025-02-26 02:00:04,138] Trial 96 finished with value: 0.7980392156862746 and parameters: {'learning_rate': 0.13419057860476197, 'max_depth': 14}. Best is trial 87 with value: 0.8266666666666667.\n"
          ]
        },
        {
          "output_type": "stream",
          "name": "stdout",
          "text": [
            "[HPO] accuracy with {'learning_rate': 0.13419057860476197, 'max_depth': 14} :  79.80 %\n"
          ]
        },
        {
          "output_type": "stream",
          "name": "stderr",
          "text": [
            "<ipython-input-391-08b556b39bea>:5: FutureWarning: suggest_loguniform has been deprecated in v3.0.0. This feature will be removed in v6.0.0. See https://github.com/optuna/optuna/releases/tag/v3.0.0. Use suggest_float(..., log=True) instead.\n",
            "  'learning_rate': trial.suggest_loguniform('learning_rate', 0.001, 0.25),\n",
            "/usr/local/lib/python3.11/dist-packages/lightgbm/engine.py:204: UserWarning: Found `num_iterations` in params. Will use it instead of argument\n",
            "  _log_warning(f\"Found `{alias}` in params. Will use it instead of argument\")\n",
            "[I 2025-02-26 02:00:04,574] Trial 97 finished with value: 0.8219607843137255 and parameters: {'learning_rate': 0.22280868072456347, 'max_depth': 15}. Best is trial 87 with value: 0.8266666666666667.\n"
          ]
        },
        {
          "output_type": "stream",
          "name": "stdout",
          "text": [
            "[HPO] accuracy with {'learning_rate': 0.22280868072456347, 'max_depth': 15} :  82.20 %\n"
          ]
        },
        {
          "output_type": "stream",
          "name": "stderr",
          "text": [
            "<ipython-input-391-08b556b39bea>:5: FutureWarning: suggest_loguniform has been deprecated in v3.0.0. This feature will be removed in v6.0.0. See https://github.com/optuna/optuna/releases/tag/v3.0.0. Use suggest_float(..., log=True) instead.\n",
            "  'learning_rate': trial.suggest_loguniform('learning_rate', 0.001, 0.25),\n",
            "/usr/local/lib/python3.11/dist-packages/lightgbm/engine.py:204: UserWarning: Found `num_iterations` in params. Will use it instead of argument\n",
            "  _log_warning(f\"Found `{alias}` in params. Will use it instead of argument\")\n",
            "[I 2025-02-26 02:00:05,023] Trial 98 finished with value: 0.7968627450980392 and parameters: {'learning_rate': 0.11381725655391668, 'max_depth': 15}. Best is trial 87 with value: 0.8266666666666667.\n"
          ]
        },
        {
          "output_type": "stream",
          "name": "stdout",
          "text": [
            "[HPO] accuracy with {'learning_rate': 0.11381725655391668, 'max_depth': 15} :  79.69 %\n"
          ]
        },
        {
          "output_type": "stream",
          "name": "stderr",
          "text": [
            "<ipython-input-391-08b556b39bea>:5: FutureWarning: suggest_loguniform has been deprecated in v3.0.0. This feature will be removed in v6.0.0. See https://github.com/optuna/optuna/releases/tag/v3.0.0. Use suggest_float(..., log=True) instead.\n",
            "  'learning_rate': trial.suggest_loguniform('learning_rate', 0.001, 0.25),\n",
            "/usr/local/lib/python3.11/dist-packages/lightgbm/engine.py:204: UserWarning: Found `num_iterations` in params. Will use it instead of argument\n",
            "  _log_warning(f\"Found `{alias}` in params. Will use it instead of argument\")\n",
            "[I 2025-02-26 02:00:05,457] Trial 99 finished with value: 0.8235294117647058 and parameters: {'learning_rate': 0.2475909040515442, 'max_depth': 15}. Best is trial 87 with value: 0.8266666666666667.\n"
          ]
        },
        {
          "output_type": "stream",
          "name": "stdout",
          "text": [
            "[HPO] accuracy with {'learning_rate': 0.2475909040515442, 'max_depth': 15} :  82.35 %\n"
          ]
        }
      ]
    },
    {
      "cell_type": "code",
      "source": [
        "# 최적의 하이퍼파라미터 확인\n",
        "\n",
        "best_params_optuna = study.best_params\n",
        "\n",
        "print(f'Best Parameters : {best_params_optuna}')"
      ],
      "metadata": {
        "colab": {
          "base_uri": "https://localhost:8080/"
        },
        "id": "aQVBq0g9-Aul",
        "outputId": "ae26a08f-4cee-4859-e806-fa16d7d7c107"
      },
      "execution_count": 393,
      "outputs": [
        {
          "output_type": "stream",
          "name": "stdout",
          "text": [
            "Best Parameters : {'learning_rate': 0.19586203893535062, 'max_depth': 15}\n"
          ]
        }
      ]
    },
    {
      "cell_type": "code",
      "source": [
        "# 최적의 하이퍼파라미터를 이용한 모델 학습 및 테스트\n",
        "\n",
        "final_model = lgb.LGBMClassifier(\n",
        "        objective='multiclass',\n",
        "        metric='multi_logloss',\n",
        "        boosting_type='gbdt',\n",
        "        verbosity=-1,\n",
        "        **best_params_optuna\n",
        ")\n",
        "final_model.fit(X_train, y_train)\n",
        "\n",
        "# 평가\n",
        "preds_test = final_model.predict(X_test)\n",
        "accuracy_test = accuracy_score(y_test, preds_test)\n",
        "\n",
        "print(f'[FINAL] accuracy: {(100 * accuracy_test):6.2f} %')"
      ],
      "metadata": {
        "colab": {
          "base_uri": "https://localhost:8080/"
        },
        "id": "uDekFtJd-Aw3",
        "outputId": "ada351ab-a851-4ee0-a5fc-f13448932a25"
      },
      "execution_count": 394,
      "outputs": [
        {
          "output_type": "stream",
          "name": "stdout",
          "text": [
            "[FINAL] accuracy:  83.00 %\n"
          ]
        }
      ]
    }
  ]
}